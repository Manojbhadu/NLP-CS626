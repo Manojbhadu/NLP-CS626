{
 "cells": [
  {
   "cell_type": "code",
   "execution_count": 23,
   "metadata": {
    "colab": {},
    "colab_type": "code",
    "id": "Z6hZIT1Cbeyj"
   },
   "outputs": [],
   "source": [
    "import nltk\n",
    "import numpy as np\n",
    "import pandas as pd\n",
    "from sklearn.model_selection import train_test_split"
   ]
  },
  {
   "cell_type": "code",
   "execution_count": 24,
   "metadata": {
    "colab": {
     "base_uri": "https://localhost:8080/",
     "height": 102
    },
    "colab_type": "code",
    "id": "MK7z5ERJbey3",
    "outputId": "7ee8324d-8ef3-40c8-95cf-a387d162e848"
   },
   "outputs": [
    {
     "name": "stdout",
     "output_type": "stream",
     "text": [
      "[nltk_data] Downloading package brown to /root/nltk_data...\n",
      "[nltk_data]   Package brown is already up-to-date!\n",
      "[nltk_data] Downloading package universal_tagset to /root/nltk_data...\n",
      "[nltk_data]   Package universal_tagset is already up-to-date!\n"
     ]
    },
    {
     "data": {
      "text/plain": [
       "True"
      ]
     },
     "execution_count": 24,
     "metadata": {
      "tags": []
     },
     "output_type": "execute_result"
    }
   ],
   "source": [
    "nltk.download('brown')\n",
    "nltk.download('universal_tagset')"
   ]
  },
  {
   "cell_type": "code",
   "execution_count": 25,
   "metadata": {
    "colab": {},
    "colab_type": "code",
    "id": "mqiK0kP3bezE"
   },
   "outputs": [],
   "source": [
    "brown_corpus_sent = list(nltk.corpus.brown.tagged_sents(tagset='universal'))"
   ]
  },
  {
   "cell_type": "code",
   "execution_count": 26,
   "metadata": {
    "colab": {
     "base_uri": "https://localhost:8080/",
     "height": 68
    },
    "colab_type": "code",
    "id": "EukxIeOsbezL",
    "outputId": "5db300b3-03fa-4ba0-8bc7-2dd0371357e5"
   },
   "outputs": [
    {
     "name": "stdout",
     "output_type": "stream",
     "text": [
      "Total sentences with tags:  57340\n",
      "total tagged words: 1161192\n"
     ]
    },
    {
     "data": {
      "text/plain": [
       "('Fulton', 'NOUN')"
      ]
     },
     "execution_count": 26,
     "metadata": {
      "tags": []
     },
     "output_type": "execute_result"
    }
   ],
   "source": [
    "print(\"Total sentences with tags: \", len(brown_corpus_sent))\n",
    "print(\"total tagged words:\", len(nltk.corpus.brown.tagged_words()))\n",
    "brown_corpus_sent[0][1]"
   ]
  },
  {
   "cell_type": "markdown",
   "metadata": {
    "colab_type": "text",
    "id": "xnmRttMfbezS"
   },
   "source": [
    "#### Pre processing"
   ]
  },
  {
   "cell_type": "code",
   "execution_count": 27,
   "metadata": {
    "colab": {},
    "colab_type": "code",
    "id": "t9_iqJFLbezU"
   },
   "outputs": [],
   "source": [
    "sentences, sentence_tags =[], [] \n",
    "for tagged_sentence in brown_corpus_sent:\n",
    "    sentence, tags = zip(*tagged_sentence)\n",
    "    sentences.append(np.array(sentence))\n",
    "    sentence_tags.append(np.array(tags))\n"
   ]
  },
  {
   "cell_type": "code",
   "execution_count": 28,
   "metadata": {
    "colab": {},
    "colab_type": "code",
    "id": "uqTZW6tupejL"
   },
   "outputs": [],
   "source": [
    "num_sents = len(sentences)\n",
    "k = 5\n",
    "foldsize = int(num_sents/5)\n",
    "\n",
    "\n",
    "k_folds = {}\n",
    "for i in range(5):\n",
    "    # Locate the test set in the fold.\n",
    "    k_folds[\"test_sent{0}\".format(i)] = sentences[i*foldsize:i*foldsize+foldsize]\n",
    "    k_folds[\"train_sent{0}\".format(i)] = sentences[:i*foldsize] + sentences[i*foldsize+foldsize:]\n",
    "    k_folds[\"test_tags{0}\".format(i)] = sentence_tags[i*foldsize:i*foldsize+foldsize]\n",
    "    k_folds[\"train_tags{0}\".format(i)] = sentence_tags[:i*foldsize] + sentence_tags[i*foldsize+foldsize:]"
   ]
  },
  {
   "cell_type": "code",
   "execution_count": 29,
   "metadata": {
    "colab": {},
    "colab_type": "code",
    "id": "CfUCRHDYqWWd"
   },
   "outputs": [],
   "source": [
    "training_sentences, test_sentences, training_tags, test_tags = k_folds['train_sent4'],k_folds['test_sent4'],k_folds['train_tags4'],k_folds['test_tags4']"
   ]
  },
  {
   "cell_type": "code",
   "execution_count": 30,
   "metadata": {
    "colab": {},
    "colab_type": "code",
    "id": "4QpCZPOYbezj"
   },
   "outputs": [],
   "source": [
    "vocab = set([])\n",
    "unique_tags = set([])\n",
    "for sent in training_sentences:\n",
    "    for word in sent:\n",
    "        vocab.add(word.lower())\n",
    "for sent_tag in training_tags:\n",
    "    for tag in sent_tag:\n",
    "        unique_tags.add(tag)"
   ]
  },
  {
   "cell_type": "code",
   "execution_count": 33,
   "metadata": {
    "colab": {
     "base_uri": "https://localhost:8080/",
     "height": 34
    },
    "colab_type": "code",
    "id": "dXcmYz1Mbezt",
    "outputId": "9dc8aea5-e13f-4ad6-a8c8-19c7b8d7de99"
   },
   "outputs": [
    {
     "name": "stdout",
     "output_type": "stream",
     "text": [
      "12 45755\n"
     ]
    }
   ],
   "source": [
    "print(len(unique_tags),len(vocab))"
   ]
  },
  {
   "cell_type": "code",
   "execution_count": 34,
   "metadata": {
    "colab": {},
    "colab_type": "code",
    "id": "wFIaDGSobez0"
   },
   "outputs": [],
   "source": [
    "#Converting words to integer and adding pad and unkonwn words as integer as 0 and 1\n",
    "word2int = {word: i + 2 for i, word in enumerate(list(vocab))}\n",
    "word2int['-PAD-'] = 0\n",
    "word2int['-UNK-'] = 1 \n",
    " \n",
    "tag2int = {tag: i + 1 for i, tag in enumerate(list(unique_tags))}\n",
    "tag2int['-PAD-'] = 0  "
   ]
  },
  {
   "cell_type": "code",
   "execution_count": 35,
   "metadata": {
    "colab": {
     "base_uri": "https://localhost:8080/",
     "height": 34
    },
    "colab_type": "code",
    "id": "IpDv7b7Tbez7",
    "outputId": "a8d29c0f-1ec7-487f-df0b-39ded0203bd9"
   },
   "outputs": [
    {
     "data": {
      "text/plain": [
       "(28154, 8)"
      ]
     },
     "execution_count": 35,
     "metadata": {
      "tags": []
     },
     "output_type": "execute_result"
    }
   ],
   "source": [
    "word2int['were'], tag2int[\"ADJ\"]"
   ]
  },
  {
   "cell_type": "code",
   "execution_count": 36,
   "metadata": {
    "colab": {},
    "colab_type": "code",
    "id": "3uIuF22Nbe0C"
   },
   "outputs": [],
   "source": [
    "#Convert test and trainig dataset to integer\n",
    "X_train, X_test, Y_train, Y_test = [],[],[],[]\n",
    "for sent in training_sentences:\n",
    "    sent_to_int = []\n",
    "    for word in sent:\n",
    "        try:\n",
    "            sent_to_int.append(word2int[word.lower()])\n",
    "        except KeyError:\n",
    "            sent_to_int.append(word2int['-UNK-'])\n",
    "    X_train.append(sent_to_int)\n",
    "\n",
    "for sent in test_sentences:\n",
    "    sent_to_int = []\n",
    "    for word in sent:\n",
    "        try:\n",
    "            sent_to_int.append(word2int[word.lower()])\n",
    "        except KeyError:\n",
    "            sent_to_int.append(word2int['-UNK-'])\n",
    "    X_test.append(sent_to_int)\n",
    "    \n",
    "    \n",
    "for sent_tag in training_tags:\n",
    "    Y_train.append([tag2int[tag] for tag in sent_tag])\n",
    "    \n",
    "for sent_tag in test_tags:\n",
    "    Y_test.append([tag2int[tag] for tag in sent_tag])"
   ]
  },
  {
   "cell_type": "code",
   "execution_count": 37,
   "metadata": {
    "colab": {
     "base_uri": "https://localhost:8080/",
     "height": 105
    },
    "colab_type": "code",
    "id": "x3nxnJ83be0H",
    "outputId": "64e04b50-c120-48d5-f8ed-00e79016570d"
   },
   "outputs": [
    {
     "name": "stdout",
     "output_type": "stream",
     "text": [
      "[39888, 23054, 43783, 5751, 42582, 25707, 2961, 7128, 36824, 13516, 31658, 38472, 2281, 2999, 12109, 32679, 33486, 41231, 6641, 21442, 44434, 8826, 24664, 17828, 3941] \n",
      " [10, 12, 12, 8, 12, 11, 12, 10, 12, 3, 12, 8, 12, 12, 11, 1, 10, 12, 1, 3, 10, 12, 11, 12, 1]\n",
      "[39888, 27669, 41019, 4439, 45678, 18030, 17938, 41784, 43276, 31090, 26831, 21736, 7791, 38192, 11462, 3941] \n",
      " [10, 12, 11, 3, 10, 8, 12, 1, 2, 9, 11, 11, 9, 3, 9, 1]\n"
     ]
    }
   ],
   "source": [
    "print(X_train[0],\"\\n\",Y_train[0])\n",
    "print(X_test[0],\"\\n\",Y_test[0])"
   ]
  },
  {
   "cell_type": "code",
   "execution_count": 38,
   "metadata": {
    "colab": {
     "base_uri": "https://localhost:8080/",
     "height": 34
    },
    "colab_type": "code",
    "id": "aS_yp4S-be0O",
    "outputId": "7a40ffd4-16d1-4cc7-f23d-0cc21f63b5cc"
   },
   "outputs": [
    {
     "name": "stdout",
     "output_type": "stream",
     "text": [
      "180\n"
     ]
    }
   ],
   "source": [
    "#Now we add padding to every sentence for equalling the length to max length of sentences\n",
    "MAX_LENGTH = len(max(X_train, key=len))\n",
    "print(MAX_LENGTH) \n"
   ]
  },
  {
   "cell_type": "code",
   "execution_count": 39,
   "metadata": {
    "colab": {},
    "colab_type": "code",
    "id": "8hYBacvube0T"
   },
   "outputs": [],
   "source": [
    "from keras.preprocessing.sequence import pad_sequences\n",
    "\n",
    "X_train = pad_sequences(X_train, maxlen=MAX_LENGTH, padding='post')\n",
    "X_test = pad_sequences(X_test, maxlen=MAX_LENGTH, padding='post')\n",
    "Y_train = pad_sequences(Y_train, maxlen=MAX_LENGTH, padding='post')\n",
    "Y_test = pad_sequences(Y_test, maxlen=MAX_LENGTH, padding='post')\n",
    " \n",
    "#print(X_train[0])\n",
    "#print(X_test[0])\n",
    "#print(Y_train[0])\n",
    "#print(Y_test[0])"
   ]
  },
  {
   "cell_type": "markdown",
   "metadata": {
    "colab_type": "text",
    "id": "hzJv0Y0DJNId"
   },
   "source": [
    "### Model Building using keras"
   ]
  },
  {
   "cell_type": "code",
   "execution_count": 40,
   "metadata": {
    "colab": {},
    "colab_type": "code",
    "id": "ONkKhU7obe0c"
   },
   "outputs": [],
   "source": [
    "#we will define the accuracy without consideration of padding beacause if not then accuracy will be high due to \n",
    "#prediction of padding tags\n",
    "\n",
    "from keras import backend as K\n",
    " \n",
    "def no_pad_accuracy(to_ignore=0):\n",
    "    def ignore_accuracy(y_true, y_pred):\n",
    "        y_true_class = K.argmax(y_true, axis=-1)\n",
    "        y_pred_class = K.argmax(y_pred, axis=-1)\n",
    " \n",
    "        ignore_mask = K.cast(K.not_equal(y_pred_class, to_ignore), 'int32')\n",
    "        matches = K.cast(K.equal(y_true_class, y_pred_class), 'int32') * ignore_mask\n",
    "        accuracy = K.sum(matches) / K.maximum(K.sum(ignore_mask), 1)\n",
    "        return accuracy\n",
    "    return ignore_accuracy"
   ]
  },
  {
   "cell_type": "code",
   "execution_count": 41,
   "metadata": {
    "colab": {},
    "colab_type": "code",
    "id": "A23QZY-7be0h"
   },
   "outputs": [],
   "source": [
    "#Now we define the network architecture\n",
    "#we will use the word embeddins for word to vector\n",
    "#we have used Bidirectional LSTM, and model return a sequence\n",
    "\n",
    "#first import library\n",
    "from keras.models import Sequential\n",
    "from keras.layers import Dense, LSTM, InputLayer, Bidirectional, TimeDistributed, Embedding, Activation\n",
    "from keras.optimizers import Adam"
   ]
  },
  {
   "cell_type": "code",
   "execution_count": 42,
   "metadata": {
    "colab": {
     "base_uri": "https://localhost:8080/",
     "height": 289
    },
    "colab_type": "code",
    "id": "8oPDTMpPbe0m",
    "outputId": "3d2fcdcd-3dde-48c8-a45f-d61480a59d9f"
   },
   "outputs": [
    {
     "name": "stdout",
     "output_type": "stream",
     "text": [
      "Model: \"sequential_1\"\n",
      "_________________________________________________________________\n",
      "Layer (type)                 Output Shape              Param #   \n",
      "=================================================================\n",
      "embedding_1 (Embedding)      (None, 180, 128)          5856896   \n",
      "_________________________________________________________________\n",
      "bidirectional_1 (Bidirection (None, 180, 512)          788480    \n",
      "_________________________________________________________________\n",
      "time_distributed_1 (TimeDist (None, 180, 13)           6669      \n",
      "_________________________________________________________________\n",
      "activation_1 (Activation)    (None, 180, 13)           0         \n",
      "=================================================================\n",
      "Total params: 6,652,045\n",
      "Trainable params: 6,652,045\n",
      "Non-trainable params: 0\n",
      "_________________________________________________________________\n"
     ]
    }
   ],
   "source": [
    "model = Sequential()\n",
    "model.add(InputLayer(input_shape=(MAX_LENGTH, )))\n",
    "model.add(Embedding(len(word2int), 128))\n",
    "model.add(Bidirectional(LSTM(256, return_sequences=True)))\n",
    "model.add(TimeDistributed(Dense(len(tag2int))))\n",
    "model.add(Activation('softmax'))\n",
    " \n",
    "model.compile(loss='categorical_crossentropy',\n",
    "              optimizer=Adam(0.001),\n",
    "              metrics=['accuracy',no_pad_accuracy(0)])\n",
    " \n",
    "model.summary()"
   ]
  },
  {
   "cell_type": "code",
   "execution_count": 43,
   "metadata": {
    "colab": {},
    "colab_type": "code",
    "id": "j9SpzeLxbe0q"
   },
   "outputs": [],
   "source": [
    "#Convert to one hot vector\n",
    "\n",
    "def to_categorical(sequences, categories):\n",
    "    cat_sequences = []\n",
    "    for s in sequences:\n",
    "        cats = []\n",
    "        for item in s:\n",
    "            cats.append(np.zeros(categories))\n",
    "            cats[-1][item] = 1.0\n",
    "        cat_sequences.append(cats)\n",
    "    return np.array(cat_sequences)\n",
    " "
   ]
  },
  {
   "cell_type": "code",
   "execution_count": 44,
   "metadata": {
    "colab": {},
    "colab_type": "code",
    "id": "6XOqkTYZbe0u"
   },
   "outputs": [],
   "source": [
    "cat_train_tags_y = to_categorical(Y_train, len(tag2int))\n"
   ]
  },
  {
   "cell_type": "code",
   "execution_count": 45,
   "metadata": {
    "colab": {
     "base_uri": "https://localhost:8080/",
     "height": 136
    },
    "colab_type": "code",
    "id": "GQQh3VM5be0y",
    "outputId": "cd4f4fcd-6e6b-498f-9c58-16ef05fdaf75"
   },
   "outputs": [
    {
     "data": {
      "text/plain": [
       "array([[0., 0., 0., ..., 1., 0., 0.],\n",
       "       [0., 0., 0., ..., 0., 0., 1.],\n",
       "       [0., 0., 0., ..., 0., 0., 1.],\n",
       "       ...,\n",
       "       [1., 0., 0., ..., 0., 0., 0.],\n",
       "       [1., 0., 0., ..., 0., 0., 0.],\n",
       "       [1., 0., 0., ..., 0., 0., 0.]])"
      ]
     },
     "execution_count": 45,
     "metadata": {
      "tags": []
     },
     "output_type": "execute_result"
    }
   ],
   "source": [
    "cat_train_tags_y[0]"
   ]
  },
  {
   "cell_type": "markdown",
   "metadata": {
    "colab_type": "text",
    "id": "kaEwfFy2Jfnv"
   },
   "source": [
    "### Model Training"
   ]
  },
  {
   "cell_type": "code",
   "execution_count": 46,
   "metadata": {
    "colab": {
     "base_uri": "https://localhost:8080/",
     "height": 394
    },
    "colab_type": "code",
    "id": "t3mzQsLkbe1T",
    "outputId": "06b963ce-1123-4448-8880-41fcab68e4fc"
   },
   "outputs": [
    {
     "name": "stdout",
     "output_type": "stream",
     "text": [
      "Epoch 1/10\n",
      "287/287 [==============================] - 37s 128ms/step - loss: 0.2654 - accuracy: 0.9219 - ignore_accuracy: 0.4193 - val_loss: 0.0656 - val_accuracy: 0.9790 - val_ignore_accuracy: 0.7636\n",
      "Epoch 2/10\n",
      "287/287 [==============================] - 36s 124ms/step - loss: 0.0318 - accuracy: 0.9914 - ignore_accuracy: 0.9315 - val_loss: 0.0146 - val_accuracy: 0.9956 - val_ignore_accuracy: 0.9510\n",
      "Epoch 3/10\n",
      "287/287 [==============================] - 36s 125ms/step - loss: 0.0104 - accuracy: 0.9970 - ignore_accuracy: 0.9760 - val_loss: 0.0120 - val_accuracy: 0.9963 - val_ignore_accuracy: 0.9583\n",
      "Epoch 4/10\n",
      "287/287 [==============================] - 36s 125ms/step - loss: 0.0073 - accuracy: 0.9978 - ignore_accuracy: 0.9824 - val_loss: 0.0112 - val_accuracy: 0.9965 - val_ignore_accuracy: 0.9609\n",
      "Epoch 5/10\n",
      "287/287 [==============================] - 36s 124ms/step - loss: 0.0057 - accuracy: 0.9982 - ignore_accuracy: 0.9860 - val_loss: 0.0112 - val_accuracy: 0.9967 - val_ignore_accuracy: 0.9628\n",
      "Epoch 6/10\n",
      "287/287 [==============================] - 36s 124ms/step - loss: 0.0046 - accuracy: 0.9986 - ignore_accuracy: 0.9888 - val_loss: 0.0114 - val_accuracy: 0.9967 - val_ignore_accuracy: 0.9630\n",
      "Epoch 7/10\n",
      "287/287 [==============================] - 36s 124ms/step - loss: 0.0037 - accuracy: 0.9989 - ignore_accuracy: 0.9910 - val_loss: 0.0119 - val_accuracy: 0.9967 - val_ignore_accuracy: 0.9633\n",
      "Epoch 8/10\n",
      "287/287 [==============================] - 36s 124ms/step - loss: 0.0031 - accuracy: 0.9991 - ignore_accuracy: 0.9927 - val_loss: 0.0122 - val_accuracy: 0.9967 - val_ignore_accuracy: 0.9629\n",
      "Epoch 9/10\n",
      "287/287 [==============================] - 36s 125ms/step - loss: 0.0026 - accuracy: 0.9992 - ignore_accuracy: 0.9939 - val_loss: 0.0128 - val_accuracy: 0.9966 - val_ignore_accuracy: 0.9625\n",
      "Epoch 10/10\n",
      "287/287 [==============================] - 36s 124ms/step - loss: 0.0021 - accuracy: 0.9994 - ignore_accuracy: 0.9950 - val_loss: 0.0135 - val_accuracy: 0.9966 - val_ignore_accuracy: 0.9622\n"
     ]
    },
    {
     "data": {
      "text/plain": [
       "<tensorflow.python.keras.callbacks.History at 0x7f7bd8a046a0>"
      ]
     },
     "execution_count": 46,
     "metadata": {
      "tags": []
     },
     "output_type": "execute_result"
    }
   ],
   "source": [
    "model.fit(X_train, to_categorical(Y_train, len(tag2int)), batch_size=128, epochs=10, validation_split=0.2)\n"
   ]
  },
  {
   "cell_type": "code",
   "execution_count": 47,
   "metadata": {
    "colab": {
     "base_uri": "https://localhost:8080/",
     "height": 51
    },
    "colab_type": "code",
    "id": "83fOhYGlbe1b",
    "outputId": "1d0cb985-5e28-409a-f190-29bd36d5fdb0"
   },
   "outputs": [
    {
     "name": "stdout",
     "output_type": "stream",
     "text": [
      "359/359 [==============================] - 5s 14ms/step - loss: 0.0138 - accuracy: 0.9965 - ignore_accuracy: 0.9601\n",
      "ignore_accuracy: 96.01406455039978\n"
     ]
    }
   ],
   "source": [
    "scores = model.evaluate(X_test, to_categorical(Y_test, len(tag2int)))\n",
    "print(f\"{model.metrics_names[2]}: {scores[2] * 100}\")   "
   ]
  },
  {
   "cell_type": "markdown",
   "metadata": {
    "colab_type": "text",
    "id": "bB6rlP21Gy47"
   },
   "source": [
    "### Sample Example try"
   ]
  },
  {
   "cell_type": "code",
   "execution_count": 48,
   "metadata": {
    "colab": {
     "base_uri": "https://localhost:8080/",
     "height": 34
    },
    "colab_type": "code",
    "id": "uBIkJZVjvoh8",
    "outputId": "df0684e6-5f2a-4c1c-c23a-58b97dfd6a17"
   },
   "outputs": [
    {
     "name": "stdout",
     "output_type": "stream",
     "text": [
      "[['we', 'will', 'be', 'having', 'a', 'quiz', 'on', 'monday', '.'], ['I', 'am', 'very', 'big', 'fan', 'of', 'lionel', \"messi's\", 'playing', 'style', '.']]\n"
     ]
    }
   ],
   "source": [
    "test_samples = [\n",
    "    \"we will be having a quiz on monday .\".split(),\n",
    "    \"I am very big fan of lionel messi's playing style .\".split()\n",
    "]\n",
    "print(test_samples)"
   ]
  },
  {
   "cell_type": "code",
   "execution_count": 49,
   "metadata": {
    "colab": {
     "base_uri": "https://localhost:8080/",
     "height": 527
    },
    "colab_type": "code",
    "id": "qFosmuMxdrJh",
    "outputId": "8b1a3ba7-b9f3-4df6-fd2d-60f6dc161563"
   },
   "outputs": [
    {
     "name": "stdout",
     "output_type": "stream",
     "text": [
      "[[15100 13745 35534 23441 45678  6243 24283 11249  3941     0     0     0\n",
      "      0     0     0     0     0     0     0     0     0     0     0     0\n",
      "      0     0     0     0     0     0     0     0     0     0     0     0\n",
      "      0     0     0     0     0     0     0     0     0     0     0     0\n",
      "      0     0     0     0     0     0     0     0     0     0     0     0\n",
      "      0     0     0     0     0     0     0     0     0     0     0     0\n",
      "      0     0     0     0     0     0     0     0     0     0     0     0\n",
      "      0     0     0     0     0     0     0     0     0     0     0     0\n",
      "      0     0     0     0     0     0     0     0     0     0     0     0\n",
      "      0     0     0     0     0     0     0     0     0     0     0     0\n",
      "      0     0     0     0     0     0     0     0     0     0     0     0\n",
      "      0     0     0     0     0     0     0     0     0     0     0     0\n",
      "      0     0     0     0     0     0     0     0     0     0     0     0\n",
      "      0     0     0     0     0     0     0     0     0     0     0     0\n",
      "      0     0     0     0     0     0     0     0     0     0     0     0]\n",
      " [31090 16214  8198 12644 14989 13516 30345     1 13817 42054  3941     0\n",
      "      0     0     0     0     0     0     0     0     0     0     0     0\n",
      "      0     0     0     0     0     0     0     0     0     0     0     0\n",
      "      0     0     0     0     0     0     0     0     0     0     0     0\n",
      "      0     0     0     0     0     0     0     0     0     0     0     0\n",
      "      0     0     0     0     0     0     0     0     0     0     0     0\n",
      "      0     0     0     0     0     0     0     0     0     0     0     0\n",
      "      0     0     0     0     0     0     0     0     0     0     0     0\n",
      "      0     0     0     0     0     0     0     0     0     0     0     0\n",
      "      0     0     0     0     0     0     0     0     0     0     0     0\n",
      "      0     0     0     0     0     0     0     0     0     0     0     0\n",
      "      0     0     0     0     0     0     0     0     0     0     0     0\n",
      "      0     0     0     0     0     0     0     0     0     0     0     0\n",
      "      0     0     0     0     0     0     0     0     0     0     0     0\n",
      "      0     0     0     0     0     0     0     0     0     0     0     0]]\n"
     ]
    }
   ],
   "source": [
    "test_samples_X = []\n",
    "for s in test_samples:\n",
    "    s_int = []\n",
    "    for w in s:\n",
    "        try:\n",
    "            s_int.append(word2int[w.lower()])\n",
    "        except KeyError:\n",
    "            s_int.append(word2int['-UNK-'])\n",
    "    test_samples_X.append(s_int)\n",
    " \n",
    "test_samples_X = pad_sequences(test_samples_X, maxlen=MAX_LENGTH, padding='post')\n",
    "print(test_samples_X)"
   ]
  },
  {
   "cell_type": "code",
   "execution_count": 50,
   "metadata": {
    "colab": {},
    "colab_type": "code",
    "id": "VNr2gLiTv6T0"
   },
   "outputs": [],
   "source": [
    "def logits_to_tokens(sequences, index):\n",
    "    token_sequences = []\n",
    "    for categorical_sequence in sequences:\n",
    "        token_sequence = []\n",
    "        no_pad_tokens=[]\n",
    "        for categorical in categorical_sequence:\n",
    "            token_sequence.append(index[np.argmax(categorical)])\n",
    "\n",
    "        token_sequences.append(token_sequence)\n",
    "    return token_sequences"
   ]
  },
  {
   "cell_type": "code",
   "execution_count": 51,
   "metadata": {
    "colab": {},
    "colab_type": "code",
    "id": "maRTO2MnyChK"
   },
   "outputs": [],
   "source": [
    "predictions = model.predict(test_samples_X)\n",
    "tag_prediction = (logits_to_tokens(predictions, {i: t for t, i in tag2int.items()}))"
   ]
  },
  {
   "cell_type": "code",
   "execution_count": 1,
   "metadata": {
    "colab": {},
    "colab_type": "code",
    "id": "5M7T0dUNyE1y"
   },
   "outputs": [],
   "source": [
    "#for converting output tag sequence to without \"-PAD\" tag, if no labels given\n",
    "def pred_no_pad_without_labels(predictions):\n",
    "  final_pred = []\n",
    "  for tag_sent in predictions:\n",
    "    tag_sent_no_pad = []\n",
    "    for tags in tag_sent:\n",
    "      if tags == \"-PAD-\":\n",
    "        break\n",
    "      else:\n",
    "        tag_sent_no_pad.append(tags)\n",
    "    final_pred.append(tag_sent_no_pad)\n",
    "  return final_pred"
   ]
  },
  {
   "cell_type": "code",
   "execution_count": 53,
   "metadata": {
    "colab": {
     "base_uri": "https://localhost:8080/",
     "height": 34
    },
    "colab_type": "code",
    "id": "PiGk9FPvUXT-",
    "outputId": "c39cef4e-7874-45c2-eb88-e9821bb5cd13"
   },
   "outputs": [
    {
     "name": "stdout",
     "output_type": "stream",
     "text": [
      "[['PRON', 'VERB', 'VERB', 'VERB', 'DET', 'NOUN', 'ADP', 'NOUN', '.'], ['PRON', 'VERB', 'ADV', 'ADJ', 'NOUN', 'ADP', 'NOUN', 'NOUN', 'VERB', 'NOUN', '.']]\n"
     ]
    }
   ],
   "source": [
    "final_pred = pred_no_pad_without_labels(tag_prediction)\n",
    "print(final_pred)"
   ]
  },
  {
   "cell_type": "code",
   "execution_count": 2,
   "metadata": {
    "colab": {},
    "colab_type": "code",
    "id": "LqAyJc0UyJH_"
   },
   "outputs": [],
   "source": [
    "#for converting output tag sequence to without \"-PAD\" tag, if labels given\n",
    "def pred_no_pad_with_labels(predictions,test_tags):\n",
    "  final_pred = []\n",
    "  for i in range(len(predictions)):\n",
    "    k = min(len(test_tags[i]),len(predictions[i]))\n",
    "    tag_sent_no_pad = []\n",
    "    for j in range(k):\n",
    "      tag_sent_no_pad.append(predictions[i][j])\n",
    "    final_pred.append(tag_sent_no_pad)\n",
    "  return final_pred"
   ]
  },
  {
   "cell_type": "markdown",
   "metadata": {
    "colab_type": "text",
    "id": "qRhaaohvIHOm"
   },
   "source": [
    "### Prediction on test data"
   ]
  },
  {
   "cell_type": "code",
   "execution_count": 55,
   "metadata": {
    "colab": {},
    "colab_type": "code",
    "id": "tD7NzEFiPiP2"
   },
   "outputs": [],
   "source": [
    "test_pred = model.predict(X_test)\n",
    "test_tag_pred = logits_to_tokens(test_pred, {i: t for t, i in tag2int.items()})\n",
    "test_tag_pred_no_pad = pred_no_pad_with_labels(test_tag_pred,test_tags)"
   ]
  },
  {
   "cell_type": "code",
   "execution_count": 56,
   "metadata": {
    "colab": {
     "base_uri": "https://localhost:8080/",
     "height": 34
    },
    "colab_type": "code",
    "id": "c__810Ab1jDA",
    "outputId": "d1274036-2c9c-4899-c8fc-e920d8699b72"
   },
   "outputs": [
    {
     "name": "stdout",
     "output_type": "stream",
     "text": [
      "0\n"
     ]
    }
   ],
   "source": [
    "#for counting if the length of test tag sequneces and predicted tag sequences are equall or not\n",
    "t=0\n",
    "for i in range(len(test_tags)):\n",
    "  for j in range(len(test_tag_pred_no_pad)):\n",
    "    if i==j:\n",
    "      if len(test_tags[i])!=len(test_tag_pred_no_pad[i]):\n",
    "        print(i)\n",
    "        t+=1\n",
    "print(t)"
   ]
  },
  {
   "cell_type": "code",
   "execution_count": 57,
   "metadata": {
    "colab": {},
    "colab_type": "code",
    "id": "Il_LguHxVeKp"
   },
   "outputs": [],
   "source": [
    "d = {\"true_labels\": test_tags, \"predicted_labels\":test_tag_pred_no_pad}\n",
    "pd_pred = pd.DataFrame(data=d)"
   ]
  },
  {
   "cell_type": "code",
   "execution_count": 59,
   "metadata": {
    "colab": {},
    "colab_type": "code",
    "id": "PDtJ95LrTn4k"
   },
   "outputs": [],
   "source": [
    "#for confusion matrix we make a one list for true labels and predicted labels each, \n",
    "test_words = []\n",
    "y_true=[]\n",
    "y_pred=[]\n",
    "for sent in test_tags:\n",
    "  for tag in sent:\n",
    "    y_true.append(tag)\n",
    "\n",
    "for sent in test_tag_pred_no_pad:\n",
    "  for tag in sent:\n",
    "    y_pred.append(tag)\n",
    "\n",
    "for sent in test_sentences:\n",
    "  for word in sent:\n",
    "    test_words.append(word)"
   ]
  },
  {
   "cell_type": "code",
   "execution_count": 60,
   "metadata": {
    "colab": {},
    "colab_type": "code",
    "id": "2al9S9hA2BH0"
   },
   "outputs": [],
   "source": [
    "d5th = {\"words\":test_words,\"true_label\":y_true,\"predicted_lable\":y_pred}\n",
    "dataframe_5th = pd.DataFrame(data=d5th)"
   ]
  },
  {
   "cell_type": "code",
   "execution_count": 61,
   "metadata": {
    "colab": {
     "base_uri": "https://localhost:8080/",
     "height": 204
    },
    "colab_type": "code",
    "id": "_c_qvE9p133U",
    "outputId": "df431dba-9b03-4eac-f720-36cdaa2c3b3e"
   },
   "outputs": [
    {
     "data": {
      "text/html": [
       "<div>\n",
       "<style scoped>\n",
       "    .dataframe tbody tr th:only-of-type {\n",
       "        vertical-align: middle;\n",
       "    }\n",
       "\n",
       "    .dataframe tbody tr th {\n",
       "        vertical-align: top;\n",
       "    }\n",
       "\n",
       "    .dataframe thead th {\n",
       "        text-align: right;\n",
       "    }\n",
       "</style>\n",
       "<table border=\"1\" class=\"dataframe\">\n",
       "  <thead>\n",
       "    <tr style=\"text-align: right;\">\n",
       "      <th></th>\n",
       "      <th>words</th>\n",
       "      <th>true_label</th>\n",
       "      <th>predicted_lable</th>\n",
       "    </tr>\n",
       "  </thead>\n",
       "  <tbody>\n",
       "    <tr>\n",
       "      <th>0</th>\n",
       "      <td>The</td>\n",
       "      <td>DET</td>\n",
       "      <td>DET</td>\n",
       "    </tr>\n",
       "    <tr>\n",
       "      <th>1</th>\n",
       "      <td>quarrel</td>\n",
       "      <td>NOUN</td>\n",
       "      <td>NOUN</td>\n",
       "    </tr>\n",
       "    <tr>\n",
       "      <th>2</th>\n",
       "      <td>ended</td>\n",
       "      <td>VERB</td>\n",
       "      <td>VERB</td>\n",
       "    </tr>\n",
       "    <tr>\n",
       "      <th>3</th>\n",
       "      <td>in</td>\n",
       "      <td>ADP</td>\n",
       "      <td>ADP</td>\n",
       "    </tr>\n",
       "    <tr>\n",
       "      <th>4</th>\n",
       "      <td>a</td>\n",
       "      <td>DET</td>\n",
       "      <td>DET</td>\n",
       "    </tr>\n",
       "  </tbody>\n",
       "</table>\n",
       "</div>"
      ],
      "text/plain": [
       "     words true_label predicted_lable\n",
       "0      The        DET             DET\n",
       "1  quarrel       NOUN            NOUN\n",
       "2    ended       VERB            VERB\n",
       "3       in        ADP             ADP\n",
       "4        a        DET             DET"
      ]
     },
     "execution_count": 61,
     "metadata": {
      "tags": []
     },
     "output_type": "execute_result"
    }
   ],
   "source": [
    "dataframe_5th.head()"
   ]
  },
  {
   "cell_type": "code",
   "execution_count": 62,
   "metadata": {
    "colab": {
     "base_uri": "https://localhost:8080/",
     "height": 462
    },
    "colab_type": "code",
    "id": "28ViweqgDFDK",
    "outputId": "1556a490-a6bc-4061-97df-67c729bd8c74"
   },
   "outputs": [
    {
     "name": "stdout",
     "output_type": "stream",
     "text": [
      "\n",
      "Classification Report\n",
      "\n"
     ]
    },
    {
     "name": "stderr",
     "output_type": "stream",
     "text": [
      "/usr/local/lib/python3.6/dist-packages/sklearn/metrics/_classification.py:1272: UndefinedMetricWarning: Recall and F-score are ill-defined and being set to 0.0 in labels with no true samples. Use `zero_division` parameter to control this behavior.\n",
      "  _warn_prf(average, modifier, msg_start, len(result))\n"
     ]
    },
    {
     "name": "stdout",
     "output_type": "stream",
     "text": [
      "              precision    recall  f1-score   support\n",
      "\n",
      "           .       0.00      0.00      0.00         0\n",
      "        CONJ       1.00      1.00      1.00     29083\n",
      "         ADP       0.89      0.87      0.88      9855\n",
      "         ADV       0.97      0.96      0.96     18434\n",
      "         PRT       0.92      0.90      0.91     10299\n",
      "           X       0.99      1.00      0.99      5974\n",
      "         NUM       0.99      0.98      0.99     20030\n",
      "         ADJ       0.93      0.95      0.94     34030\n",
      "        PRON       0.91      0.97      0.94      1072\n",
      "         DET       0.98      0.99      0.98     13784\n",
      "        VERB       0.92      0.90      0.91      6513\n",
      "        NOUN       0.96      0.96      0.96     32291\n",
      "       -PAD-       0.48      0.12      0.19       181\n",
      "\n",
      "    accuracy                           0.96    181546\n",
      "   macro avg       0.84      0.82      0.82    181546\n",
      "weighted avg       0.96      0.96      0.96    181546\n",
      "\n"
     ]
    }
   ],
   "source": [
    "from sklearn.metrics import classification_report\n",
    "print('\\nClassification Report\\n')\n",
    "print(classification_report(y_true, y_pred, target_names=list(unique_tags)+['-PAD-']))"
   ]
  },
  {
   "cell_type": "code",
   "execution_count": 63,
   "metadata": {
    "colab": {
     "base_uri": "https://localhost:8080/",
     "height": 493
    },
    "colab_type": "code",
    "id": "ivRZXZ3yDrjE",
    "outputId": "d7f0e37c-d42a-445e-e749-d84612ee73fb"
   },
   "outputs": [
    {
     "name": "stdout",
     "output_type": "stream",
     "text": [
      "Confusion Matrix\n",
      "\n",
      "[[29083     0     0     0     0     0     0     0     0     0     0     0\n",
      "      0]\n",
      " [    0  5949     1     1     0     0     0     1     0    15     2     5\n",
      "      0]\n",
      " [    0    23 17642   210   413     0     0    26    39    31    27    23\n",
      "      0]\n",
      " [    0    44   130  9300   103     1     0   369     1    30    74   247\n",
      "      0]\n",
      " [    1     0   334    87  5877     0     0     4     1     2    59   148\n",
      "      0]\n",
      " [    0     0     1     1     1    22     0     3     0     0    26   127\n",
      "      0]\n",
      " [    0     0     1     0     0     0  1040     0     0     0     2    29\n",
      "      0]\n",
      " [    0     0     8   349     7     2     0  8580     0     0   155   754\n",
      "      0]\n",
      " [    0     0    15     3     7     0     0     0 13600   150     1     8\n",
      "      0]\n",
      " [    0     4   102    53     0     0     2     2   196 19665     1     5\n",
      "      0]\n",
      " [    0     0    23    41     5     0     0   132     0     0 31121   969\n",
      "      0]\n",
      " [    0     0    13    68     6    21   101   569     2     1   907 32340\n",
      "      2]\n",
      " [    0     0     0     0     0     0     0     0     0     0     0     0\n",
      "      0]]\n"
     ]
    }
   ],
   "source": [
    "from sklearn.metrics import confusion_matrix\n",
    "confusion = confusion_matrix(y_true, y_pred,labels=list(unique_tags)+['-PAD-'])\n",
    "print('Confusion Matrix\\n')\n",
    "print(confusion)"
   ]
  },
  {
   "cell_type": "code",
   "execution_count": 64,
   "metadata": {
    "colab": {},
    "colab_type": "code",
    "id": "RIF1nqb3Wtt2"
   },
   "outputs": [],
   "source": [
    "pd_confusion = pd.DataFrame((confusion), columns=list(unique_tags)+['-PAD-'],index=list(unique_tags)+['-PAD-'])"
   ]
  }
 ],
 "metadata": {
  "accelerator": "GPU",
  "colab": {
   "collapsed_sections": [],
   "name": "run_on_colab.ipynb",
   "provenance": []
  },
  "kernelspec": {
   "display_name": "Python 3",
   "language": "python",
   "name": "python3"
  },
  "language_info": {
   "codemirror_mode": {
    "name": "ipython",
    "version": 3
   },
   "file_extension": ".py",
   "mimetype": "text/x-python",
   "name": "python",
   "nbconvert_exporter": "python",
   "pygments_lexer": "ipython3",
   "version": "3.8.5"
  }
 },
 "nbformat": 4,
 "nbformat_minor": 1
}
