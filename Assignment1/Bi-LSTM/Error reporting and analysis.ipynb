{
 "cells": [
  {
   "cell_type": "code",
   "execution_count": 83,
   "metadata": {},
   "outputs": [],
   "source": [
    "import numpy as np  # for handling multi-dimensional array operation\n",
    "import pandas as pd  # for reading data from csv \n",
    "import statsmodels.api as sm  # for finding the p-value\n",
    "from sklearn.preprocessing import MinMaxScaler  # for normalization\n",
    "from sklearn.model_selection import train_test_split as tts\n",
    "from sklearn.metrics import accuracy_score \n",
    "from sklearn.utils import shuffle\n",
    "import matplotlib.pyplot as plt"
   ]
  },
  {
   "cell_type": "code",
   "execution_count": 84,
   "metadata": {},
   "outputs": [],
   "source": [
    "def precision(label, confusion_matrix):\n",
    "    col = confusion_matrix[:, label]\n",
    "    return confusion_matrix[label, label] / col.sum()\n",
    "    \n",
    "def recall(label, confusion_matrix):\n",
    "    row = confusion_matrix[label, :]\n",
    "    return confusion_matrix[label, label] / row.sum()\n",
    "\n",
    "def precision_macro_average(confusion_matrix):\n",
    "    rows, columns = confusion_matrix.shape\n",
    "    sum_of_precisions = 0\n",
    "    for label in range(rows):\n",
    "        sum_of_precisions += precision(label, confusion_matrix)\n",
    "    return sum_of_precisions / rows\n",
    "\n",
    "def recall_macro_average(confusion_matrix):\n",
    "    rows, columns = confusion_matrix.shape\n",
    "    sum_of_recalls = 0\n",
    "    for label in range(columns):\n",
    "        sum_of_recalls += recall(label, confusion_matrix)\n",
    "    return sum_of_recalls / columns"
   ]
  },
  {
   "cell_type": "code",
   "execution_count": 126,
   "metadata": {},
   "outputs": [],
   "source": [
    "parent_path = '/home/tushar/Downloads/dataframe_'#'/home/tushar/accuracy_final_new_'#'/home/tushar/Downloads/SVM_accuracy_final_new_'#"
   ]
  },
  {
   "cell_type": "code",
   "execution_count": 127,
   "metadata": {},
   "outputs": [],
   "source": [
    "pred_col = 'pred'\n",
    "actual_col = 'actual'"
   ]
  },
  {
   "cell_type": "code",
   "execution_count": 131,
   "metadata": {},
   "outputs": [],
   "source": [
    "accuracy_df = pd.DataFrame()\n",
    "for division in [1,2,3,4,5]:\n",
    "    accuracy_df = accuracy_df.append(pd.read_csv(parent_path+str(division)+'.csv'))\n",
    "accuracy_df = accuracy_df.rename(columns={'predicted_lable':'pred','true_label':'actual','words':'word'})\n"
   ]
  },
  {
   "cell_type": "code",
   "execution_count": 132,
   "metadata": {},
   "outputs": [
    {
     "name": "stdout",
     "output_type": "stream",
     "text": [
      "0.9631645757118548\n"
     ]
    }
   ],
   "source": [
    "print(len(accuracy_df[accuracy_df[pred_col]==accuracy_df[actual_col]])/len(accuracy_df))"
   ]
  },
  {
   "cell_type": "code",
   "execution_count": 133,
   "metadata": {},
   "outputs": [],
   "source": [
    "unique_tags = accuracy_df[actual_col].unique()"
   ]
  },
  {
   "cell_type": "code",
   "execution_count": 134,
   "metadata": {},
   "outputs": [
    {
     "data": {
      "text/plain": [
       "array(['DET', 'NOUN', 'ADJ', 'VERB', 'ADP', '.', 'ADV', 'CONJ', 'PRT',\n",
       "       'PRON', 'NUM', 'X'], dtype=object)"
      ]
     },
     "execution_count": 134,
     "metadata": {},
     "output_type": "execute_result"
    }
   ],
   "source": [
    "unique_tags"
   ]
  },
  {
   "cell_type": "code",
   "execution_count": 135,
   "metadata": {},
   "outputs": [
    {
     "name": "stdout",
     "output_type": "stream",
     "text": [
      "DET 137019 0.9933220940161583\n",
      "NOUN 275558 0.9585894802546107\n",
      "ADJ 83721 0.8876625936145053\n",
      "VERB 182750 0.9610396716826265\n",
      "ADP 144766 0.9800091181631045\n",
      ". 147565 0.999898349879714\n",
      "ADV 56239 0.9123028503351767\n",
      "CONJ 38151 0.9960682550916097\n",
      "PRT 29829 0.9175969693922023\n",
      "PRON 49334 0.9829123930757693\n",
      "NUM 14874 0.8967997848594863\n",
      "X 1386 0.20995670995670995\n"
     ]
    }
   ],
   "source": [
    "per_pos_df = pd.DataFrame()\n",
    "for tag in unique_tags:\n",
    "    temp_accuracy_df = accuracy_df[accuracy_df[actual_col]==tag]\n",
    "    accuracy = len(temp_accuracy_df[temp_accuracy_df[pred_col]==temp_accuracy_df[actual_col]])/len(temp_accuracy_df)\n",
    "    print(tag,len(temp_accuracy_df),accuracy)\n",
    "    row = {}\n",
    "    row['tag'] = tag\n",
    "    row['count'] = len(temp_accuracy_df)\n",
    "    row['accuracy'] = accuracy\n",
    "    per_pos_df = per_pos_df.append(row,ignore_index=True)"
   ]
  },
  {
   "cell_type": "code",
   "execution_count": 137,
   "metadata": {},
   "outputs": [],
   "source": [
    "confusion_matrix = accuracy_df.groupby([pred_col,actual_col])['word'].count().unstack().fillna(0)"
   ]
  },
  {
   "cell_type": "code",
   "execution_count": 138,
   "metadata": {},
   "outputs": [
    {
     "name": "stdout",
     "output_type": "stream",
     "text": [
      "\\begin{tabular}{lrrl}\n",
      "\\toprule\n",
      "{} &  accuracy &     count &   tag \\\\\n",
      "\\midrule\n",
      "0  &      0.99 &  137019.0 &   DET \\\\\n",
      "1  &      0.96 &  275558.0 &  NOUN \\\\\n",
      "2  &      0.89 &   83721.0 &   ADJ \\\\\n",
      "3  &      0.96 &  182750.0 &  VERB \\\\\n",
      "4  &      0.98 &  144766.0 &   ADP \\\\\n",
      "5  &      1.00 &  147565.0 &     . \\\\\n",
      "6  &      0.91 &   56239.0 &   ADV \\\\\n",
      "7  &      1.00 &   38151.0 &  CONJ \\\\\n",
      "8  &      0.92 &   29829.0 &   PRT \\\\\n",
      "9  &      0.98 &   49334.0 &  PRON \\\\\n",
      "10 &      0.90 &   14874.0 &   NUM \\\\\n",
      "11 &      0.21 &    1386.0 &     X \\\\\n",
      "\\bottomrule\n",
      "\\end{tabular}\n",
      "\n"
     ]
    }
   ],
   "source": [
    "print(per_pos_df.round(2).to_latex())  "
   ]
  },
  {
   "cell_type": "code",
   "execution_count": 139,
   "metadata": {},
   "outputs": [],
   "source": [
    "confusion_matrix = confusion_matrix.iloc[1:]"
   ]
  },
  {
   "cell_type": "code",
   "execution_count": 140,
   "metadata": {},
   "outputs": [],
   "source": [
    "i = 0\n",
    "prec_recall = pd.DataFrame()\n",
    "for idx in confusion_matrix.index:\n",
    "    row = {}\n",
    "    row['tag'] = idx\n",
    "    row['recall'] = rec = recall(i,np.array(confusion_matrix).T)\n",
    "    row['precision'] = prec = precision(i,np.array(confusion_matrix).T)\n",
    "    row['F1 score'] = 2*(rec * prec) / (rec + prec)\n",
    "\n",
    "\n",
    "    i+=1\n",
    "    prec_recall = prec_recall.append(row,ignore_index=True)\n",
    "    "
   ]
  },
  {
   "cell_type": "code",
   "execution_count": 141,
   "metadata": {},
   "outputs": [
    {
     "name": "stdout",
     "output_type": "stream",
     "text": [
      "\\begin{tabular}{lrrrrrrrrrrrr}\n",
      "\\toprule\n",
      "actual &       . &    ADJ &     ADP &    ADV &   CONJ &     DET &    NOUN &    NUM &   PRON &    PRT &    VERB &    X \\\\\n",
      "pred &         &        &         &        &        &         &         &        &        &        &         &      \\\\\n",
      "\\midrule\n",
      ".    &  147550 &      1 &      22 &      0 &      0 &       2 &       6 &      1 &      0 &      0 &       0 &   24 \\\\\n",
      "ADJ  &       3 &  74307 &      48 &   1801 &      3 &       7 &    4375 &    136 &      3 &     48 &     811 &   64 \\\\\n",
      "ADP  &       4 &     89 &  141872 &   1155 &     31 &     482 &     123 &     14 &    266 &   1775 &     135 &   29 \\\\\n",
      "ADV  &       0 &   1557 &     708 &  51307 &     46 &      93 &     225 &      1 &      3 &    241 &     139 &    6 \\\\\n",
      "CONJ &       1 &      1 &     140 &    134 &  38001 &      34 &       5 &      0 &      0 &      0 &       1 &    4 \\\\\n",
      "DET  &       1 &      2 &     341 &    177 &     57 &  136104 &     116 &      0 &    504 &      5 &       5 &   19 \\\\\n",
      "NOUN &       2 &   6579 &      92 &    980 &     10 &      29 &  264147 &   1172 &     45 &    296 &    6002 &  762 \\\\\n",
      "NUM  &       2 &      4 &       1 &      2 &      0 &       2 &     260 &  13339 &      0 &      0 &       0 &    7 \\\\\n",
      "PRON &       0 &      0 &      90 &      3 &      0 &     249 &      27 &      0 &  48491 &      1 &       0 &    7 \\\\\n",
      "PRT  &       0 &     75 &    1332 &    346 &      0 &       1 &      58 &      1 &      7 &  27371 &       9 &    3 \\\\\n",
      "VERB &       2 &   1072 &     119 &    328 &      3 &      15 &    5989 &    204 &     13 &     89 &  175630 &  167 \\\\\n",
      "X    &       0 &     16 &       1 &      4 &      0 &       1 &     126 &      0 &      2 &      3 &      16 &  291 \\\\\n",
      "\\bottomrule\n",
      "\\end{tabular}\n",
      "\n"
     ]
    }
   ],
   "source": [
    "print(confusion_matrix.astype(int).to_latex(index=True))  "
   ]
  },
  {
   "cell_type": "code",
   "execution_count": 142,
   "metadata": {},
   "outputs": [
    {
     "name": "stdout",
     "output_type": "stream",
     "text": [
      "\\begin{tabular}{lrrrl}\n",
      "\\toprule\n",
      "{} &  F1 score &  precision &  recall &   tag \\\\\n",
      "\\midrule\n",
      "0  &      1.00 &       1.00 &    1.00 &     . \\\\\n",
      "1  &      0.90 &       0.91 &    0.89 &   ADJ \\\\\n",
      "2  &      0.98 &       0.97 &    0.98 &   ADP \\\\\n",
      "3  &      0.93 &       0.94 &    0.91 &   ADV \\\\\n",
      "4  &      0.99 &       0.99 &    1.00 &  CONJ \\\\\n",
      "5  &      0.99 &       0.99 &    0.99 &   DET \\\\\n",
      "6  &      0.95 &       0.94 &    0.96 &  NOUN \\\\\n",
      "7  &      0.94 &       0.98 &    0.90 &   NUM \\\\\n",
      "8  &      0.99 &       0.99 &    0.98 &  PRON \\\\\n",
      "9  &      0.93 &       0.94 &    0.92 &   PRT \\\\\n",
      "10 &      0.96 &       0.96 &    0.96 &  VERB \\\\\n",
      "11 &      0.32 &       0.63 &    0.21 &     X \\\\\n",
      "\\bottomrule\n",
      "\\end{tabular}\n",
      "\n"
     ]
    }
   ],
   "source": [
    "print(prec_recall.round(2).to_latex(index=True))  "
   ]
  },
  {
   "cell_type": "code",
   "execution_count": 143,
   "metadata": {},
   "outputs": [
    {
     "data": {
      "text/plain": [
       "F1 score     0.905478\n",
       "precision    0.937532\n",
       "recall       0.891454\n",
       "dtype: float64"
      ]
     },
     "execution_count": 143,
     "metadata": {},
     "output_type": "execute_result"
    }
   ],
   "source": [
    "prec_recall.mean()"
   ]
  },
  {
   "cell_type": "code",
   "execution_count": null,
   "metadata": {},
   "outputs": [],
   "source": []
  },
  {
   "cell_type": "code",
   "execution_count": 39,
   "metadata": {},
   "outputs": [
    {
     "data": {
      "text/plain": [
       "array([[1.47526e+05, 0.00000e+00, 0.00000e+00, 0.00000e+00, 0.00000e+00,\n",
       "        0.00000e+00, 4.00000e+00, 0.00000e+00, 0.00000e+00, 0.00000e+00,\n",
       "        0.00000e+00],\n",
       "       [1.37000e+02, 2.03500e+03, 2.28400e+03, 7.20000e+02, 0.00000e+00,\n",
       "        1.86200e+03, 7.38980e+04, 0.00000e+00, 5.60000e+01, 0.00000e+00,\n",
       "        2.70300e+03],\n",
       "       [3.39100e+03, 0.00000e+00, 1.21986e+05, 3.68000e+02, 5.25000e+02,\n",
       "        5.67900e+03, 7.95700e+03, 0.00000e+00, 1.08000e+03, 1.91400e+03,\n",
       "        1.82500e+03],\n",
       "       [3.56400e+03, 1.75500e+03, 5.40100e+03, 2.37100e+03, 1.10000e+01,\n",
       "        1.16100e+03, 2.78750e+04, 0.00000e+00, 6.02400e+03, 0.00000e+00,\n",
       "        8.07000e+03],\n",
       "       [1.12000e+03, 0.00000e+00, 3.48900e+03, 0.00000e+00, 3.06080e+04,\n",
       "        1.20000e+01, 4.49000e+02, 0.00000e+00, 0.00000e+00, 0.00000e+00,\n",
       "        2.46100e+03],\n",
       "       [1.13100e+03, 0.00000e+00, 4.94000e+02, 0.00000e+00, 0.00000e+00,\n",
       "        1.31896e+05, 2.39900e+03, 0.00000e+00, 5.77000e+02, 0.00000e+00,\n",
       "        4.78000e+02],\n",
       "       [4.23500e+03, 3.40000e+02, 3.83000e+02, 2.50000e+01, 0.00000e+00,\n",
       "        4.02000e+02, 2.63709e+05, 0.00000e+00, 5.63000e+02, 0.00000e+00,\n",
       "        5.81800e+03],\n",
       "       [2.02200e+03, 3.03000e+02, 0.00000e+00, 0.00000e+00, 0.00000e+00,\n",
       "        1.75000e+03, 9.34100e+03, 5.98000e+02, 8.59000e+02, 0.00000e+00,\n",
       "        0.00000e+00],\n",
       "       [2.60000e+01, 0.00000e+00, 2.24000e+02, 0.00000e+00, 0.00000e+00,\n",
       "        2.86400e+03, 2.00800e+03, 0.00000e+00, 4.33270e+04, 0.00000e+00,\n",
       "        8.77000e+02],\n",
       "       [2.92700e+03, 1.05000e+02, 1.51190e+04, 0.00000e+00, 0.00000e+00,\n",
       "        7.45000e+02, 3.48500e+03, 0.00000e+00, 3.86500e+03, 2.70700e+03,\n",
       "        8.75000e+02],\n",
       "       [2.70100e+03, 3.30000e+02, 1.03100e+03, 0.00000e+00, 0.00000e+00,\n",
       "        6.50000e+01, 9.29300e+04, 0.00000e+00, 5.00000e+00, 0.00000e+00,\n",
       "        8.56500e+04],\n",
       "       [1.12000e+02, 0.00000e+00, 2.00000e+01, 0.00000e+00, 4.00000e+00,\n",
       "        2.00000e+01, 1.21200e+03, 0.00000e+00, 6.00000e+00, 1.00000e+00,\n",
       "        1.10000e+01]])"
      ]
     },
     "execution_count": 39,
     "metadata": {},
     "output_type": "execute_result"
    }
   ],
   "source": [
    "np.array(confusion_matrix).T"
   ]
  },
  {
   "cell_type": "code",
   "execution_count": 82,
   "metadata": {},
   "outputs": [
    {
     "data": {
      "text/html": [
       "<div>\n",
       "<style scoped>\n",
       "    .dataframe tbody tr th:only-of-type {\n",
       "        vertical-align: middle;\n",
       "    }\n",
       "\n",
       "    .dataframe tbody tr th {\n",
       "        vertical-align: top;\n",
       "    }\n",
       "\n",
       "    .dataframe thead th {\n",
       "        text-align: right;\n",
       "    }\n",
       "</style>\n",
       "<table border=\"1\" class=\"dataframe\">\n",
       "  <thead>\n",
       "    <tr style=\"text-align: right;\">\n",
       "      <th></th>\n",
       "      <th>pred</th>\n",
       "      <th>actual</th>\n",
       "      <th>word</th>\n",
       "    </tr>\n",
       "  </thead>\n",
       "  <tbody>\n",
       "    <tr>\n",
       "      <th>0</th>\n",
       "      <td>DET</td>\n",
       "      <td>DET</td>\n",
       "      <td>The</td>\n",
       "    </tr>\n",
       "    <tr>\n",
       "      <th>1</th>\n",
       "      <td>NOUN</td>\n",
       "      <td>NOUN</td>\n",
       "      <td>quarrel</td>\n",
       "    </tr>\n",
       "    <tr>\n",
       "      <th>2</th>\n",
       "      <td>VERB</td>\n",
       "      <td>VERB</td>\n",
       "      <td>ended</td>\n",
       "    </tr>\n",
       "    <tr>\n",
       "      <th>3</th>\n",
       "      <td>ADP</td>\n",
       "      <td>ADP</td>\n",
       "      <td>in</td>\n",
       "    </tr>\n",
       "    <tr>\n",
       "      <th>4</th>\n",
       "      <td>DET</td>\n",
       "      <td>DET</td>\n",
       "      <td>a</td>\n",
       "    </tr>\n",
       "    <tr>\n",
       "      <th>...</th>\n",
       "      <td>...</td>\n",
       "      <td>...</td>\n",
       "      <td>...</td>\n",
       "    </tr>\n",
       "    <tr>\n",
       "      <th>248619</th>\n",
       "      <td>VERB</td>\n",
       "      <td>VERB</td>\n",
       "      <td>gather</td>\n",
       "    </tr>\n",
       "    <tr>\n",
       "      <th>248620</th>\n",
       "      <td>ADP</td>\n",
       "      <td>DET</td>\n",
       "      <td>that</td>\n",
       "    </tr>\n",
       "    <tr>\n",
       "      <th>248621</th>\n",
       "      <td>DET</td>\n",
       "      <td>ADJ</td>\n",
       "      <td>post-attack</td>\n",
       "    </tr>\n",
       "    <tr>\n",
       "      <th>248622</th>\n",
       "      <td>NOUN</td>\n",
       "      <td>NOUN</td>\n",
       "      <td>reconnaissance</td>\n",
       "    </tr>\n",
       "    <tr>\n",
       "      <th>248623</th>\n",
       "      <td>.</td>\n",
       "      <td>.</td>\n",
       "      <td>.</td>\n",
       "    </tr>\n",
       "  </tbody>\n",
       "</table>\n",
       "<p>1154436 rows × 3 columns</p>\n",
       "</div>"
      ],
      "text/plain": [
       "        pred actual            word\n",
       "0        DET    DET             The\n",
       "1       NOUN   NOUN         quarrel\n",
       "2       VERB   VERB           ended\n",
       "3        ADP    ADP              in\n",
       "4        DET    DET               a\n",
       "...      ...    ...             ...\n",
       "248619  VERB   VERB          gather\n",
       "248620   ADP    DET            that\n",
       "248621   DET    ADJ     post-attack\n",
       "248622  NOUN   NOUN  reconnaissance\n",
       "248623     .      .               .\n",
       "\n",
       "[1154436 rows x 3 columns]"
      ]
     },
     "execution_count": 82,
     "metadata": {},
     "output_type": "execute_result"
    }
   ],
   "source": [
    "accuracy_df"
   ]
  },
  {
   "cell_type": "code",
   "execution_count": null,
   "metadata": {},
   "outputs": [],
   "source": []
  }
 ],
 "metadata": {
  "kernelspec": {
   "display_name": "Python 3",
   "language": "python",
   "name": "python3"
  },
  "language_info": {
   "codemirror_mode": {
    "name": "ipython",
    "version": 3
   },
   "file_extension": ".py",
   "mimetype": "text/x-python",
   "name": "python",
   "nbconvert_exporter": "python",
   "pygments_lexer": "ipython3",
   "version": "3.6.9"
  }
 },
 "nbformat": 4,
 "nbformat_minor": 4
}
