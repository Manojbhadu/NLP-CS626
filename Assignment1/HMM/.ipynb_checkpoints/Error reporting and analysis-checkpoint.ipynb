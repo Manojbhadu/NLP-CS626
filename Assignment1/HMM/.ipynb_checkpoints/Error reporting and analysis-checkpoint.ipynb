{
 "cells": [
  {
   "cell_type": "code",
   "execution_count": 1,
   "metadata": {},
   "outputs": [],
   "source": [
    "import numpy as np  # for handling multi-dimensional array operation\n",
    "import pandas as pd  # for reading data from csv \n",
    "import statsmodels.api as sm  # for finding the p-value\n",
    "from sklearn.preprocessing import MinMaxScaler  # for normalization\n",
    "from sklearn.model_selection import train_test_split as tts\n",
    "from sklearn.metrics import accuracy_score \n",
    "from sklearn.utils import shuffle\n",
    "import matplotlib.pyplot as plt"
   ]
  },
  {
   "cell_type": "code",
   "execution_count": 2,
   "metadata": {},
   "outputs": [],
   "source": [
    "def precision(label, confusion_matrix):\n",
    "    col = confusion_matrix[:, label]\n",
    "    return confusion_matrix[label, label] / col.sum()\n",
    "    \n",
    "def recall(label, confusion_matrix):\n",
    "    row = confusion_matrix[label, :]\n",
    "    return confusion_matrix[label, label] / row.sum()\n",
    "\n",
    "def precision_macro_average(confusion_matrix):\n",
    "    rows, columns = confusion_matrix.shape\n",
    "    sum_of_precisions = 0\n",
    "    for label in range(rows):\n",
    "        sum_of_precisions += precision(label, confusion_matrix)\n",
    "    return sum_of_precisions / rows\n",
    "\n",
    "def recall_macro_average(confusion_matrix):\n",
    "    rows, columns = confusion_matrix.shape\n",
    "    sum_of_recalls = 0\n",
    "    for label in range(columns):\n",
    "        sum_of_recalls += recall(label, confusion_matrix)\n",
    "    return sum_of_recalls / columns"
   ]
  },
  {
   "cell_type": "code",
   "execution_count": 3,
   "metadata": {},
   "outputs": [],
   "source": [
    "parent_path = '/home/tushar/accuracy_final_new_'"
   ]
  },
  {
   "cell_type": "code",
   "execution_count": 4,
   "metadata": {},
   "outputs": [],
   "source": [
    "pred_col = 'pred'\n",
    "actual_col = 'actual'"
   ]
  },
  {
   "cell_type": "code",
   "execution_count": 7,
   "metadata": {},
   "outputs": [],
   "source": [
    "accuracy_df = pd.DataFrame()\n",
    "for division in [1,2,3,4,5]:\n",
    "    accuracy_df = accuracy_df.append(pd.read_pickle(parent_path+str(division)+'.pkl'))\n",
    "accuracy_df = accuracy_df.rename(columns={'predicted_lable':'pred','true_label':'actual','words':'word'})\n"
   ]
  },
  {
   "cell_type": "code",
   "execution_count": 8,
   "metadata": {},
   "outputs": [
    {
     "name": "stdout",
     "output_type": "stream",
     "text": [
      "0.9463079806936028\n"
     ]
    }
   ],
   "source": [
    "print(len(accuracy_df[accuracy_df[pred_col]==accuracy_df[actual_col]])/len(accuracy_df))"
   ]
  },
  {
   "cell_type": "code",
   "execution_count": 9,
   "metadata": {},
   "outputs": [],
   "source": [
    "unique_tags = accuracy_df[actual_col].unique()"
   ]
  },
  {
   "cell_type": "code",
   "execution_count": 10,
   "metadata": {},
   "outputs": [
    {
     "data": {
      "text/plain": [
       "array(['DET', 'NOUN', 'VERB', 'ADP', 'ADJ', '.', 'CONJ', 'PRON', 'PRT',\n",
       "       'ADV', 'NUM', 'X'], dtype=object)"
      ]
     },
     "execution_count": 10,
     "metadata": {},
     "output_type": "execute_result"
    }
   ],
   "source": [
    "unique_tags"
   ]
  },
  {
   "cell_type": "code",
   "execution_count": 11,
   "metadata": {},
   "outputs": [
    {
     "name": "stdout",
     "output_type": "stream",
     "text": [
      "DET 136206 0.9868287740628167\n",
      "NOUN 273974 0.9134990911546351\n",
      "VERB 181780 0.9453240180437892\n",
      "ADP 143873 0.9661437517810847\n",
      "ADJ 83132 0.8916782947601405\n",
      ". 146764 0.9997955901992314\n",
      "CONJ 37873 0.9944023446782668\n",
      "PRON 49050 0.9840774719673803\n",
      "PRT 29706 0.9002558405709284\n",
      "ADV 55878 0.8902788217187444\n",
      "NUM 14824 0.8888963842417701\n",
      "X 1376 0.3372093023255814\n"
     ]
    }
   ],
   "source": [
    "per_pos_df = pd.DataFrame()\n",
    "for tag in unique_tags:\n",
    "    temp_accuracy_df = accuracy_df[accuracy_df[actual_col]==tag]\n",
    "    accuracy = len(temp_accuracy_df[temp_accuracy_df[pred_col]==temp_accuracy_df[actual_col]])/len(temp_accuracy_df)\n",
    "    print(tag,len(temp_accuracy_df),accuracy)\n",
    "    row = {}\n",
    "    row['tag'] = tag\n",
    "    row['count'] = len(temp_accuracy_df)\n",
    "    row['accuracy'] = accuracy\n",
    "    per_pos_df = per_pos_df.append(row,ignore_index=True)"
   ]
  },
  {
   "cell_type": "code",
   "execution_count": 16,
   "metadata": {},
   "outputs": [],
   "source": [
    "confusion_matrix = accuracy_df.groupby([pred_col,actual_col])['word'].count().unstack().fillna(0)"
   ]
  },
  {
   "cell_type": "code",
   "execution_count": 17,
   "metadata": {},
   "outputs": [
    {
     "data": {
      "text/html": [
       "<div>\n",
       "<style scoped>\n",
       "    .dataframe tbody tr th:only-of-type {\n",
       "        vertical-align: middle;\n",
       "    }\n",
       "\n",
       "    .dataframe tbody tr th {\n",
       "        vertical-align: top;\n",
       "    }\n",
       "\n",
       "    .dataframe thead th {\n",
       "        text-align: right;\n",
       "    }\n",
       "</style>\n",
       "<table border=\"1\" class=\"dataframe\">\n",
       "  <thead>\n",
       "    <tr style=\"text-align: right;\">\n",
       "      <th></th>\n",
       "      <th>accuracy</th>\n",
       "      <th>count</th>\n",
       "      <th>tag</th>\n",
       "    </tr>\n",
       "  </thead>\n",
       "  <tbody>\n",
       "    <tr>\n",
       "      <th>0</th>\n",
       "      <td>0.986829</td>\n",
       "      <td>136206.0</td>\n",
       "      <td>DET</td>\n",
       "    </tr>\n",
       "    <tr>\n",
       "      <th>1</th>\n",
       "      <td>0.913499</td>\n",
       "      <td>273974.0</td>\n",
       "      <td>NOUN</td>\n",
       "    </tr>\n",
       "    <tr>\n",
       "      <th>2</th>\n",
       "      <td>0.945324</td>\n",
       "      <td>181780.0</td>\n",
       "      <td>VERB</td>\n",
       "    </tr>\n",
       "    <tr>\n",
       "      <th>3</th>\n",
       "      <td>0.966144</td>\n",
       "      <td>143873.0</td>\n",
       "      <td>ADP</td>\n",
       "    </tr>\n",
       "    <tr>\n",
       "      <th>4</th>\n",
       "      <td>0.891678</td>\n",
       "      <td>83132.0</td>\n",
       "      <td>ADJ</td>\n",
       "    </tr>\n",
       "    <tr>\n",
       "      <th>5</th>\n",
       "      <td>0.999796</td>\n",
       "      <td>146764.0</td>\n",
       "      <td>.</td>\n",
       "    </tr>\n",
       "    <tr>\n",
       "      <th>6</th>\n",
       "      <td>0.994402</td>\n",
       "      <td>37873.0</td>\n",
       "      <td>CONJ</td>\n",
       "    </tr>\n",
       "    <tr>\n",
       "      <th>7</th>\n",
       "      <td>0.984077</td>\n",
       "      <td>49050.0</td>\n",
       "      <td>PRON</td>\n",
       "    </tr>\n",
       "    <tr>\n",
       "      <th>8</th>\n",
       "      <td>0.900256</td>\n",
       "      <td>29706.0</td>\n",
       "      <td>PRT</td>\n",
       "    </tr>\n",
       "    <tr>\n",
       "      <th>9</th>\n",
       "      <td>0.890279</td>\n",
       "      <td>55878.0</td>\n",
       "      <td>ADV</td>\n",
       "    </tr>\n",
       "    <tr>\n",
       "      <th>10</th>\n",
       "      <td>0.888896</td>\n",
       "      <td>14824.0</td>\n",
       "      <td>NUM</td>\n",
       "    </tr>\n",
       "    <tr>\n",
       "      <th>11</th>\n",
       "      <td>0.337209</td>\n",
       "      <td>1376.0</td>\n",
       "      <td>X</td>\n",
       "    </tr>\n",
       "  </tbody>\n",
       "</table>\n",
       "</div>"
      ],
      "text/plain": [
       "    accuracy     count   tag\n",
       "0   0.986829  136206.0   DET\n",
       "1   0.913499  273974.0  NOUN\n",
       "2   0.945324  181780.0  VERB\n",
       "3   0.966144  143873.0   ADP\n",
       "4   0.891678   83132.0   ADJ\n",
       "5   0.999796  146764.0     .\n",
       "6   0.994402   37873.0  CONJ\n",
       "7   0.984077   49050.0  PRON\n",
       "8   0.900256   29706.0   PRT\n",
       "9   0.890279   55878.0   ADV\n",
       "10  0.888896   14824.0   NUM\n",
       "11  0.337209    1376.0     X"
      ]
     },
     "execution_count": 17,
     "metadata": {},
     "output_type": "execute_result"
    }
   ],
   "source": [
    "per_pos_df"
   ]
  },
  {
   "cell_type": "code",
   "execution_count": 18,
   "metadata": {},
   "outputs": [
    {
     "name": "stdout",
     "output_type": "stream",
     "text": [
      "\\begin{tabular}{lrrl}\n",
      "\\toprule\n",
      "{} &  accuracy &     count &   tag \\\\\n",
      "\\midrule\n",
      "0  &      0.99 &  136206.0 &   DET \\\\\n",
      "1  &      0.91 &  273974.0 &  NOUN \\\\\n",
      "2  &      0.95 &  181780.0 &  VERB \\\\\n",
      "3  &      0.97 &  143873.0 &   ADP \\\\\n",
      "4  &      0.89 &   83132.0 &   ADJ \\\\\n",
      "5  &      1.00 &  146764.0 &     . \\\\\n",
      "6  &      0.99 &   37873.0 &  CONJ \\\\\n",
      "7  &      0.98 &   49050.0 &  PRON \\\\\n",
      "8  &      0.90 &   29706.0 &   PRT \\\\\n",
      "9  &      0.89 &   55878.0 &   ADV \\\\\n",
      "10 &      0.89 &   14824.0 &   NUM \\\\\n",
      "11 &      0.34 &    1376.0 &     X \\\\\n",
      "\\bottomrule\n",
      "\\end{tabular}\n",
      "\n"
     ]
    }
   ],
   "source": [
    "print(per_pos_df.round(2).to_latex())  "
   ]
  },
  {
   "cell_type": "code",
   "execution_count": 19,
   "metadata": {},
   "outputs": [],
   "source": [
    "i = 0\n",
    "prec_recall = pd.DataFrame()\n",
    "for idx in confusion_matrix.index:\n",
    "    row = {}\n",
    "    row['tag'] = idx\n",
    "    row['recall'] = rec = recall(i,np.array(confusion_matrix).T)\n",
    "    row['precision'] = prec = precision(i,np.array(confusion_matrix).T)\n",
    "    row['F1 score'] = 2*(rec * prec) / (rec + prec)\n",
    "\n",
    "\n",
    "    i+=1\n",
    "    prec_recall = prec_recall.append(row,ignore_index=True)\n",
    "    "
   ]
  },
  {
   "cell_type": "code",
   "execution_count": 20,
   "metadata": {},
   "outputs": [
    {
     "name": "stdout",
     "output_type": "stream",
     "text": [
      "\\begin{tabular}{lrrrrrrrrrrrr}\n",
      "\\toprule\n",
      "actual &       . &    ADJ &     ADP &    ADV &   CONJ &     DET &    NOUN &    NUM &   PRON &    PRT &    VERB &    X \\\\\n",
      "pred &         &        &         &        &        &         &         &        &        &        &         &      \\\\\n",
      "\\midrule\n",
      ".    &  146734 &    277 &      25 &    124 &      3 &       0 &    4351 &    171 &      4 &     11 &     475 &  108 \\\\\n",
      "ADJ  &       0 &  74127 &      74 &   2204 &      0 &       1 &    4956 &     78 &      2 &     39 &     826 &   68 \\\\\n",
      "ADP  &       1 &    250 &  139002 &   1739 &     15 &     646 &    1763 &     53 &    413 &   2310 &    1199 &   62 \\\\\n",
      "ADV  &       0 &   2423 &    2060 &  49747 &    115 &      88 &     203 &      0 &      3 &    234 &     132 &    5 \\\\\n",
      "CONJ &       0 &      0 &     146 &    107 &  37661 &      26 &       1 &      0 &      0 &      0 &       0 &    4 \\\\\n",
      "DET  &       1 &   2017 &     176 &    280 &     75 &  134412 &    4237 &    397 &    301 &     23 &     748 &  122 \\\\\n",
      "NOUN &       2 &   3099 &      57 &    593 &      2 &       6 &  250275 &    852 &     41 &    268 &    6439 &  461 \\\\\n",
      "NUM  &       0 &      4 &       1 &      0 &      0 &       2 &     413 &  13177 &      0 &      0 &       0 &    5 \\\\\n",
      "PRON &       0 &     62 &     352 &    114 &      0 &    1018 &    2977 &     59 &  48269 &     28 &     102 &   23 \\\\\n",
      "PRT  &       0 &    201 &    1846 &    726 &      0 &       1 &     146 &      1 &      7 &  26743 &      13 &    5 \\\\\n",
      "VERB &       0 &    664 &     131 &    244 &      1 &       4 &    4505 &     30 &      9 &     50 &  171841 &   49 \\\\\n",
      "X    &      26 &      8 &       3 &      0 &      1 &       2 &     147 &      6 &      1 &      0 &       5 &  464 \\\\\n",
      "\\bottomrule\n",
      "\\end{tabular}\n",
      "\n"
     ]
    }
   ],
   "source": [
    "print(confusion_matrix.astype(int).to_latex(index=True))  "
   ]
  },
  {
   "cell_type": "code",
   "execution_count": 21,
   "metadata": {},
   "outputs": [
    {
     "name": "stdout",
     "output_type": "stream",
     "text": [
      "\\begin{tabular}{lrrrl}\n",
      "\\toprule\n",
      "{} &  F1 score &  precision &  recall &   tag \\\\\n",
      "\\midrule\n",
      "0  &      0.98 &       0.96 &    1.00 &     . \\\\\n",
      "1  &      0.90 &       0.90 &    0.89 &   ADJ \\\\\n",
      "2  &      0.95 &       0.94 &    0.97 &   ADP \\\\\n",
      "3  &      0.90 &       0.90 &    0.89 &   ADV \\\\\n",
      "4  &      0.99 &       0.99 &    0.99 &  CONJ \\\\\n",
      "5  &      0.96 &       0.94 &    0.99 &   DET \\\\\n",
      "6  &      0.93 &       0.95 &    0.91 &  NOUN \\\\\n",
      "7  &      0.93 &       0.97 &    0.89 &   NUM \\\\\n",
      "8  &      0.95 &       0.91 &    0.98 &  PRON \\\\\n",
      "9  &      0.90 &       0.90 &    0.90 &   PRT \\\\\n",
      "10 &      0.96 &       0.97 &    0.95 &  VERB \\\\\n",
      "11 &      0.46 &       0.70 &    0.34 &     X \\\\\n",
      "\\bottomrule\n",
      "\\end{tabular}\n",
      "\n"
     ]
    }
   ],
   "source": [
    "print(prec_recall.round(2).to_latex(index=True))  "
   ]
  },
  {
   "cell_type": "code",
   "execution_count": 22,
   "metadata": {},
   "outputs": [
    {
     "data": {
      "text/plain": [
       "F1 score     0.900381\n",
       "precision    0.920600\n",
       "recall       0.891532\n",
       "dtype: float64"
      ]
     },
     "execution_count": 22,
     "metadata": {},
     "output_type": "execute_result"
    }
   ],
   "source": [
    "prec_recall.mean()"
   ]
  },
  {
   "cell_type": "code",
   "execution_count": null,
   "metadata": {},
   "outputs": [],
   "source": []
  },
  {
   "cell_type": "code",
   "execution_count": null,
   "metadata": {},
   "outputs": [],
   "source": []
  },
  {
   "cell_type": "code",
   "execution_count": null,
   "metadata": {},
   "outputs": [],
   "source": []
  }
 ],
 "metadata": {
  "kernelspec": {
   "display_name": "Python 3",
   "language": "python",
   "name": "python3"
  },
  "language_info": {
   "codemirror_mode": {
    "name": "ipython",
    "version": 3
   },
   "file_extension": ".py",
   "mimetype": "text/x-python",
   "name": "python",
   "nbconvert_exporter": "python",
   "pygments_lexer": "ipython3",
   "version": "3.6.9"
  }
 },
 "nbformat": 4,
 "nbformat_minor": 4
}
