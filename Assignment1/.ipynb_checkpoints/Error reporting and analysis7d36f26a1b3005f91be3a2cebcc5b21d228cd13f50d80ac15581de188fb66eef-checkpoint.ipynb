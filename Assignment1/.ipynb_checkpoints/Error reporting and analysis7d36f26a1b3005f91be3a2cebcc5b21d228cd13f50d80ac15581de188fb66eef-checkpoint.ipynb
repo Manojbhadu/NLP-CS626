{
 "cells": [
  {
   "cell_type": "code",
   "execution_count": 1,
   "metadata": {},
   "outputs": [],
   "source": [
    "\n",
    "import numpy as np  # for handling multi-dimensional array operation\n",
    "import pandas as pd  # for reading data from csv \n",
    "import statsmodels.api as sm  # for finding the p-value\n",
    "from sklearn.preprocessing import MinMaxScaler  # for normalization\n",
    "from sklearn.model_selection import train_test_split as tts\n",
    "from sklearn.metrics import accuracy_score \n",
    "from sklearn.utils import shuffle\n",
    "import matplotlib.pyplot as plt"
   ]
  },
  {
   "cell_type": "code",
   "execution_count": 23,
   "metadata": {},
   "outputs": [],
   "source": [
    "def precision(label, confusion_matrix):\n",
    "    col = confusion_matrix[:, label]\n",
    "    return confusion_matrix[label, label] / col.sum()\n",
    "    \n",
    "def recall(label, confusion_matrix):\n",
    "    row = confusion_matrix[label, :]\n",
    "    return confusion_matrix[label, label] / row.sum()\n",
    "\n",
    "def precision_macro_average(confusion_matrix):\n",
    "    rows, columns = confusion_matrix.shape\n",
    "    sum_of_precisions = 0\n",
    "    for label in range(rows):\n",
    "        sum_of_precisions += precision(label, confusion_matrix)\n",
    "    return sum_of_precisions / rows\n",
    "\n",
    "def recall_macro_average(confusion_matrix):\n",
    "    rows, columns = confusion_matrix.shape\n",
    "    sum_of_recalls = 0\n",
    "    for label in range(columns):\n",
    "        sum_of_recalls += recall(label, confusion_matrix)\n",
    "    return sum_of_recalls / columns"
   ]
  },
  {
   "cell_type": "code",
   "execution_count": 24,
   "metadata": {},
   "outputs": [],
   "source": [
    "parent_path = '/home/tushar/Downloads/SVM_accuracy_final_new_'#'/home/tushar/accuracy_final_new_'#"
   ]
  },
  {
   "cell_type": "code",
   "execution_count": 25,
   "metadata": {},
   "outputs": [],
   "source": [
    "pred_col = 'pred_tag'\n",
    "actual_col = 'actual_tag'"
   ]
  },
  {
   "cell_type": "code",
   "execution_count": 26,
   "metadata": {},
   "outputs": [],
   "source": [
    "accuracy_df = pd.DataFrame()\n",
    "for division in [1,2,3,4,5]:\n",
    "    accuracy_df = accuracy_df.append(pd.read_pickle(parent_path+str(division)+'.pkl'))"
   ]
  },
  {
   "cell_type": "code",
   "execution_count": 58,
   "metadata": {},
   "outputs": [
    {
     "name": "stdout",
     "output_type": "stream",
     "text": [
      "0.7170435594575225\n"
     ]
    }
   ],
   "source": [
    "print(len(accuracy_df[accuracy_df[pred_col]==accuracy_df[actual_col]])/len(accuracy_df))"
   ]
  },
  {
   "cell_type": "code",
   "execution_count": 27,
   "metadata": {},
   "outputs": [],
   "source": [
    "unique_tags = accuracy_df[actual_col].unique()"
   ]
  },
  {
   "cell_type": "code",
   "execution_count": 28,
   "metadata": {},
   "outputs": [
    {
     "data": {
      "text/plain": [
       "array(['PRT', '.', 'ADV', 'ADJ', 'ADP', 'DET', 'NOUN', 'VERB', 'PRON',\n",
       "       'CONJ', 'NUM', 'X'], dtype=object)"
      ]
     },
     "execution_count": 28,
     "metadata": {},
     "output_type": "execute_result"
    }
   ],
   "source": [
    "unique_tags"
   ]
  },
  {
   "cell_type": "code",
   "execution_count": 34,
   "metadata": {},
   "outputs": [
    {
     "name": "stdout",
     "output_type": "stream",
     "text": [
      "PRT 29828 0.09075365428456483\n",
      ". 147530 0.999972886870467\n",
      "ADV 56232 0.042164603784322095\n",
      "ADJ 83695 0.024314475177728657\n",
      "ADP 144725 0.842881326653999\n",
      "DET 136975 0.9629202409198759\n",
      "NOUN 275475 0.9572883201742445\n",
      "VERB 182712 0.46877052410350717\n",
      "PRON 49326 0.8783805700847424\n",
      "CONJ 38139 0.8025380843755736\n",
      "NUM 14873 0.04020708666711491\n",
      "X 1386 0.0\n"
     ]
    }
   ],
   "source": [
    "per_pos_df = pd.DataFrame()\n",
    "for tag in unique_tags:\n",
    "    temp_accuracy_df = accuracy_df[accuracy_df[actual_col]==tag]\n",
    "    accuracy = len(temp_accuracy_df[temp_accuracy_df[pred_col]==temp_accuracy_df[actual_col]])/len(temp_accuracy_df)\n",
    "    print(tag,len(temp_accuracy_df),accuracy)\n",
    "    row = {}\n",
    "    row['tag'] = tag\n",
    "    row['count'] = len(temp_accuracy_df)\n",
    "    row['accuracy'] = accuracy\n",
    "    per_pos_df = per_pos_df.append(row,ignore_index=True)"
   ]
  },
  {
   "cell_type": "code",
   "execution_count": 37,
   "metadata": {},
   "outputs": [],
   "source": [
    "confusion_matrix = accuracy_df.groupby([pred_col,actual_col])['word'].count().unstack().fillna(0)"
   ]
  },
  {
   "cell_type": "code",
   "execution_count": 69,
   "metadata": {},
   "outputs": [
    {
     "name": "stdout",
     "output_type": "stream",
     "text": [
      "\\begin{tabular}{lrrl}\n",
      "\\toprule\n",
      "{} &  accuracy &     count &   tag \\\\\n",
      "\\midrule\n",
      "0  &      0.09 &   29828.0 &   PRT \\\\\n",
      "1  &      1.00 &  147530.0 &     . \\\\\n",
      "2  &      0.04 &   56232.0 &   ADV \\\\\n",
      "3  &      0.02 &   83695.0 &   ADJ \\\\\n",
      "4  &      0.84 &  144725.0 &   ADP \\\\\n",
      "5  &      0.96 &  136975.0 &   DET \\\\\n",
      "6  &      0.96 &  275475.0 &  NOUN \\\\\n",
      "7  &      0.47 &  182712.0 &  VERB \\\\\n",
      "8  &      0.88 &   49326.0 &  PRON \\\\\n",
      "9  &      0.80 &   38139.0 &  CONJ \\\\\n",
      "10 &      0.04 &   14873.0 &   NUM \\\\\n",
      "11 &      0.00 &    1386.0 &     X \\\\\n",
      "\\bottomrule\n",
      "\\end{tabular}\n",
      "\n"
     ]
    }
   ],
   "source": [
    "print(per_pos_df.round(2).to_latex())  "
   ]
  },
  {
   "cell_type": "code",
   "execution_count": 48,
   "metadata": {},
   "outputs": [
    {
     "data": {
      "text/html": [
       "<div>\n",
       "<style scoped>\n",
       "    .dataframe tbody tr th:only-of-type {\n",
       "        vertical-align: middle;\n",
       "    }\n",
       "\n",
       "    .dataframe tbody tr th {\n",
       "        vertical-align: top;\n",
       "    }\n",
       "\n",
       "    .dataframe thead th {\n",
       "        text-align: right;\n",
       "    }\n",
       "</style>\n",
       "<table border=\"1\" class=\"dataframe\">\n",
       "  <thead>\n",
       "    <tr style=\"text-align: right;\">\n",
       "      <th>actual_tag</th>\n",
       "      <th>.</th>\n",
       "      <th>ADJ</th>\n",
       "      <th>ADP</th>\n",
       "      <th>ADV</th>\n",
       "      <th>CONJ</th>\n",
       "      <th>DET</th>\n",
       "      <th>NOUN</th>\n",
       "      <th>NUM</th>\n",
       "      <th>PRON</th>\n",
       "      <th>PRT</th>\n",
       "      <th>VERB</th>\n",
       "      <th>X</th>\n",
       "    </tr>\n",
       "    <tr>\n",
       "      <th>pred_tag</th>\n",
       "      <th></th>\n",
       "      <th></th>\n",
       "      <th></th>\n",
       "      <th></th>\n",
       "      <th></th>\n",
       "      <th></th>\n",
       "      <th></th>\n",
       "      <th></th>\n",
       "      <th></th>\n",
       "      <th></th>\n",
       "      <th></th>\n",
       "      <th></th>\n",
       "    </tr>\n",
       "  </thead>\n",
       "  <tbody>\n",
       "    <tr>\n",
       "      <th>.</th>\n",
       "      <td>147526</td>\n",
       "      <td>137</td>\n",
       "      <td>3391</td>\n",
       "      <td>3564</td>\n",
       "      <td>1120</td>\n",
       "      <td>1131</td>\n",
       "      <td>4235</td>\n",
       "      <td>2022</td>\n",
       "      <td>26</td>\n",
       "      <td>2927</td>\n",
       "      <td>2701</td>\n",
       "      <td>112</td>\n",
       "    </tr>\n",
       "    <tr>\n",
       "      <th>ADJ</th>\n",
       "      <td>0</td>\n",
       "      <td>2035</td>\n",
       "      <td>0</td>\n",
       "      <td>1755</td>\n",
       "      <td>0</td>\n",
       "      <td>0</td>\n",
       "      <td>340</td>\n",
       "      <td>303</td>\n",
       "      <td>0</td>\n",
       "      <td>105</td>\n",
       "      <td>330</td>\n",
       "      <td>0</td>\n",
       "    </tr>\n",
       "    <tr>\n",
       "      <th>ADP</th>\n",
       "      <td>0</td>\n",
       "      <td>2284</td>\n",
       "      <td>121986</td>\n",
       "      <td>5401</td>\n",
       "      <td>3489</td>\n",
       "      <td>494</td>\n",
       "      <td>383</td>\n",
       "      <td>0</td>\n",
       "      <td>224</td>\n",
       "      <td>15119</td>\n",
       "      <td>1031</td>\n",
       "      <td>20</td>\n",
       "    </tr>\n",
       "    <tr>\n",
       "      <th>ADV</th>\n",
       "      <td>0</td>\n",
       "      <td>720</td>\n",
       "      <td>368</td>\n",
       "      <td>2371</td>\n",
       "      <td>0</td>\n",
       "      <td>0</td>\n",
       "      <td>25</td>\n",
       "      <td>0</td>\n",
       "      <td>0</td>\n",
       "      <td>0</td>\n",
       "      <td>0</td>\n",
       "      <td>0</td>\n",
       "    </tr>\n",
       "    <tr>\n",
       "      <th>CONJ</th>\n",
       "      <td>0</td>\n",
       "      <td>0</td>\n",
       "      <td>525</td>\n",
       "      <td>11</td>\n",
       "      <td>30608</td>\n",
       "      <td>0</td>\n",
       "      <td>0</td>\n",
       "      <td>0</td>\n",
       "      <td>0</td>\n",
       "      <td>0</td>\n",
       "      <td>0</td>\n",
       "      <td>4</td>\n",
       "    </tr>\n",
       "    <tr>\n",
       "      <th>DET</th>\n",
       "      <td>0</td>\n",
       "      <td>1862</td>\n",
       "      <td>5679</td>\n",
       "      <td>1161</td>\n",
       "      <td>12</td>\n",
       "      <td>131896</td>\n",
       "      <td>402</td>\n",
       "      <td>1750</td>\n",
       "      <td>2864</td>\n",
       "      <td>745</td>\n",
       "      <td>65</td>\n",
       "      <td>20</td>\n",
       "    </tr>\n",
       "    <tr>\n",
       "      <th>NOUN</th>\n",
       "      <td>4</td>\n",
       "      <td>73898</td>\n",
       "      <td>7957</td>\n",
       "      <td>27875</td>\n",
       "      <td>449</td>\n",
       "      <td>2399</td>\n",
       "      <td>263709</td>\n",
       "      <td>9341</td>\n",
       "      <td>2008</td>\n",
       "      <td>3485</td>\n",
       "      <td>92930</td>\n",
       "      <td>1212</td>\n",
       "    </tr>\n",
       "    <tr>\n",
       "      <th>NUM</th>\n",
       "      <td>0</td>\n",
       "      <td>0</td>\n",
       "      <td>0</td>\n",
       "      <td>0</td>\n",
       "      <td>0</td>\n",
       "      <td>0</td>\n",
       "      <td>0</td>\n",
       "      <td>598</td>\n",
       "      <td>0</td>\n",
       "      <td>0</td>\n",
       "      <td>0</td>\n",
       "      <td>0</td>\n",
       "    </tr>\n",
       "    <tr>\n",
       "      <th>PRON</th>\n",
       "      <td>0</td>\n",
       "      <td>56</td>\n",
       "      <td>1080</td>\n",
       "      <td>6024</td>\n",
       "      <td>0</td>\n",
       "      <td>577</td>\n",
       "      <td>563</td>\n",
       "      <td>859</td>\n",
       "      <td>43327</td>\n",
       "      <td>3865</td>\n",
       "      <td>5</td>\n",
       "      <td>6</td>\n",
       "    </tr>\n",
       "    <tr>\n",
       "      <th>PRT</th>\n",
       "      <td>0</td>\n",
       "      <td>0</td>\n",
       "      <td>1914</td>\n",
       "      <td>0</td>\n",
       "      <td>0</td>\n",
       "      <td>0</td>\n",
       "      <td>0</td>\n",
       "      <td>0</td>\n",
       "      <td>0</td>\n",
       "      <td>2707</td>\n",
       "      <td>0</td>\n",
       "      <td>1</td>\n",
       "    </tr>\n",
       "    <tr>\n",
       "      <th>VERB</th>\n",
       "      <td>0</td>\n",
       "      <td>2703</td>\n",
       "      <td>1825</td>\n",
       "      <td>8070</td>\n",
       "      <td>2461</td>\n",
       "      <td>478</td>\n",
       "      <td>5818</td>\n",
       "      <td>0</td>\n",
       "      <td>877</td>\n",
       "      <td>875</td>\n",
       "      <td>85650</td>\n",
       "      <td>11</td>\n",
       "    </tr>\n",
       "  </tbody>\n",
       "</table>\n",
       "</div>"
      ],
      "text/plain": [
       "actual_tag       .    ADJ     ADP    ADV   CONJ     DET    NOUN   NUM   PRON  \\\n",
       "pred_tag                                                                       \n",
       ".           147526    137    3391   3564   1120    1131    4235  2022     26   \n",
       "ADJ              0   2035       0   1755      0       0     340   303      0   \n",
       "ADP              0   2284  121986   5401   3489     494     383     0    224   \n",
       "ADV              0    720     368   2371      0       0      25     0      0   \n",
       "CONJ             0      0     525     11  30608       0       0     0      0   \n",
       "DET              0   1862    5679   1161     12  131896     402  1750   2864   \n",
       "NOUN             4  73898    7957  27875    449    2399  263709  9341   2008   \n",
       "NUM              0      0       0      0      0       0       0   598      0   \n",
       "PRON             0     56    1080   6024      0     577     563   859  43327   \n",
       "PRT              0      0    1914      0      0       0       0     0      0   \n",
       "VERB             0   2703    1825   8070   2461     478    5818     0    877   \n",
       "\n",
       "actual_tag    PRT   VERB     X  \n",
       "pred_tag                        \n",
       ".            2927   2701   112  \n",
       "ADJ           105    330     0  \n",
       "ADP         15119   1031    20  \n",
       "ADV             0      0     0  \n",
       "CONJ            0      0     4  \n",
       "DET           745     65    20  \n",
       "NOUN         3485  92930  1212  \n",
       "NUM             0      0     0  \n",
       "PRON         3865      5     6  \n",
       "PRT          2707      0     1  \n",
       "VERB          875  85650    11  "
      ]
     },
     "execution_count": 48,
     "metadata": {},
     "output_type": "execute_result"
    }
   ],
   "source": [
    "confusion_matrix.astype(int)"
   ]
  },
  {
   "cell_type": "code",
   "execution_count": 66,
   "metadata": {},
   "outputs": [],
   "source": [
    "i = 0\n",
    "prec_recall = pd.DataFrame()\n",
    "for idx in confusion_matrix.index:\n",
    "    row = {}\n",
    "    row['tag'] = idx\n",
    "    row['recall'] = recall(i,np.array(confusion_matrix).T)\n",
    "    row['precision'] = precision(i,np.array(confusion_matrix).T)\n",
    "    i+=1\n",
    "    prec_recall = prec_recall.append(row,ignore_index=True)\n",
    "    "
   ]
  },
  {
   "cell_type": "code",
   "execution_count": 67,
   "metadata": {},
   "outputs": [
    {
     "name": "stdout",
     "output_type": "stream",
     "text": [
      "\\begin{tabular}{lrrrrrrrrrrrr}\n",
      "\\toprule\n",
      "actual\\_tag &       . &    ADJ &     ADP &    ADV &   CONJ &     DET &    NOUN &   NUM &   PRON &    PRT &   VERB &     X \\\\\n",
      "pred\\_tag &         &        &         &        &        &         &         &       &        &        &        &       \\\\\n",
      "\\midrule\n",
      ".        &  147526 &    137 &    3391 &   3564 &   1120 &    1131 &    4235 &  2022 &     26 &   2927 &   2701 &   112 \\\\\n",
      "ADJ      &       0 &   2035 &       0 &   1755 &      0 &       0 &     340 &   303 &      0 &    105 &    330 &     0 \\\\\n",
      "ADP      &       0 &   2284 &  121986 &   5401 &   3489 &     494 &     383 &     0 &    224 &  15119 &   1031 &    20 \\\\\n",
      "ADV      &       0 &    720 &     368 &   2371 &      0 &       0 &      25 &     0 &      0 &      0 &      0 &     0 \\\\\n",
      "CONJ     &       0 &      0 &     525 &     11 &  30608 &       0 &       0 &     0 &      0 &      0 &      0 &     4 \\\\\n",
      "DET      &       0 &   1862 &    5679 &   1161 &     12 &  131896 &     402 &  1750 &   2864 &    745 &     65 &    20 \\\\\n",
      "NOUN     &       4 &  73898 &    7957 &  27875 &    449 &    2399 &  263709 &  9341 &   2008 &   3485 &  92930 &  1212 \\\\\n",
      "NUM      &       0 &      0 &       0 &      0 &      0 &       0 &       0 &   598 &      0 &      0 &      0 &     0 \\\\\n",
      "PRON     &       0 &     56 &    1080 &   6024 &      0 &     577 &     563 &   859 &  43327 &   3865 &      5 &     6 \\\\\n",
      "PRT      &       0 &      0 &    1914 &      0 &      0 &       0 &       0 &     0 &      0 &   2707 &      0 &     1 \\\\\n",
      "VERB     &       0 &   2703 &    1825 &   8070 &   2461 &     478 &    5818 &     0 &    877 &    875 &  85650 &    11 \\\\\n",
      "\\bottomrule\n",
      "\\end{tabular}\n",
      "\n"
     ]
    }
   ],
   "source": [
    "print(confusion_matrix.astype(int).to_latex(index=True))  "
   ]
  },
  {
   "cell_type": "code",
   "execution_count": 68,
   "metadata": {},
   "outputs": [
    {
     "name": "stdout",
     "output_type": "stream",
     "text": [
      "\\begin{tabular}{lrrl}\n",
      "\\toprule\n",
      "{} &  precision &  recall &   tag \\\\\n",
      "\\midrule\n",
      "0  &       0.87 &    1.00 &     . \\\\\n",
      "1  &       0.42 &    0.02 &   ADJ \\\\\n",
      "2  &       0.81 &    0.84 &   ADP \\\\\n",
      "3  &       0.68 &    0.04 &   ADV \\\\\n",
      "4  &       0.98 &    0.80 &  CONJ \\\\\n",
      "5  &       0.90 &    0.96 &   DET \\\\\n",
      "6  &       0.54 &    0.96 &  NOUN \\\\\n",
      "7  &       1.00 &    0.04 &   NUM \\\\\n",
      "8  &       0.77 &    0.88 &  PRON \\\\\n",
      "9  &       0.59 &    0.09 &   PRT \\\\\n",
      "10 &       0.79 &    0.47 &  VERB \\\\\n",
      "\\bottomrule\n",
      "\\end{tabular}\n",
      "\n"
     ]
    }
   ],
   "source": [
    "print(prec_recall.round(2).to_latex(index=True))  "
   ]
  },
  {
   "cell_type": "code",
   "execution_count": null,
   "metadata": {},
   "outputs": [],
   "source": []
  },
  {
   "cell_type": "code",
   "execution_count": null,
   "metadata": {},
   "outputs": [],
   "source": []
  },
  {
   "cell_type": "code",
   "execution_count": null,
   "metadata": {},
   "outputs": [],
   "source": []
  }
 ],
 "metadata": {
  "kernelspec": {
   "display_name": "Python 3",
   "language": "python",
   "name": "python3"
  },
  "language_info": {
   "codemirror_mode": {
    "name": "ipython",
    "version": 3
   },
   "file_extension": ".py",
   "mimetype": "text/x-python",
   "name": "python",
   "nbconvert_exporter": "python",
   "pygments_lexer": "ipython3",
   "version": "3.8.5"
  }
 },
 "nbformat": 4,
 "nbformat_minor": 4
}
