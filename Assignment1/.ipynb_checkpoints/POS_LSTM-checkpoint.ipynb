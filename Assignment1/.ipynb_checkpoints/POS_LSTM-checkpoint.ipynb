{
 "cells": [
  {
   "cell_type": "code",
   "execution_count": 19,
   "metadata": {},
   "outputs": [],
   "source": [
    "import nltk\n",
    "import numpy as np\n",
    "import pandas as pd\n",
    "from sklearn.model_selection import train_test_split"
   ]
  },
  {
   "cell_type": "code",
   "execution_count": 2,
   "metadata": {},
   "outputs": [
    {
     "name": "stderr",
     "output_type": "stream",
     "text": [
      "[nltk_data] Downloading package brown to\n",
      "[nltk_data]     /Users/manojbhadu/nltk_data...\n",
      "[nltk_data]   Package brown is already up-to-date!\n",
      "[nltk_data] Downloading package universal_tagset to\n",
      "[nltk_data]     /Users/manojbhadu/nltk_data...\n",
      "[nltk_data]   Package universal_tagset is already up-to-date!\n"
     ]
    },
    {
     "data": {
      "text/plain": [
       "True"
      ]
     },
     "execution_count": 2,
     "metadata": {},
     "output_type": "execute_result"
    }
   ],
   "source": [
    "nltk.download('brown')\n",
    "nltk.download('universal_tagset')"
   ]
  },
  {
   "cell_type": "code",
   "execution_count": 8,
   "metadata": {},
   "outputs": [],
   "source": [
    "brown_corpus_sent = list(nltk.corpus.brown.tagged_sents(tagset='universal'))"
   ]
  },
  {
   "cell_type": "code",
   "execution_count": 12,
   "metadata": {},
   "outputs": [
    {
     "name": "stdout",
     "output_type": "stream",
     "text": [
      "Total sentences with tags:  57340\n",
      "total tagged words: 1161192\n"
     ]
    },
    {
     "data": {
      "text/plain": [
       "('Fulton', 'NOUN')"
      ]
     },
     "execution_count": 12,
     "metadata": {},
     "output_type": "execute_result"
    }
   ],
   "source": [
    "print(\"Total sentences with tags: \", len(brown_corpus_sent))\n",
    "print(\"total tagged words:\", len(nltk.corpus.brown.tagged_words()))\n",
    "brown_corpus_sent[0][1]"
   ]
  },
  {
   "cell_type": "markdown",
   "metadata": {},
   "source": [
    "#### Pre processing"
   ]
  },
  {
   "cell_type": "code",
   "execution_count": 13,
   "metadata": {},
   "outputs": [],
   "source": [
    "sentences, sentence_tags =[], [] \n",
    "for tagged_sentence in brown_corpus_sent:\n",
    "    sentence, tags = zip(*tagged_sentence)\n",
    "    sentences.append(np.array(sentence))\n",
    "    sentence_tags.append(np.array(tags))\n"
   ]
  },
  {
   "cell_type": "code",
   "execution_count": 52,
   "metadata": {},
   "outputs": [],
   "source": [
    "training_sentences, test_sentences, training_tags, test_tags = train_test_split(sentences, sentence_tags, test_size=0.2)"
   ]
  },
  {
   "cell_type": "code",
   "execution_count": 53,
   "metadata": {},
   "outputs": [],
   "source": [
    "vocab = set([])\n",
    "unique_tags = set([])\n",
    "for sent in training_sentences:\n",
    "    for word in sent:\n",
    "        vocab.add(word.lower())\n",
    "for sent_tag in training_tags:\n",
    "    for tag in sent_tag:\n",
    "        unique_tags.add(tag)"
   ]
  },
  {
   "cell_type": "code",
   "execution_count": 54,
   "metadata": {},
   "outputs": [
    {
     "name": "stdout",
     "output_type": "stream",
     "text": [
      "12 45079\n"
     ]
    }
   ],
   "source": [
    "print(len(unique_tags),len(vocab))"
   ]
  },
  {
   "cell_type": "code",
   "execution_count": 58,
   "metadata": {},
   "outputs": [],
   "source": [
    "#Converting words to integar and adding pad and unkonwn words as integar as 0 and 1\n",
    "word2int = {word: i + 2 for i, word in enumerate(list(vocab))}\n",
    "word2int['-PAD-'] = 0\n",
    "word2int['-UNK-'] = 1 \n",
    " \n",
    "tag2int = {tag: i + 1 for i, tag in enumerate(list(unique_tags))}\n",
    "tag2int['-PAD-'] = 0  "
   ]
  },
  {
   "cell_type": "code",
   "execution_count": 59,
   "metadata": {},
   "outputs": [
    {
     "data": {
      "text/plain": [
       "(38201, 10)"
      ]
     },
     "execution_count": 59,
     "metadata": {},
     "output_type": "execute_result"
    }
   ],
   "source": [
    "word2int['were'], tag2int[\"ADJ\"]"
   ]
  },
  {
   "cell_type": "code",
   "execution_count": 64,
   "metadata": {},
   "outputs": [],
   "source": [
    "#Convert test and trainig dataset to integer\n",
    "X_train, X_test, Y_train, Y_test = [],[],[],[]\n",
    "for sent in training_sentences:\n",
    "    sent_to_int = []\n",
    "    for word in sent:\n",
    "        try:\n",
    "            sent_to_int.append(word2int[word.lower()])\n",
    "        except KeyError:\n",
    "            sent_to_int.append(word2int['-UNK-'])\n",
    "    X_train.append(sent_to_int)\n",
    "\n",
    "for sent in test_sentences:\n",
    "    sent_to_int = []\n",
    "    for word in sent:\n",
    "        try:\n",
    "            sent_to_int.append(word2int[word.lower()])\n",
    "        except KeyError:\n",
    "            sent_to_int.append(word2int['-UNK-'])\n",
    "    X_test.append(sent_to_int)\n",
    "    \n",
    "    \n",
    "for sent_tag in training_tags:\n",
    "    Y_train.append([tag2int[tag] for tag in sent_tag])\n",
    "    \n",
    "for sent_tag in test_tags:\n",
    "    Y_test.append([tag2int[tag] for tag in sent_tag])"
   ]
  },
  {
   "cell_type": "code",
   "execution_count": 73,
   "metadata": {},
   "outputs": [
    {
     "name": "stdout",
     "output_type": "stream",
     "text": [
      "[38390, 9062, 25010, 31274, 28422, 29954, 29954] \n",
      " [5, 12, 4, 1, 2, 7, 7]\n",
      "[6165, 36863, 14525, 2287, 31274, 42109, 6864, 13550, 28271, 27483, 31274, 36123, 36061, 38390, 20715, 2287, 31274, 2648, 36123, 4415, 13341, 31274, 42109, 6864, 13550, 28271, 29954, 29954] \n",
      " [4, 3, 12, 6, 1, 7, 2, 7, 4, 6, 1, 2, 7, 5, 12, 6, 1, 2, 4, 11, 12, 1, 7, 2, 7, 4, 7, 7]\n"
     ]
    }
   ],
   "source": [
    "print(X_train[0],\"\\n\",Y_train[0])\n",
    "print(X_test[0],\"\\n\",Y_test[0])"
   ]
  },
  {
   "cell_type": "code",
   "execution_count": 78,
   "metadata": {},
   "outputs": [
    {
     "name": "stdout",
     "output_type": "stream",
     "text": [
      "180\n"
     ]
    }
   ],
   "source": [
    "#Now we add padding to every sentence for equalling the length to max length of sentences\n",
    "MAX_LENGTH = len(max(X_train, key=len))\n",
    "print(MAX_LENGTH) \n"
   ]
  },
  {
   "cell_type": "code",
   "execution_count": 82,
   "metadata": {},
   "outputs": [],
   "source": [
    "from keras.preprocessing.sequence import pad_sequences\n",
    "\n",
    "X_train = pad_sequences(X_train, maxlen=MAX_LENGTH, padding='post')\n",
    "X_test = pad_sequences(X_test, maxlen=MAX_LENGTH, padding='post')\n",
    "Y_train = pad_sequences(Y_train, maxlen=MAX_LENGTH, padding='post')\n",
    "Y_test = pad_sequences(Y_test, maxlen=MAX_LENGTH, padding='post')\n",
    " \n",
    "#print(X_train[0])\n",
    "#print(X_test[0])\n",
    "#print(Y_train[0])\n",
    "#print(Y_test[0])"
   ]
  },
  {
   "cell_type": "code",
   "execution_count": 98,
   "metadata": {},
   "outputs": [],
   "source": [
    "#we will define the accuracy without consideration of padding beacause if not then accuracy will be high due to \n",
    "#prediction of padding tags\n",
    "\n",
    "from keras import backend as K\n",
    " \n",
    "def no_pad_accuracy(to_ignore=0):\n",
    "    def ignore_accuracy(y_true, y_pred):\n",
    "        y_true_class = K.argmax(y_true, axis=-1)\n",
    "        y_pred_class = K.argmax(y_pred, axis=-1)\n",
    " \n",
    "        ignore_mask = K.cast(K.not_equal(y_pred_class, to_ignore), 'int32')\n",
    "        matches = K.cast(K.equal(y_true_class, y_pred_class), 'int32') * ignore_mask\n",
    "        accuracy = K.sum(matches) / K.maximum(K.sum(ignore_mask), 1)\n",
    "        return accuracy\n",
    "    return ignore_accuracy"
   ]
  },
  {
   "cell_type": "code",
   "execution_count": 99,
   "metadata": {},
   "outputs": [],
   "source": [
    "#Now we define the network architecture\n",
    "#we will use the word embeddins for word to vector\n",
    "#we have used Bidirectional LSTM, and model return a sequence\n",
    "\n",
    "#first import library\n",
    "from keras.models import Sequential\n",
    "from keras.layers import Dense, LSTM, InputLayer, Bidirectional, TimeDistributed, Embedding, Activation\n",
    "from keras.optimizers import Adam"
   ]
  },
  {
   "cell_type": "code",
   "execution_count": 101,
   "metadata": {},
   "outputs": [
    {
     "name": "stdout",
     "output_type": "stream",
     "text": [
      "Model: \"sequential_2\"\n",
      "_________________________________________________________________\n",
      "Layer (type)                 Output Shape              Param #   \n",
      "=================================================================\n",
      "embedding_3 (Embedding)      (None, 180, 128)          5770368   \n",
      "_________________________________________________________________\n",
      "bidirectional_2 (Bidirection (None, 180, 512)          788480    \n",
      "_________________________________________________________________\n",
      "time_distributed_2 (TimeDist (None, 180, 13)           6669      \n",
      "_________________________________________________________________\n",
      "activation_2 (Activation)    (None, 180, 13)           0         \n",
      "=================================================================\n",
      "Total params: 6,565,517\n",
      "Trainable params: 6,565,517\n",
      "Non-trainable params: 0\n",
      "_________________________________________________________________\n"
     ]
    }
   ],
   "source": [
    "model = Sequential()\n",
    "model.add(InputLayer(input_shape=(MAX_LENGTH, )))\n",
    "model.add(Embedding(len(word2int), 128))\n",
    "model.add(Bidirectional(LSTM(256, return_sequences=True)))\n",
    "model.add(TimeDistributed(Dense(len(tag2int))))\n",
    "model.add(Activation('softmax'))\n",
    " \n",
    "model.compile(loss='categorical_crossentropy',\n",
    "              optimizer=Adam(0.001),\n",
    "              metrics=['accuracy',no_pad_accuracy(0)])\n",
    " \n",
    "model.summary()"
   ]
  },
  {
   "cell_type": "code",
   "execution_count": 102,
   "metadata": {},
   "outputs": [],
   "source": [
    "#Convert to one hot vector\n",
    "\n",
    "def to_categorical(sequences, categories):\n",
    "    cat_sequences = []\n",
    "    for s in sequences:\n",
    "        cats = []\n",
    "        for item in s:\n",
    "            cats.append(np.zeros(categories))\n",
    "            cats[-1][item] = 1.0\n",
    "        cat_sequences.append(cats)\n",
    "    return np.array(cat_sequences)\n",
    " "
   ]
  },
  {
   "cell_type": "code",
   "execution_count": 103,
   "metadata": {},
   "outputs": [],
   "source": [
    "cat_train_tags_y = to_categorical(Y_train, len(tag2int))\n"
   ]
  },
  {
   "cell_type": "code",
   "execution_count": 104,
   "metadata": {},
   "outputs": [
    {
     "data": {
      "text/plain": [
       "array([[0., 0., 0., ..., 0., 0., 0.],\n",
       "       [0., 0., 0., ..., 0., 0., 1.],\n",
       "       [0., 0., 0., ..., 0., 0., 0.],\n",
       "       ...,\n",
       "       [1., 0., 0., ..., 0., 0., 0.],\n",
       "       [1., 0., 0., ..., 0., 0., 0.],\n",
       "       [1., 0., 0., ..., 0., 0., 0.]])"
      ]
     },
     "execution_count": 104,
     "metadata": {},
     "output_type": "execute_result"
    }
   ],
   "source": [
    "cat_train_tags_y[0]"
   ]
  },
  {
   "cell_type": "code",
   "execution_count": 106,
   "metadata": {},
   "outputs": [],
   "source": [
    "model.fit(X_train, to_categorical(Y_train, len(tag2int)), batch_size=128, epochs=40, validation_split=0.2)\n"
   ]
  },
  {
   "cell_type": "code",
   "execution_count": null,
   "metadata": {},
   "outputs": [],
   "source": [
    "scores = model.evaluate(X_test, to_categorical(Y_test, len(tag2int)))\n",
    "print(f\"{model.metrics_names[1]}: {scores[1] * 100}\")   "
   ]
  }
 ],
 "metadata": {
  "kernelspec": {
   "display_name": "Python 3",
   "language": "python",
   "name": "python3"
  },
  "language_info": {
   "codemirror_mode": {
    "name": "ipython",
    "version": 3
   },
   "file_extension": ".py",
   "mimetype": "text/x-python",
   "name": "python",
   "nbconvert_exporter": "python",
   "pygments_lexer": "ipython3",
   "version": "3.8.5"
  }
 },
 "nbformat": 4,
 "nbformat_minor": 4
}
