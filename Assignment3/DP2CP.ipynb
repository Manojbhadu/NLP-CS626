{
 "cells": [
  {
   "cell_type": "code",
   "execution_count": 1,
   "metadata": {},
   "outputs": [],
   "source": [
    "##Requirements:\n",
    "##1. JDK toolkit 'https://www.oracle.com/java/technologies/javase-jdk15-downloads.html'\n",
    "##2. Stanford NLP 'https://stanfordnlp.github.io/CoreNLP/download.html'\n",
    "##3. Spacy 'pip3 install -U spacy'\n",
    "##4. python3 -m spacy download en_core_web_sm\n",
    "##5. Spacy instructions: https://spacy.io/usage/linguistic-features#dependency-parse & https://spacy.io/usage/visualizers#jupyter"
   ]
  },
  {
   "cell_type": "code",
   "execution_count": 20,
   "metadata": {},
   "outputs": [],
   "source": [
    "import spacy\n",
    "from spacy import displacy\n",
    "\n",
    "nlp = spacy.load(\"en_core_web_sm\")\n",
    "doc = nlp(\"The boy is eating with spoon.\")\n",
    "dp = []\n",
    "for token in doc:\n",
    "    #print(token.text, token.dep_, token.head.text, token.head.pos_)\n",
    "    tup = (token.text, token.dep_, token.head.text, token.head.pos_)\n",
    "    dp.append(tup)"
   ]
  },
  {
   "cell_type": "code",
   "execution_count": 21,
   "metadata": {},
   "outputs": [
    {
     "data": {
      "text/plain": [
       "[('The', 'det', 'boy', 'NOUN'),\n",
       " ('boy', 'nsubj', 'eating', 'VERB'),\n",
       " ('is', 'aux', 'eating', 'VERB'),\n",
       " ('eating', 'ROOT', 'eating', 'VERB'),\n",
       " ('with', 'prep', 'eating', 'VERB'),\n",
       " ('spoon', 'pobj', 'with', 'ADP'),\n",
       " ('.', 'punct', 'eating', 'VERB')]"
      ]
     },
     "execution_count": 21,
     "metadata": {},
     "output_type": "execute_result"
    }
   ],
   "source": [
    "dp"
   ]
  },
  {
   "cell_type": "code",
   "execution_count": 22,
   "metadata": {},
   "outputs": [
    {
     "data": {
      "text/html": [
       "<span class=\"tex2jax_ignore\"><svg xmlns=\"http://www.w3.org/2000/svg\" xmlns:xlink=\"http://www.w3.org/1999/xlink\" xml:lang=\"en\" id=\"e9a1fa58da2f428b8278b5f96d813ac4-0\" class=\"displacy\" width=\"1100\" height=\"312.0\" direction=\"ltr\" style=\"max-width: none; height: 312.0px; color: #000000; background: #ffffff; font-family: Arial; direction: ltr\">\n",
       "<text class=\"displacy-token\" fill=\"currentColor\" text-anchor=\"middle\" y=\"222.0\">\n",
       "    <tspan class=\"displacy-word\" fill=\"currentColor\" x=\"50\">The</tspan>\n",
       "    <tspan class=\"displacy-tag\" dy=\"2em\" fill=\"currentColor\" x=\"50\">DET</tspan>\n",
       "</text>\n",
       "\n",
       "<text class=\"displacy-token\" fill=\"currentColor\" text-anchor=\"middle\" y=\"222.0\">\n",
       "    <tspan class=\"displacy-word\" fill=\"currentColor\" x=\"225\">boy</tspan>\n",
       "    <tspan class=\"displacy-tag\" dy=\"2em\" fill=\"currentColor\" x=\"225\">NOUN</tspan>\n",
       "</text>\n",
       "\n",
       "<text class=\"displacy-token\" fill=\"currentColor\" text-anchor=\"middle\" y=\"222.0\">\n",
       "    <tspan class=\"displacy-word\" fill=\"currentColor\" x=\"400\">is</tspan>\n",
       "    <tspan class=\"displacy-tag\" dy=\"2em\" fill=\"currentColor\" x=\"400\">AUX</tspan>\n",
       "</text>\n",
       "\n",
       "<text class=\"displacy-token\" fill=\"currentColor\" text-anchor=\"middle\" y=\"222.0\">\n",
       "    <tspan class=\"displacy-word\" fill=\"currentColor\" x=\"575\">eating</tspan>\n",
       "    <tspan class=\"displacy-tag\" dy=\"2em\" fill=\"currentColor\" x=\"575\">VERB</tspan>\n",
       "</text>\n",
       "\n",
       "<text class=\"displacy-token\" fill=\"currentColor\" text-anchor=\"middle\" y=\"222.0\">\n",
       "    <tspan class=\"displacy-word\" fill=\"currentColor\" x=\"750\">with</tspan>\n",
       "    <tspan class=\"displacy-tag\" dy=\"2em\" fill=\"currentColor\" x=\"750\">ADP</tspan>\n",
       "</text>\n",
       "\n",
       "<text class=\"displacy-token\" fill=\"currentColor\" text-anchor=\"middle\" y=\"222.0\">\n",
       "    <tspan class=\"displacy-word\" fill=\"currentColor\" x=\"925\">spoon.</tspan>\n",
       "    <tspan class=\"displacy-tag\" dy=\"2em\" fill=\"currentColor\" x=\"925\">NOUN</tspan>\n",
       "</text>\n",
       "\n",
       "<g class=\"displacy-arrow\">\n",
       "    <path class=\"displacy-arc\" id=\"arrow-e9a1fa58da2f428b8278b5f96d813ac4-0-0\" stroke-width=\"2px\" d=\"M70,177.0 C70,89.5 220.0,89.5 220.0,177.0\" fill=\"none\" stroke=\"currentColor\"/>\n",
       "    <text dy=\"1.25em\" style=\"font-size: 0.8em; letter-spacing: 1px\">\n",
       "        <textPath xlink:href=\"#arrow-e9a1fa58da2f428b8278b5f96d813ac4-0-0\" class=\"displacy-label\" startOffset=\"50%\" side=\"left\" fill=\"currentColor\" text-anchor=\"middle\">det</textPath>\n",
       "    </text>\n",
       "    <path class=\"displacy-arrowhead\" d=\"M70,179.0 L62,167.0 78,167.0\" fill=\"currentColor\"/>\n",
       "</g>\n",
       "\n",
       "<g class=\"displacy-arrow\">\n",
       "    <path class=\"displacy-arc\" id=\"arrow-e9a1fa58da2f428b8278b5f96d813ac4-0-1\" stroke-width=\"2px\" d=\"M245,177.0 C245,2.0 575.0,2.0 575.0,177.0\" fill=\"none\" stroke=\"currentColor\"/>\n",
       "    <text dy=\"1.25em\" style=\"font-size: 0.8em; letter-spacing: 1px\">\n",
       "        <textPath xlink:href=\"#arrow-e9a1fa58da2f428b8278b5f96d813ac4-0-1\" class=\"displacy-label\" startOffset=\"50%\" side=\"left\" fill=\"currentColor\" text-anchor=\"middle\">nsubj</textPath>\n",
       "    </text>\n",
       "    <path class=\"displacy-arrowhead\" d=\"M245,179.0 L237,167.0 253,167.0\" fill=\"currentColor\"/>\n",
       "</g>\n",
       "\n",
       "<g class=\"displacy-arrow\">\n",
       "    <path class=\"displacy-arc\" id=\"arrow-e9a1fa58da2f428b8278b5f96d813ac4-0-2\" stroke-width=\"2px\" d=\"M420,177.0 C420,89.5 570.0,89.5 570.0,177.0\" fill=\"none\" stroke=\"currentColor\"/>\n",
       "    <text dy=\"1.25em\" style=\"font-size: 0.8em; letter-spacing: 1px\">\n",
       "        <textPath xlink:href=\"#arrow-e9a1fa58da2f428b8278b5f96d813ac4-0-2\" class=\"displacy-label\" startOffset=\"50%\" side=\"left\" fill=\"currentColor\" text-anchor=\"middle\">aux</textPath>\n",
       "    </text>\n",
       "    <path class=\"displacy-arrowhead\" d=\"M420,179.0 L412,167.0 428,167.0\" fill=\"currentColor\"/>\n",
       "</g>\n",
       "\n",
       "<g class=\"displacy-arrow\">\n",
       "    <path class=\"displacy-arc\" id=\"arrow-e9a1fa58da2f428b8278b5f96d813ac4-0-3\" stroke-width=\"2px\" d=\"M595,177.0 C595,89.5 745.0,89.5 745.0,177.0\" fill=\"none\" stroke=\"currentColor\"/>\n",
       "    <text dy=\"1.25em\" style=\"font-size: 0.8em; letter-spacing: 1px\">\n",
       "        <textPath xlink:href=\"#arrow-e9a1fa58da2f428b8278b5f96d813ac4-0-3\" class=\"displacy-label\" startOffset=\"50%\" side=\"left\" fill=\"currentColor\" text-anchor=\"middle\">prep</textPath>\n",
       "    </text>\n",
       "    <path class=\"displacy-arrowhead\" d=\"M745.0,179.0 L753.0,167.0 737.0,167.0\" fill=\"currentColor\"/>\n",
       "</g>\n",
       "\n",
       "<g class=\"displacy-arrow\">\n",
       "    <path class=\"displacy-arc\" id=\"arrow-e9a1fa58da2f428b8278b5f96d813ac4-0-4\" stroke-width=\"2px\" d=\"M770,177.0 C770,89.5 920.0,89.5 920.0,177.0\" fill=\"none\" stroke=\"currentColor\"/>\n",
       "    <text dy=\"1.25em\" style=\"font-size: 0.8em; letter-spacing: 1px\">\n",
       "        <textPath xlink:href=\"#arrow-e9a1fa58da2f428b8278b5f96d813ac4-0-4\" class=\"displacy-label\" startOffset=\"50%\" side=\"left\" fill=\"currentColor\" text-anchor=\"middle\">pobj</textPath>\n",
       "    </text>\n",
       "    <path class=\"displacy-arrowhead\" d=\"M920.0,179.0 L928.0,167.0 912.0,167.0\" fill=\"currentColor\"/>\n",
       "</g>\n",
       "</svg></span>"
      ],
      "text/plain": [
       "<IPython.core.display.HTML object>"
      ]
     },
     "metadata": {},
     "output_type": "display_data"
    }
   ],
   "source": [
    "displacy.render(doc, style='dep')"
   ]
  },
  {
   "cell_type": "code",
   "execution_count": 23,
   "metadata": {},
   "outputs": [
    {
     "data": {
      "text/plain": [
       "[('The', 'DT'),\n",
       " ('boy', 'NN'),\n",
       " ('is', 'AUX'),\n",
       " ('eating', 'VB'),\n",
       " ('with', 'IN'),\n",
       " ('spoon', 'NN')]"
      ]
     },
     "execution_count": 23,
     "metadata": {},
     "output_type": "execute_result"
    }
   ],
   "source": [
    "cp=[]\n",
    "for tup in dp:\n",
    "    if(tup[1]=='det'):\n",
    "        a=(tup[0],'DT')\n",
    "        cp.append(a)\n",
    "    elif(tup[1]=='nsubj'):\n",
    "        a=(tup[0],'NN')\n",
    "        cp.append(a)\n",
    "    elif(tup[1]=='dobj'):\n",
    "        a=(tup[0],'NN')\n",
    "        cp.append(a)\n",
    "    elif(tup[1]=='aux'):\n",
    "        a=(tup[0],'AUX')\n",
    "        cp.append(a)\n",
    "    elif(tup[1]=='ROOT'):\n",
    "        a=(tup[0],'VB')\n",
    "        cp.append(a)\n",
    "    elif(tup[1]=='prep'):\n",
    "        a=(tup[0],'IN')\n",
    "        cp.append(a)\n",
    "    elif(tup[1]=='pobj'):\n",
    "        a=(tup[0],'NN')\n",
    "        cp.append(a)\n",
    "    elif(tup[1]=='pobj'):\n",
    "        a=(tup[0],'NN')\n",
    "        cp.append(a)  \n",
    "    else:\n",
    "        a=(tup[0],'X')\n",
    "        cp.append(a)\n",
    "cp.pop()\n",
    "cp"
   ]
  },
  {
   "cell_type": "code",
   "execution_count": 24,
   "metadata": {},
   "outputs": [
    {
     "name": "stdout",
     "output_type": "stream",
     "text": [
      "( ( ('The', 'DT') ('boy', 'NN') NP ) ( ( ('is', 'AUX') ('eating', 'VB') VP ) ( ('with', 'IN') PP ) ( ('spoon', 'NN') NP ) VP) S)\n"
     ]
    }
   ],
   "source": [
    "temp=[]\n",
    "temp.append(('start','('))\n",
    "k=0\n",
    "P=''\n",
    "for i in range(len(cp)):\n",
    "    if cp[i][1]=='VPStarting' or cp[i][1]=='VB' or cp[i][1]=='AUX':\n",
    "        temp.pop()\n",
    "        k=i\n",
    "        break\n",
    "    else:\n",
    "        if cp[i][1]=='NN':\n",
    "            temp.append(cp[i])\n",
    "            temp.append(('NP',')'))\n",
    "            temp.append(('start','('))\n",
    "            continue\n",
    "        if cp[i][1]=='DT':\n",
    "            temp.append(cp[i])\n",
    "            \n",
    "            continue\n",
    "        if cp[i][1]=='IN':\n",
    "            temp.append(cp[i])\n",
    "            temp.append(('PP',')'))\n",
    "            temp.append(('start','('))\n",
    "            continue\n",
    "            temp.append(cp[i])\n",
    "\n",
    "temp.append(('VP','('))\n",
    "temp.append(('start','('))\n",
    "for i in range(k,len(cp)):\n",
    "    if cp[i][1]=='NN':\n",
    "        temp.append(cp[i])\n",
    "        temp.append(('NP',')'))\n",
    "        temp.append(('start','('))\n",
    "        continue\n",
    "    if cp[i][1]=='IN':\n",
    "        temp.append(cp[i])\n",
    "        temp.append(('PP',')'))\n",
    "        temp.append(('start','('))\n",
    "        continue\n",
    "    if cp[i][1]=='VB' or cp[i][1]=='VPStarting':\n",
    "        temp.append(cp[i])\n",
    "        temp.append(('VP',')'))\n",
    "        temp.append(('start','('))\n",
    "        continue\n",
    "    temp.append(cp[i])\n",
    "temp.pop()  \n",
    "if temp[-1][1]!=\")\":\n",
    "    temp.append(('X',')'))\n",
    "\n",
    "print('(',end=\" \")\n",
    "for tup in temp:\n",
    "    if tup[1]=='(':\n",
    "        print(\"(\",end=\" \")\n",
    "    elif tup[1]==')':\n",
    "        print(tup[0],')',end=\" \")\n",
    "    else :\n",
    "        print(tup,end=\" \")\n",
    "\n",
    "print('VP)',end=\" \")\n",
    "print('S)')\n",
    "\n",
    "\n"
   ]
  },
  {
   "cell_type": "code",
   "execution_count": null,
   "metadata": {},
   "outputs": [],
   "source": []
  },
  {
   "cell_type": "code",
   "execution_count": 12,
   "metadata": {},
   "outputs": [],
   "source": [
    "import os\n",
    "from nltk.parse.corenlp import CoreNLPServer\n",
    "# The server needs to know the location of the following files:\n",
    "#   - stanford-corenlp-X.X.X.jar\n",
    "#   - stanford-corenlp-X.X.X-models.jar\n",
    "#STANFORD = os.path.join(\"models\", \"stanford-corenlp-full-2018-02-27\")\n",
    "# Create the server\n",
    "server = CoreNLPServer(\n",
    "   os.path.join('stanford-corenlp-4.1.0', \"stanford-corenlp-4.1.0.jar\"),\n",
    "   os.path.join('stanford-corenlp-4.1.0', \"stanford-corenlp-4.1.0-models.jar\"),    \n",
    ")\n",
    "# Start the server in the background\n",
    "server.start()"
   ]
  },
  {
   "cell_type": "code",
   "execution_count": 27,
   "metadata": {},
   "outputs": [],
   "source": [
    "from nltk.parse.corenlp import CoreNLPParser\n",
    "parser = CoreNLPParser()\n",
    "parse = next(parser.raw_parse(\"The boy is eating with spoon.\"))\n",
    "\n"
   ]
  },
  {
   "cell_type": "code",
   "execution_count": 28,
   "metadata": {},
   "outputs": [
    {
     "name": "stdout",
     "output_type": "stream",
     "text": [
      "(ROOT\n",
      "  (S\n",
      "    (NP (DT The) (NN boy))\n",
      "    (VP (VBZ is) (VP (VBG eating) (PP (IN with) (NP (NN spoon)))))\n",
      "    (. .)))\n"
     ]
    }
   ],
   "source": [
    "print(parse)"
   ]
  },
  {
   "cell_type": "code",
   "execution_count": 29,
   "metadata": {},
   "outputs": [
    {
     "name": "stdout",
     "output_type": "stream",
     "text": [
      "                 ROOT                        \n",
      "                  |                           \n",
      "                  S                          \n",
      "      ____________|________________________   \n",
      "     |                  VP                 | \n",
      "     |        __________|___               |  \n",
      "     |       |              VP             | \n",
      "     |       |     _________|____          |  \n",
      "     |       |    |              PP        | \n",
      "     |       |    |          ____|____     |  \n",
      "     NP      |    |         |         NP   | \n",
      "  ___|___    |    |         |         |    |  \n",
      " DT      NN VBZ  VBG        IN        NN   . \n",
      " |       |   |    |         |         |    |  \n",
      "The     boy  is eating     with     spoon  . \n",
      "\n"
     ]
    }
   ],
   "source": [
    "parse.pretty_print()"
   ]
  },
  {
   "cell_type": "code",
   "execution_count": null,
   "metadata": {},
   "outputs": [],
   "source": [
    "\"('The', 'det', 'boy'),('boy', 'nsubj', 'eating'),('is', 'aux', 'eating'),('eating', 'ROOT', 'eating'),('with', 'prep', 'eating'),('spoon', 'pobj', 'with'),('.', 'punct', 'eating')\""
   ]
  }
 ],
 "metadata": {
  "kernelspec": {
   "display_name": "Python 3",
   "language": "python",
   "name": "python3"
  },
  "language_info": {
   "codemirror_mode": {
    "name": "ipython",
    "version": 3
   },
   "file_extension": ".py",
   "mimetype": "text/x-python",
   "name": "python",
   "nbconvert_exporter": "python",
   "pygments_lexer": "ipython3",
   "version": "3.8.5"
  }
 },
 "nbformat": 4,
 "nbformat_minor": 4
}
