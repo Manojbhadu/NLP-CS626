{
  "nbformat": 4,
  "nbformat_minor": 0,
  "metadata": {
    "accelerator": "GPU",
    "colab": {
      "name": "Chunking_using_LSTM.ipynb",
      "provenance": [],
      "collapsed_sections": []
    },
    "kernelspec": {
      "display_name": "Python 3",
      "language": "python",
      "name": "python3"
    },
    "language_info": {
      "codemirror_mode": {
        "name": "ipython",
        "version": 3
      },
      "file_extension": ".py",
      "mimetype": "text/x-python",
      "name": "python",
      "nbconvert_exporter": "python",
      "pygments_lexer": "ipython3",
      "version": "3.8.5"
    }
  },
  "cells": [
    {
      "cell_type": "code",
      "metadata": {
        "id": "Z6hZIT1Cbeyj"
      },
      "source": [
        "import nltk\n",
        "import numpy as np\n",
        "import pandas as pd\n",
        "from sklearn.model_selection import train_test_split\n"
      ],
      "execution_count": 1,
      "outputs": []
    },
    {
      "cell_type": "code",
      "metadata": {
        "id": "rjzV0V4iqEfL",
        "outputId": "df1db942-4513-4d94-8b0b-b1f7fcf1a644",
        "colab": {
          "base_uri": "https://localhost:8080/",
          "height": 51
        }
      },
      "source": [
        "nltk.download('conll2000')\n",
        "train_sents = list(nltk.corpus.conll2000.iob_sents('train.txt'))\n",
        "test_sents = list(nltk.corpus.conll2000.iob_sents('test.txt'))"
      ],
      "execution_count": 2,
      "outputs": [
        {
          "output_type": "stream",
          "text": [
            "[nltk_data] Downloading package conll2000 to /root/nltk_data...\n",
            "[nltk_data]   Package conll2000 is already up-to-date!\n"
          ],
          "name": "stdout"
        }
      ]
    },
    {
      "cell_type": "code",
      "metadata": {
        "id": "MK7z5ERJbey3"
      },
      "source": [
        "# nltk.download('brown')\n",
        "# nltk.download('universal_tagset')"
      ],
      "execution_count": 3,
      "outputs": []
    },
    {
      "cell_type": "code",
      "metadata": {
        "id": "mqiK0kP3bezE"
      },
      "source": [
        ""
      ],
      "execution_count": 3,
      "outputs": []
    },
    {
      "cell_type": "code",
      "metadata": {
        "id": "eVTkbFtXo24Q",
        "outputId": "e2d1d0da-e738-4993-db74-fcaed00a92f0",
        "colab": {
          "base_uri": "https://localhost:8080/",
          "height": 54
        }
      },
      "source": [
        "print(train_sents[0])"
      ],
      "execution_count": 4,
      "outputs": [
        {
          "output_type": "stream",
          "text": [
            "[('Confidence', 'NN', 'B-NP'), ('in', 'IN', 'B-PP'), ('the', 'DT', 'B-NP'), ('pound', 'NN', 'I-NP'), ('is', 'VBZ', 'B-VP'), ('widely', 'RB', 'I-VP'), ('expected', 'VBN', 'I-VP'), ('to', 'TO', 'I-VP'), ('take', 'VB', 'I-VP'), ('another', 'DT', 'B-NP'), ('sharp', 'JJ', 'I-NP'), ('dive', 'NN', 'I-NP'), ('if', 'IN', 'B-SBAR'), ('trade', 'NN', 'B-NP'), ('figures', 'NNS', 'I-NP'), ('for', 'IN', 'B-PP'), ('September', 'NNP', 'B-NP'), (',', ',', 'O'), ('due', 'JJ', 'B-ADJP'), ('for', 'IN', 'B-PP'), ('release', 'NN', 'B-NP'), ('tomorrow', 'NN', 'B-NP'), (',', ',', 'O'), ('fail', 'VB', 'B-VP'), ('to', 'TO', 'I-VP'), ('show', 'VB', 'I-VP'), ('a', 'DT', 'B-NP'), ('substantial', 'JJ', 'I-NP'), ('improvement', 'NN', 'I-NP'), ('from', 'IN', 'B-PP'), ('July', 'NNP', 'B-NP'), ('and', 'CC', 'I-NP'), ('August', 'NNP', 'I-NP'), (\"'s\", 'POS', 'B-NP'), ('near-record', 'JJ', 'I-NP'), ('deficits', 'NNS', 'I-NP'), ('.', '.', 'O')]\n"
          ],
          "name": "stdout"
        }
      ]
    },
    {
      "cell_type": "code",
      "metadata": {
        "id": "EukxIeOsbezL",
        "outputId": "745bb64d-a33c-4631-83b4-e87438ba752d",
        "colab": {
          "base_uri": "https://localhost:8080/",
          "height": 51
        }
      },
      "source": [
        "print(\"Total sentences with tags: \", len(train_sents))\n",
        "print(\"total tagged words:\", len(nltk.corpus.conll2000.tagged_words()))\n"
      ],
      "execution_count": 5,
      "outputs": [
        {
          "output_type": "stream",
          "text": [
            "Total sentences with tags:  8936\n",
            "total tagged words: 259104\n"
          ],
          "name": "stdout"
        }
      ]
    },
    {
      "cell_type": "markdown",
      "metadata": {
        "id": "xnmRttMfbezS"
      },
      "source": [
        "#### Pre processing"
      ]
    },
    {
      "cell_type": "code",
      "metadata": {
        "id": "QpDOleueo-31"
      },
      "source": [
        "#for Training Data"
      ],
      "execution_count": 6,
      "outputs": []
    },
    {
      "cell_type": "code",
      "metadata": {
        "id": "t9_iqJFLbezU"
      },
      "source": [
        "train_sentences, train_sentence_pos, train_sentence_chunk =[], [],[] \n",
        "for tagged_sentence in train_sents:\n",
        "    sentence, pos_tags, chunks = zip(*tagged_sentence)\n",
        "    train_sentences.append(np.array(sentence))\n",
        "    train_sentence_pos.append(np.array(pos_tags))\n",
        "    train_sentence_chunk.append(np.array(chunks))"
      ],
      "execution_count": 7,
      "outputs": []
    },
    {
      "cell_type": "code",
      "metadata": {
        "id": "ebNciH6cplZJ",
        "outputId": "9f8e98df-260a-4394-ba67-c2e3eb022e93",
        "colab": {
          "base_uri": "https://localhost:8080/",
          "height": 68
        }
      },
      "source": [
        "for i in range(len(train_sentence_chunk)):\n",
        "    for j in range(len(train_sentence_chunk[i])):\n",
        "        train_sentence_chunk[i][j] = train_sentence_chunk[i][j][0]\n",
        "train_sentence_chunk[4]"
      ],
      "execution_count": 8,
      "outputs": [
        {
          "output_type": "execute_result",
          "data": {
            "text/plain": [
              "array(['O', 'B', 'I', 'B', 'B', 'B', 'B', 'I', 'I', 'I', 'B', 'B', 'I',\n",
              "       'B', 'B', 'I', 'I', 'O', 'O', 'B', 'B', 'I', 'O', 'B', 'I', 'I',\n",
              "       'B', 'B', 'I', 'I', 'O'], dtype='<U6')"
            ]
          },
          "metadata": {
            "tags": []
          },
          "execution_count": 8
        }
      ]
    },
    {
      "cell_type": "markdown",
      "metadata": {
        "id": "hCgjZaCZqEf5"
      },
      "source": [
        "for Test Data"
      ]
    },
    {
      "cell_type": "code",
      "metadata": {
        "id": "iV363eqUqEf6"
      },
      "source": [
        "test_sentences, test_sentence_pos, test_sentence_chunk =[], [],[] \n",
        "for tagged_sentence in test_sents:\n",
        "    sentence, pos_tags, chunks = zip(*tagged_sentence)\n",
        "    test_sentences.append(np.array(sentence))\n",
        "    test_sentence_pos.append(np.array(pos_tags))\n",
        "    test_sentence_chunk.append(np.array(chunks))"
      ],
      "execution_count": 9,
      "outputs": []
    },
    {
      "cell_type": "code",
      "metadata": {
        "id": "eJRpQn_wqEf7",
        "outputId": "e8910eea-f982-4cb6-fc5f-69a3c6958a00",
        "colab": {
          "base_uri": "https://localhost:8080/",
          "height": 68
        }
      },
      "source": [
        "for i in range(len(test_sentence_chunk)):\n",
        "    for j in range(len(test_sentence_chunk[i])):\n",
        "        test_sentence_chunk[i][j] = test_sentence_chunk[i][j][0]\n",
        "test_sentence_chunk[0]"
      ],
      "execution_count": 10,
      "outputs": [
        {
          "output_type": "execute_result",
          "data": {
            "text/plain": [
              "array(['B', 'I', 'I', 'B', 'I', 'I', 'B', 'B', 'B', 'B', 'I', 'I', 'B',\n",
              "       'B', 'I', 'B', 'B', 'I', 'B', 'I', 'B', 'I', 'B', 'B', 'B', 'I',\n",
              "       'I', 'O'], dtype='<U4')"
            ]
          },
          "metadata": {
            "tags": []
          },
          "execution_count": 10
        }
      ]
    },
    {
      "cell_type": "code",
      "metadata": {
        "id": "uqTZW6tupejL"
      },
      "source": [
        "# num_sents = len(sentences)\n",
        "# k = 5\n",
        "# foldsize = int(num_sents/5)\n",
        "\n",
        "\n",
        "# k_folds = {}\n",
        "# for i in range(5):\n",
        "#     # Locate the test set in the fold.\n",
        "#     k_folds[\"test_sent{0}\".format(i)] = sentences[i*foldsize:i*foldsize+foldsize]\n",
        "#     k_folds[\"train_sent{0}\".format(i)] = sentences[:i*foldsize] + sentences[i*foldsize+foldsize:]\n",
        "#     k_folds[\"test_tags{0}\".format(i)] = sentence_tags[i*foldsize:i*foldsize+foldsize]\n",
        "#     k_folds[\"train_tags{0}\".format(i)] = sentence_tags[:i*foldsize] + sentence_tags[i*foldsize+foldsize:]"
      ],
      "execution_count": 11,
      "outputs": []
    },
    {
      "cell_type": "code",
      "metadata": {
        "id": "CfUCRHDYqWWd"
      },
      "source": [
        "training_sentences, test_sentences, training_chunk, test_chunk = train_sentences, test_sentences, train_sentence_chunk, test_sentence_chunk"
      ],
      "execution_count": 12,
      "outputs": []
    },
    {
      "cell_type": "code",
      "metadata": {
        "id": "IFMtDbxMrdOM"
      },
      "source": [
        ""
      ],
      "execution_count": 12,
      "outputs": []
    },
    {
      "cell_type": "code",
      "metadata": {
        "id": "4QpCZPOYbezj"
      },
      "source": [
        "vocab = set([])\n",
        "unique_tags = set([])\n",
        "for sent in training_sentences:\n",
        "    for word in sent:\n",
        "        vocab.add(word.lower())\n",
        "for sent_chunk in training_chunk:\n",
        "    for chunk in sent_chunk:\n",
        "        unique_tags.add(chunk)"
      ],
      "execution_count": 13,
      "outputs": []
    },
    {
      "cell_type": "code",
      "metadata": {
        "id": "dXcmYz1Mbezt",
        "outputId": "d92a3d62-6ca7-4fa9-f8f1-70310f9fbd37",
        "colab": {
          "base_uri": "https://localhost:8080/",
          "height": 34
        }
      },
      "source": [
        "print(len(unique_tags),len(vocab))\n"
      ],
      "execution_count": 14,
      "outputs": [
        {
          "output_type": "stream",
          "text": [
            "3 17258\n"
          ],
          "name": "stdout"
        }
      ]
    },
    {
      "cell_type": "code",
      "metadata": {
        "id": "wFIaDGSobez0"
      },
      "source": [
        "#Converting words to integer and adding pad and unkonwn words as integer as 0 and 1\n",
        "word2int = {word: i + 2 for i, word in enumerate(list(vocab))}\n",
        "word2int['-PAD-'] = 0\n",
        "word2int['-UNK-'] = 1 \n",
        " \n",
        "tag2int = {tag: i + 1 for i, tag in enumerate(list(unique_tags))}\n",
        "tag2int['-PAD-'] = 0  "
      ],
      "execution_count": 15,
      "outputs": []
    },
    {
      "cell_type": "code",
      "metadata": {
        "id": "IpDv7b7Tbez7",
        "outputId": "ecab2e5f-4748-4e26-d574-b4855341e46a",
        "colab": {
          "base_uri": "https://localhost:8080/",
          "height": 34
        }
      },
      "source": [
        "word2int['were'], tag2int[\"B\"]"
      ],
      "execution_count": 16,
      "outputs": [
        {
          "output_type": "execute_result",
          "data": {
            "text/plain": [
              "(4130, 1)"
            ]
          },
          "metadata": {
            "tags": []
          },
          "execution_count": 16
        }
      ]
    },
    {
      "cell_type": "code",
      "metadata": {
        "id": "3uIuF22Nbe0C"
      },
      "source": [
        "#Convert test and trainig dataset to integer\n",
        "X_train, X_test, Y_train, Y_test = [],[],[],[]\n",
        "for sent in training_sentences:\n",
        "    sent_to_int = []\n",
        "    for word in sent:\n",
        "        try:\n",
        "            sent_to_int.append(word2int[word.lower()])\n",
        "        except KeyError:\n",
        "            sent_to_int.append(word2int['-UNK-'])\n",
        "    X_train.append(sent_to_int)\n",
        "\n",
        "for sent in test_sentences:\n",
        "    sent_to_int = []\n",
        "    for word in sent:\n",
        "        try:\n",
        "            sent_to_int.append(word2int[word.lower()])\n",
        "        except KeyError:\n",
        "            sent_to_int.append(word2int['-UNK-'])\n",
        "    X_test.append(sent_to_int)\n",
        "    \n",
        "    \n",
        "for sent_tag in training_chunk:\n",
        "    Y_train.append([tag2int[tag] for tag in sent_tag])\n",
        "    \n",
        "for sent_tag in test_chunk:\n",
        "    Y_test.append([tag2int[tag] for tag in sent_tag])"
      ],
      "execution_count": 17,
      "outputs": []
    },
    {
      "cell_type": "code",
      "metadata": {
        "id": "x3nxnJ83be0H",
        "outputId": "0a930730-eca3-4e5b-d009-83f26396f804",
        "colab": {
          "base_uri": "https://localhost:8080/",
          "height": 105
        }
      },
      "source": [
        "print(X_train[0],\"\\n\",Y_train[0])\n",
        "print(X_test[0],\"\\n\",Y_test[0])"
      ],
      "execution_count": 18,
      "outputs": [
        {
          "output_type": "stream",
          "text": [
            "[12531, 2440, 15620, 11362, 9299, 2696, 3499, 2835, 4215, 5738, 3859, 6825, 16725, 5326, 4621, 14910, 2846, 4, 10537, 14910, 6935, 3322, 4, 12348, 2835, 14841, 13476, 10044, 11211, 5911, 15977, 10451, 3213, 1039, 4820, 9454, 16709] \n",
            " [1, 1, 1, 3, 1, 3, 3, 3, 3, 1, 3, 3, 1, 1, 3, 1, 1, 2, 1, 1, 1, 1, 2, 1, 3, 3, 1, 3, 3, 1, 1, 3, 3, 1, 3, 3, 2]\n",
            "[1, 16298, 12660, 1039, 6349, 13757, 3335, 11816, 6234, 13476, 13837, 9557, 1, 10266, 15358, 8389, 2706, 11177, 2835, 12890, 3448, 14345, 14910, 2706, 1039, 15018, 1, 16709] \n",
            " [1, 3, 3, 1, 3, 3, 1, 1, 1, 1, 3, 3, 1, 1, 3, 1, 1, 3, 1, 3, 1, 3, 1, 1, 1, 3, 3, 2]\n"
          ],
          "name": "stdout"
        }
      ]
    },
    {
      "cell_type": "code",
      "metadata": {
        "id": "aS_yp4S-be0O",
        "outputId": "fb3349d6-40bc-43c9-e140-8b1fdb22e41c",
        "colab": {
          "base_uri": "https://localhost:8080/",
          "height": 34
        }
      },
      "source": [
        "#Now we add padding to every sentence for equalling the length to max length of sentences\n",
        "MAX_LENGTH = len(max(X_train, key=len))\n",
        "print(MAX_LENGTH) \n"
      ],
      "execution_count": 19,
      "outputs": [
        {
          "output_type": "stream",
          "text": [
            "78\n"
          ],
          "name": "stdout"
        }
      ]
    },
    {
      "cell_type": "code",
      "metadata": {
        "id": "8hYBacvube0T"
      },
      "source": [
        "from keras.preprocessing.sequence import pad_sequences\n",
        "\n",
        "X_train = pad_sequences(X_train, maxlen=MAX_LENGTH, padding='post')\n",
        "X_test = pad_sequences(X_test, maxlen=MAX_LENGTH, padding='post')\n",
        "Y_train = pad_sequences(Y_train, maxlen=MAX_LENGTH, padding='post')\n",
        "Y_test = pad_sequences(Y_test, maxlen=MAX_LENGTH, padding='post')\n",
        " \n",
        "#print(X_train[0])\n",
        "#print(X_test[0])\n",
        "#print(Y_train[0])\n",
        "#print(Y_test[0])"
      ],
      "execution_count": 20,
      "outputs": []
    },
    {
      "cell_type": "code",
      "metadata": {
        "id": "HKyW3H_eJJH5"
      },
      "source": [
        ""
      ],
      "execution_count": 20,
      "outputs": []
    },
    {
      "cell_type": "markdown",
      "metadata": {
        "id": "hzJv0Y0DJNId"
      },
      "source": [
        "### Model Buildign using keras"
      ]
    },
    {
      "cell_type": "code",
      "metadata": {
        "id": "ONkKhU7obe0c"
      },
      "source": [
        "#we will define the accuracy without consideration of padding beacause if not then accuracy will be high due to \n",
        "#prediction of padding tags\n",
        "\n",
        "from keras import backend as K\n",
        " \n",
        "def no_pad_accuracy(to_ignore=0):\n",
        "    def ignore_accuracy(y_true, y_pred):\n",
        "        y_true_class = K.argmax(y_true, axis=-1)\n",
        "        y_pred_class = K.argmax(y_pred, axis=-1)\n",
        " \n",
        "        ignore_mask = K.cast(K.not_equal(y_pred_class, to_ignore), 'int32')\n",
        "        matches = K.cast(K.equal(y_true_class, y_pred_class), 'int32') * ignore_mask\n",
        "        accuracy = K.sum(matches) / K.maximum(K.sum(ignore_mask), 1)\n",
        "        return accuracy\n",
        "    return ignore_accuracy"
      ],
      "execution_count": 21,
      "outputs": []
    },
    {
      "cell_type": "code",
      "metadata": {
        "id": "A23QZY-7be0h"
      },
      "source": [
        "#Now we define the network architecture\n",
        "#we will use the word embeddins for word to vector\n",
        "#we have used Bidirectional LSTM, and model return a sequence\n",
        "\n",
        "#first import library\n",
        "from keras.models import Sequential\n",
        "from keras.layers import Dense, LSTM, InputLayer, Bidirectional, TimeDistributed, Embedding, Activation\n",
        "from keras.optimizers import Adam"
      ],
      "execution_count": 22,
      "outputs": []
    },
    {
      "cell_type": "code",
      "metadata": {
        "id": "8oPDTMpPbe0m",
        "outputId": "6ae36c68-b584-40ae-9dc4-1893e1fafba6",
        "colab": {
          "base_uri": "https://localhost:8080/",
          "height": 289
        }
      },
      "source": [
        "model = Sequential()\n",
        "model.add(InputLayer(input_shape=(MAX_LENGTH, )))\n",
        "model.add(Embedding(len(word2int), 128))\n",
        "model.add(Bidirectional(LSTM(256, return_sequences=True)))\n",
        "model.add(TimeDistributed(Dense(len(tag2int))))\n",
        "model.add(Activation('softmax'))\n",
        " \n",
        "model.compile(loss='categorical_crossentropy',\n",
        "              optimizer=Adam(0.001),\n",
        "              metrics=['accuracy',no_pad_accuracy(0)])\n",
        " \n",
        "model.summary()"
      ],
      "execution_count": 23,
      "outputs": [
        {
          "output_type": "stream",
          "text": [
            "Model: \"sequential\"\n",
            "_________________________________________________________________\n",
            "Layer (type)                 Output Shape              Param #   \n",
            "=================================================================\n",
            "embedding (Embedding)        (None, 78, 128)           2209280   \n",
            "_________________________________________________________________\n",
            "bidirectional (Bidirectional (None, 78, 512)           788480    \n",
            "_________________________________________________________________\n",
            "time_distributed (TimeDistri (None, 78, 4)             2052      \n",
            "_________________________________________________________________\n",
            "activation (Activation)      (None, 78, 4)             0         \n",
            "=================================================================\n",
            "Total params: 2,999,812\n",
            "Trainable params: 2,999,812\n",
            "Non-trainable params: 0\n",
            "_________________________________________________________________\n"
          ],
          "name": "stdout"
        }
      ]
    },
    {
      "cell_type": "code",
      "metadata": {
        "id": "j9SpzeLxbe0q"
      },
      "source": [
        "#Convert to one hot vector\n",
        "\n",
        "def to_categorical(sequences, categories):\n",
        "    cat_sequences = []\n",
        "    for s in sequences:\n",
        "        cats = []\n",
        "        for item in s:\n",
        "            cats.append(np.zeros(categories))\n",
        "            cats[-1][item] = 1.0\n",
        "        cat_sequences.append(cats)\n",
        "    return np.array(cat_sequences)\n",
        " "
      ],
      "execution_count": 24,
      "outputs": []
    },
    {
      "cell_type": "code",
      "metadata": {
        "id": "6XOqkTYZbe0u"
      },
      "source": [
        "cat_train_tags_y = to_categorical(Y_train, len(tag2int))\n"
      ],
      "execution_count": 25,
      "outputs": []
    },
    {
      "cell_type": "code",
      "metadata": {
        "id": "GQQh3VM5be0y"
      },
      "source": [
        "# cat_train_tags_y[0]"
      ],
      "execution_count": 26,
      "outputs": []
    },
    {
      "cell_type": "markdown",
      "metadata": {
        "id": "kaEwfFy2Jfnv"
      },
      "source": [
        "### Model Training"
      ]
    },
    {
      "cell_type": "code",
      "metadata": {
        "id": "t3mzQsLkbe1T",
        "outputId": "56adbc54-1841-4bf6-fed7-aafbc6c89544",
        "colab": {
          "base_uri": "https://localhost:8080/",
          "height": 564
        }
      },
      "source": [
        "model.fit(X_train, to_categorical(Y_train, len(tag2int)), batch_size=128, epochs=15, validation_split=0.2)\n"
      ],
      "execution_count": 27,
      "outputs": [
        {
          "output_type": "stream",
          "text": [
            "Epoch 1/15\n",
            "56/56 [==============================] - 3s 57ms/step - loss: 0.4548 - accuracy: 0.8115 - ignore_accuracy: 0.4611 - val_loss: 0.2998 - val_accuracy: 0.8502 - val_ignore_accuracy: 0.5258\n",
            "Epoch 2/15\n",
            "56/56 [==============================] - 3s 45ms/step - loss: 0.2559 - accuracy: 0.8829 - ignore_accuracy: 0.6182 - val_loss: 0.1755 - val_accuracy: 0.9346 - val_ignore_accuracy: 0.7855\n",
            "Epoch 3/15\n",
            "56/56 [==============================] - 3s 45ms/step - loss: 0.1069 - accuracy: 0.9607 - ignore_accuracy: 0.8708 - val_loss: 0.0846 - val_accuracy: 0.9682 - val_ignore_accuracy: 0.8957\n",
            "Epoch 4/15\n",
            "56/56 [==============================] - 2s 44ms/step - loss: 0.0582 - accuracy: 0.9805 - ignore_accuracy: 0.9358 - val_loss: 0.0703 - val_accuracy: 0.9745 - val_ignore_accuracy: 0.9163\n",
            "Epoch 5/15\n",
            "56/56 [==============================] - 3s 45ms/step - loss: 0.0453 - accuracy: 0.9855 - ignore_accuracy: 0.9521 - val_loss: 0.0688 - val_accuracy: 0.9758 - val_ignore_accuracy: 0.9207\n",
            "Epoch 6/15\n",
            "56/56 [==============================] - 2s 44ms/step - loss: 0.0393 - accuracy: 0.9876 - ignore_accuracy: 0.9591 - val_loss: 0.0702 - val_accuracy: 0.9759 - val_ignore_accuracy: 0.9210\n",
            "Epoch 7/15\n",
            "56/56 [==============================] - 3s 45ms/step - loss: 0.0345 - accuracy: 0.9893 - ignore_accuracy: 0.9648 - val_loss: 0.0716 - val_accuracy: 0.9761 - val_ignore_accuracy: 0.9216\n",
            "Epoch 8/15\n",
            "56/56 [==============================] - 2s 45ms/step - loss: 0.0310 - accuracy: 0.9904 - ignore_accuracy: 0.9685 - val_loss: 0.0772 - val_accuracy: 0.9748 - val_ignore_accuracy: 0.9173\n",
            "Epoch 9/15\n",
            "56/56 [==============================] - 3s 45ms/step - loss: 0.0277 - accuracy: 0.9916 - ignore_accuracy: 0.9722 - val_loss: 0.0757 - val_accuracy: 0.9759 - val_ignore_accuracy: 0.9211\n",
            "Epoch 10/15\n",
            "56/56 [==============================] - 2s 45ms/step - loss: 0.0249 - accuracy: 0.9925 - ignore_accuracy: 0.9752 - val_loss: 0.0795 - val_accuracy: 0.9758 - val_ignore_accuracy: 0.9206\n",
            "Epoch 11/15\n",
            "56/56 [==============================] - 3s 45ms/step - loss: 0.0224 - accuracy: 0.9932 - ignore_accuracy: 0.9776 - val_loss: 0.0835 - val_accuracy: 0.9749 - val_ignore_accuracy: 0.9177\n",
            "Epoch 12/15\n",
            "56/56 [==============================] - 3s 45ms/step - loss: 0.0205 - accuracy: 0.9939 - ignore_accuracy: 0.9798 - val_loss: 0.0859 - val_accuracy: 0.9751 - val_ignore_accuracy: 0.9185\n",
            "Epoch 13/15\n",
            "56/56 [==============================] - 2s 44ms/step - loss: 0.0181 - accuracy: 0.9947 - ignore_accuracy: 0.9825 - val_loss: 0.0905 - val_accuracy: 0.9748 - val_ignore_accuracy: 0.9174\n",
            "Epoch 14/15\n",
            "56/56 [==============================] - 2s 44ms/step - loss: 0.0157 - accuracy: 0.9955 - ignore_accuracy: 0.9850 - val_loss: 0.0943 - val_accuracy: 0.9744 - val_ignore_accuracy: 0.9161\n",
            "Epoch 15/15\n",
            "56/56 [==============================] - 2s 44ms/step - loss: 0.0143 - accuracy: 0.9958 - ignore_accuracy: 0.9862 - val_loss: 0.1029 - val_accuracy: 0.9739 - val_ignore_accuracy: 0.9144\n"
          ],
          "name": "stdout"
        },
        {
          "output_type": "execute_result",
          "data": {
            "text/plain": [
              "<tensorflow.python.keras.callbacks.History at 0x7f03f62c1550>"
            ]
          },
          "metadata": {
            "tags": []
          },
          "execution_count": 27
        }
      ]
    },
    {
      "cell_type": "code",
      "metadata": {
        "id": "83fOhYGlbe1b",
        "outputId": "ed9e8298-d05e-4922-f7f3-854f440ad5cc",
        "colab": {
          "base_uri": "https://localhost:8080/",
          "height": 51
        }
      },
      "source": [
        "scores = model.evaluate(X_test, to_categorical(Y_test, len(tag2int)))\n",
        "print(f\"{model.metrics_names[2]}: {scores[2] * 100}\")   "
      ],
      "execution_count": 28,
      "outputs": [
        {
          "output_type": "stream",
          "text": [
            "63/63 [==============================] - 0s 7ms/step - loss: 0.1037 - accuracy: 0.9735 - ignore_accuracy: 0.9123\n",
            "ignore_accuracy: 91.22939705848694\n"
          ],
          "name": "stdout"
        }
      ]
    },
    {
      "cell_type": "code",
      "metadata": {
        "id": "0RTM8IoKGEck"
      },
      "source": [
        "\n"
      ],
      "execution_count": 28,
      "outputs": []
    },
    {
      "cell_type": "markdown",
      "metadata": {
        "id": "bB6rlP21Gy47"
      },
      "source": [
        "### Sample Example try"
      ]
    },
    {
      "cell_type": "code",
      "metadata": {
        "id": "uBIkJZVjvoh8",
        "outputId": "833820a3-d243-497b-f3df-4e4e44809d45",
        "colab": {
          "base_uri": "https://localhost:8080/",
          "height": 34
        }
      },
      "source": [
        "test_samples = [\n",
        "    \"we will be having a quiz on monday .\".split(),\n",
        "    \"I am very big fan of lionel messi's playing style .\".split()\n",
        "]\n",
        "print(test_samples)\n",
        " \n",
        "\n",
        " \n"
      ],
      "execution_count": 29,
      "outputs": [
        {
          "output_type": "stream",
          "text": [
            "[['we', 'will', 'be', 'having', 'a', 'quiz', 'on', 'monday', '.'], ['I', 'am', 'very', 'big', 'fan', 'of', 'lionel', \"messi's\", 'playing', 'style', '.']]\n"
          ],
          "name": "stdout"
        }
      ]
    },
    {
      "cell_type": "code",
      "metadata": {
        "id": "qFosmuMxdrJh",
        "outputId": "1043bfb4-6353-4f84-afd9-14822bbce518",
        "colab": {
          "base_uri": "https://localhost:8080/",
          "height": 255
        }
      },
      "source": [
        "test_samples_X = []\n",
        "for s in test_samples:\n",
        "    s_int = []\n",
        "    for w in s:\n",
        "        try:\n",
        "            s_int.append(word2int[w.lower()])\n",
        "        except KeyError:\n",
        "            s_int.append(word2int['-UNK-'])\n",
        "    test_samples_X.append(s_int)\n",
        " \n",
        "test_samples_X = pad_sequences(test_samples_X, maxlen=MAX_LENGTH, padding='post')\n",
        "print(test_samples_X)"
      ],
      "execution_count": 30,
      "outputs": [
        {
          "output_type": "stream",
          "text": [
            "[[ 1237 10548  5828   536 13476 15229 11683  7350 16709     0     0     0\n",
            "      0     0     0     0     0     0     0     0     0     0     0     0\n",
            "      0     0     0     0     0     0     0     0     0     0     0     0\n",
            "      0     0     0     0     0     0     0     0     0     0     0     0\n",
            "      0     0     0     0     0     0     0     0     0     0     0     0\n",
            "      0     0     0     0     0     0     0     0     0     0     0     0\n",
            "      0     0     0     0     0     0]\n",
            " [10853  3599  1723  3725  8297  1408     1     1  6095 12743 16709     0\n",
            "      0     0     0     0     0     0     0     0     0     0     0     0\n",
            "      0     0     0     0     0     0     0     0     0     0     0     0\n",
            "      0     0     0     0     0     0     0     0     0     0     0     0\n",
            "      0     0     0     0     0     0     0     0     0     0     0     0\n",
            "      0     0     0     0     0     0     0     0     0     0     0     0\n",
            "      0     0     0     0     0     0]]\n"
          ],
          "name": "stdout"
        }
      ]
    },
    {
      "cell_type": "code",
      "metadata": {
        "id": "VNr2gLiTv6T0"
      },
      "source": [
        "def logits_to_tokens(sequences, index):\n",
        "    token_sequences = []\n",
        "    for categorical_sequence in sequences:\n",
        "        token_sequence = []\n",
        "        no_pad_tokens=[]\n",
        "        for categorical in categorical_sequence:\n",
        "            token_sequence.append(index[np.argmax(categorical)])\n",
        "\n",
        "        token_sequences.append(token_sequence)\n",
        "    return token_sequences"
      ],
      "execution_count": 31,
      "outputs": []
    },
    {
      "cell_type": "code",
      "metadata": {
        "id": "maRTO2MnyChK"
      },
      "source": [
        "predictions = model.predict(test_samples_X)\n",
        "tag_prediction = (logits_to_tokens(predictions, {i: t for t, i in tag2int.items()}))"
      ],
      "execution_count": 32,
      "outputs": []
    },
    {
      "cell_type": "code",
      "metadata": {
        "id": "5M7T0dUNyE1y"
      },
      "source": [
        "#for converting output tag sequence to without \"-PAD\" tag, if no labels given\n",
        "def pred_no_pad_without_labels(predictions):\n",
        "  final_pred = []\n",
        "  for tag_sent in predictions:\n",
        "    tag_sent_no_pad = []\n",
        "    for tags in tag_sent:\n",
        "      if tags == \"-PAD-\":\n",
        "        break\n",
        "      else:\n",
        "        tag_sent_no_pad.append(tags)\n",
        "    final_pred.append(tag_sent_no_pad)\n",
        "  return final_pred"
      ],
      "execution_count": 33,
      "outputs": []
    },
    {
      "cell_type": "code",
      "metadata": {
        "id": "PiGk9FPvUXT-",
        "outputId": "a6039e87-4689-4785-c783-5ba5e6543ec2",
        "colab": {
          "base_uri": "https://localhost:8080/",
          "height": 34
        }
      },
      "source": [
        "final_pred = pred_no_pad_without_labels(tag_prediction)\n",
        "print(final_pred)\n"
      ],
      "execution_count": 34,
      "outputs": [
        {
          "output_type": "stream",
          "text": [
            "[['B', 'B', 'I', 'B', 'B', 'I', 'B', 'B', 'O'], ['B', 'B', 'B', 'I', 'I', 'B', 'B', 'B', 'B', 'I', 'O']]\n"
          ],
          "name": "stdout"
        }
      ]
    },
    {
      "cell_type": "code",
      "metadata": {
        "id": "LqAyJc0UyJH_"
      },
      "source": [
        "#for converting output tag sequence to without \"-PAD\" tag, if labels given\n",
        "def pred_no_pad_with_labels(predictions,test_tags):\n",
        "  final_pred = []\n",
        "  for i in range(len(predictions)):\n",
        "    k = min(len(test_tags[i]),len(predictions[i]))\n",
        "    tag_sent_no_pad = []\n",
        "    for j in range(k):\n",
        "      tag_sent_no_pad.append(predictions[i][j])\n",
        "    final_pred.append(tag_sent_no_pad)\n",
        "  return final_pred"
      ],
      "execution_count": 35,
      "outputs": []
    },
    {
      "cell_type": "code",
      "metadata": {
        "id": "Dif8C0UQUoO8"
      },
      "source": [
        ""
      ],
      "execution_count": 35,
      "outputs": []
    },
    {
      "cell_type": "markdown",
      "metadata": {
        "id": "qRhaaohvIHOm"
      },
      "source": [
        "### Prediction on test data"
      ]
    },
    {
      "cell_type": "code",
      "metadata": {
        "id": "tD7NzEFiPiP2"
      },
      "source": [
        "test_pred = model.predict(X_test)\n",
        "test_tag_pred = logits_to_tokens(test_pred, {i: t for t, i in tag2int.items()})\n",
        "test_tag_pred_no_pad = pred_no_pad_with_labels(test_tag_pred,test_chunk)"
      ],
      "execution_count": 36,
      "outputs": []
    },
    {
      "cell_type": "code",
      "metadata": {
        "id": "c__810Ab1jDA",
        "outputId": "d201da45-a2cb-4835-e841-994ffb46ec16",
        "colab": {
          "base_uri": "https://localhost:8080/",
          "height": 34
        }
      },
      "source": [
        "#for counting if the length of test tag sequneces and predicted tag sequences are equall or not\n",
        "t=0\n",
        "for i in range(len(test_chunk)):\n",
        "  for j in range(len(test_tag_pred_no_pad)):\n",
        "    if i==j:\n",
        "      if len(test_chunk[i])!=len(test_tag_pred_no_pad[i]):\n",
        "        print(i)\n",
        "        t+=1\n",
        "print(t)\n",
        "\n"
      ],
      "execution_count": 37,
      "outputs": [
        {
          "output_type": "stream",
          "text": [
            "0\n"
          ],
          "name": "stdout"
        }
      ]
    },
    {
      "cell_type": "code",
      "metadata": {
        "id": "Il_LguHxVeKp"
      },
      "source": [
        "d = {\"true_labels\": test_chunk, \"predicted_labels\":test_tag_pred_no_pad}\n",
        "pd_pred = pd.DataFrame(data=d)"
      ],
      "execution_count": 38,
      "outputs": []
    },
    {
      "cell_type": "code",
      "metadata": {
        "id": "PDAEpdGS7nb6"
      },
      "source": [
        ""
      ],
      "execution_count": 38,
      "outputs": []
    },
    {
      "cell_type": "code",
      "metadata": {
        "id": "npN7taxjQKrV",
        "outputId": "b3c2dd68-df09-46fa-a490-dcffb30590c4",
        "colab": {
          "base_uri": "https://localhost:8080/",
          "height": 204
        }
      },
      "source": [
        "pd_pred.head()"
      ],
      "execution_count": 39,
      "outputs": [
        {
          "output_type": "execute_result",
          "data": {
            "text/html": [
              "<div>\n",
              "<style scoped>\n",
              "    .dataframe tbody tr th:only-of-type {\n",
              "        vertical-align: middle;\n",
              "    }\n",
              "\n",
              "    .dataframe tbody tr th {\n",
              "        vertical-align: top;\n",
              "    }\n",
              "\n",
              "    .dataframe thead th {\n",
              "        text-align: right;\n",
              "    }\n",
              "</style>\n",
              "<table border=\"1\" class=\"dataframe\">\n",
              "  <thead>\n",
              "    <tr style=\"text-align: right;\">\n",
              "      <th></th>\n",
              "      <th>true_labels</th>\n",
              "      <th>predicted_labels</th>\n",
              "    </tr>\n",
              "  </thead>\n",
              "  <tbody>\n",
              "    <tr>\n",
              "      <th>0</th>\n",
              "      <td>[B, I, I, B, I, I, B, B, B, B, I, I, B, B, I, ...</td>\n",
              "      <td>[B, B, I, B, I, I, B, B, B, B, I, I, B, B, I, ...</td>\n",
              "    </tr>\n",
              "    <tr>\n",
              "      <th>1</th>\n",
              "      <td>[B, B, B, I, B, B, B, B, I, B, I, I, I, B, B, ...</td>\n",
              "      <td>[B, B, B, I, B, B, B, B, I, I, I, I, I, B, B, ...</td>\n",
              "    </tr>\n",
              "    <tr>\n",
              "      <th>2</th>\n",
              "      <td>[B, B, O, B, B, I, O, B, I, B, I, I, I, O, B, ...</td>\n",
              "      <td>[B, I, O, B, B, I, O, B, I, B, I, I, I, O, B, ...</td>\n",
              "    </tr>\n",
              "    <tr>\n",
              "      <th>3</th>\n",
              "      <td>[B, B, I, I, O, B, B, O, B, B, I, I, B, B, B, ...</td>\n",
              "      <td>[B, B, I, I, O, B, B, O, B, B, I, I, B, B, B, ...</td>\n",
              "    </tr>\n",
              "    <tr>\n",
              "      <th>4</th>\n",
              "      <td>[B, O, B, B, B, I, O, B, O, B, B, I, I, I, I, ...</td>\n",
              "      <td>[B, O, B, B, B, I, O, B, O, B, B, I, I, I, I, ...</td>\n",
              "    </tr>\n",
              "  </tbody>\n",
              "</table>\n",
              "</div>"
            ],
            "text/plain": [
              "                                         true_labels                                   predicted_labels\n",
              "0  [B, I, I, B, I, I, B, B, B, B, I, I, B, B, I, ...  [B, B, I, B, I, I, B, B, B, B, I, I, B, B, I, ...\n",
              "1  [B, B, B, I, B, B, B, B, I, B, I, I, I, B, B, ...  [B, B, B, I, B, B, B, B, I, I, I, I, I, B, B, ...\n",
              "2  [B, B, O, B, B, I, O, B, I, B, I, I, I, O, B, ...  [B, I, O, B, B, I, O, B, I, B, I, I, I, O, B, ...\n",
              "3  [B, B, I, I, O, B, B, O, B, B, I, I, B, B, B, ...  [B, B, I, I, O, B, B, O, B, B, I, I, B, B, B, ...\n",
              "4  [B, O, B, B, B, I, O, B, O, B, B, I, I, I, I, ...  [B, O, B, B, B, I, O, B, O, B, B, I, I, I, I, ..."
            ]
          },
          "metadata": {
            "tags": []
          },
          "execution_count": 39
        }
      ]
    },
    {
      "cell_type": "code",
      "metadata": {
        "id": "PDtJ95LrTn4k"
      },
      "source": [
        "#for confusion matrix we make a one list for true labels and predicted labels each, \n",
        "test_words = []\n",
        "y_true=[]\n",
        "y_pred=[]\n",
        "for sent in test_chunk:\n",
        "  for tag in sent:\n",
        "    y_true.append(tag)\n",
        "\n",
        "for sent in test_tag_pred_no_pad:\n",
        "  for tag in sent:\n",
        "    y_pred.append(tag)\n",
        "\n",
        "for sent in test_sentences:\n",
        "  for word in sent:\n",
        "    test_words.append(word)"
      ],
      "execution_count": 40,
      "outputs": []
    },
    {
      "cell_type": "code",
      "metadata": {
        "id": "2al9S9hA2BH0"
      },
      "source": [
        "d5th = {\"words\":test_words,\"true_label\":y_true,\"predicted_lable\":y_pred}\n",
        "dataframe_5th = pd.DataFrame(data=d5th)\n"
      ],
      "execution_count": 41,
      "outputs": []
    },
    {
      "cell_type": "code",
      "metadata": {
        "id": "_c_qvE9p133U",
        "outputId": "61d1c965-8b77-438c-adf5-babe495f2e4e",
        "colab": {
          "base_uri": "https://localhost:8080/",
          "height": 204
        }
      },
      "source": [
        "dataframe_5th.head()"
      ],
      "execution_count": 42,
      "outputs": [
        {
          "output_type": "execute_result",
          "data": {
            "text/html": [
              "<div>\n",
              "<style scoped>\n",
              "    .dataframe tbody tr th:only-of-type {\n",
              "        vertical-align: middle;\n",
              "    }\n",
              "\n",
              "    .dataframe tbody tr th {\n",
              "        vertical-align: top;\n",
              "    }\n",
              "\n",
              "    .dataframe thead th {\n",
              "        text-align: right;\n",
              "    }\n",
              "</style>\n",
              "<table border=\"1\" class=\"dataframe\">\n",
              "  <thead>\n",
              "    <tr style=\"text-align: right;\">\n",
              "      <th></th>\n",
              "      <th>words</th>\n",
              "      <th>true_label</th>\n",
              "      <th>predicted_lable</th>\n",
              "    </tr>\n",
              "  </thead>\n",
              "  <tbody>\n",
              "    <tr>\n",
              "      <th>0</th>\n",
              "      <td>Rockwell</td>\n",
              "      <td>B</td>\n",
              "      <td>B</td>\n",
              "    </tr>\n",
              "    <tr>\n",
              "      <th>1</th>\n",
              "      <td>International</td>\n",
              "      <td>I</td>\n",
              "      <td>B</td>\n",
              "    </tr>\n",
              "    <tr>\n",
              "      <th>2</th>\n",
              "      <td>Corp.</td>\n",
              "      <td>I</td>\n",
              "      <td>I</td>\n",
              "    </tr>\n",
              "    <tr>\n",
              "      <th>3</th>\n",
              "      <td>'s</td>\n",
              "      <td>B</td>\n",
              "      <td>B</td>\n",
              "    </tr>\n",
              "    <tr>\n",
              "      <th>4</th>\n",
              "      <td>Tulsa</td>\n",
              "      <td>I</td>\n",
              "      <td>I</td>\n",
              "    </tr>\n",
              "  </tbody>\n",
              "</table>\n",
              "</div>"
            ],
            "text/plain": [
              "           words true_label predicted_lable\n",
              "0       Rockwell          B               B\n",
              "1  International          I               B\n",
              "2          Corp.          I               I\n",
              "3             's          B               B\n",
              "4          Tulsa          I               I"
            ]
          },
          "metadata": {
            "tags": []
          },
          "execution_count": 42
        }
      ]
    },
    {
      "cell_type": "code",
      "metadata": {
        "id": "ClIUJnFR43lv"
      },
      "source": [
        ""
      ],
      "execution_count": 42,
      "outputs": []
    },
    {
      "cell_type": "code",
      "metadata": {
        "id": "28ViweqgDFDK",
        "outputId": "3d6bbbd7-d03d-4d9d-fcf3-c1f6ab1ba80e",
        "colab": {
          "base_uri": "https://localhost:8080/",
          "height": 309
        }
      },
      "source": [
        "from sklearn.metrics import classification_report\n",
        "print('\\nClassification Report\\n')\n",
        "print(classification_report(y_true, y_pred, target_names=['-PAD-']+list(unique_tags)))"
      ],
      "execution_count": 43,
      "outputs": [
        {
          "output_type": "stream",
          "text": [
            "\n",
            "Classification Report\n",
            "\n",
            "              precision    recall  f1-score   support\n",
            "\n",
            "       -PAD-       0.00      0.00      0.00         0\n",
            "           B       0.91      0.94      0.92     23852\n",
            "           O       0.91      0.85      0.88     17345\n",
            "           I       0.93      0.96      0.94      6180\n",
            "\n",
            "    accuracy                           0.91     47377\n",
            "   macro avg       0.69      0.69      0.69     47377\n",
            "weighted avg       0.91      0.91      0.91     47377\n",
            "\n"
          ],
          "name": "stdout"
        },
        {
          "output_type": "stream",
          "text": [
            "/usr/local/lib/python3.6/dist-packages/sklearn/metrics/_classification.py:1272: UndefinedMetricWarning: Recall and F-score are ill-defined and being set to 0.0 in labels with no true samples. Use `zero_division` parameter to control this behavior.\n",
            "  _warn_prf(average, modifier, msg_start, len(result))\n"
          ],
          "name": "stderr"
        }
      ]
    },
    {
      "cell_type": "code",
      "metadata": {
        "id": "ivRZXZ3yDrjE",
        "outputId": "c4769223-45fa-4572-9ec0-cb9a784597ac",
        "colab": {
          "base_uri": "https://localhost:8080/",
          "height": 119
        }
      },
      "source": [
        "from sklearn.metrics import confusion_matrix\n",
        "confusion = confusion_matrix(y_true, y_pred,labels=list(unique_tags)+['-PAD-'])\n",
        "print('Confusion Matrix\\n')\n",
        "print(confusion)\n"
      ],
      "execution_count": 44,
      "outputs": [
        {
          "output_type": "stream",
          "text": [
            "Confusion Matrix\n",
            "\n",
            "[[22485   102  1263     2]\n",
            " [  104  5917   159     0]\n",
            " [ 2179   344 14819     3]\n",
            " [    0     0     0     0]]\n"
          ],
          "name": "stdout"
        }
      ]
    },
    {
      "cell_type": "code",
      "metadata": {
        "id": "RIF1nqb3Wtt2"
      },
      "source": [
        "pd_confusion = pd.DataFrame((confusion), columns=list(unique_tags)+['-PAD-'],index=list(unique_tags)+['-PAD-'])"
      ],
      "execution_count": 45,
      "outputs": []
    },
    {
      "cell_type": "code",
      "metadata": {
        "id": "zIvhCfbBEgBf",
        "outputId": "b4aea08e-7976-4273-f87a-03956dcca3af",
        "colab": {
          "base_uri": "https://localhost:8080/",
          "height": 173
        }
      },
      "source": [
        "pd_confusion"
      ],
      "execution_count": 46,
      "outputs": [
        {
          "output_type": "execute_result",
          "data": {
            "text/html": [
              "<div>\n",
              "<style scoped>\n",
              "    .dataframe tbody tr th:only-of-type {\n",
              "        vertical-align: middle;\n",
              "    }\n",
              "\n",
              "    .dataframe tbody tr th {\n",
              "        vertical-align: top;\n",
              "    }\n",
              "\n",
              "    .dataframe thead th {\n",
              "        text-align: right;\n",
              "    }\n",
              "</style>\n",
              "<table border=\"1\" class=\"dataframe\">\n",
              "  <thead>\n",
              "    <tr style=\"text-align: right;\">\n",
              "      <th></th>\n",
              "      <th>B</th>\n",
              "      <th>O</th>\n",
              "      <th>I</th>\n",
              "      <th>-PAD-</th>\n",
              "    </tr>\n",
              "  </thead>\n",
              "  <tbody>\n",
              "    <tr>\n",
              "      <th>B</th>\n",
              "      <td>22485</td>\n",
              "      <td>102</td>\n",
              "      <td>1263</td>\n",
              "      <td>2</td>\n",
              "    </tr>\n",
              "    <tr>\n",
              "      <th>O</th>\n",
              "      <td>104</td>\n",
              "      <td>5917</td>\n",
              "      <td>159</td>\n",
              "      <td>0</td>\n",
              "    </tr>\n",
              "    <tr>\n",
              "      <th>I</th>\n",
              "      <td>2179</td>\n",
              "      <td>344</td>\n",
              "      <td>14819</td>\n",
              "      <td>3</td>\n",
              "    </tr>\n",
              "    <tr>\n",
              "      <th>-PAD-</th>\n",
              "      <td>0</td>\n",
              "      <td>0</td>\n",
              "      <td>0</td>\n",
              "      <td>0</td>\n",
              "    </tr>\n",
              "  </tbody>\n",
              "</table>\n",
              "</div>"
            ],
            "text/plain": [
              "           B     O      I  -PAD-\n",
              "B      22485   102   1263      2\n",
              "O        104  5917    159      0\n",
              "I       2179   344  14819      3\n",
              "-PAD-      0     0      0      0"
            ]
          },
          "metadata": {
            "tags": []
          },
          "execution_count": 46
        }
      ]
    },
    {
      "cell_type": "code",
      "metadata": {
        "id": "Kn4ARPUulUSb"
      },
      "source": [
        ""
      ],
      "execution_count": 46,
      "outputs": []
    },
    {
      "cell_type": "code",
      "metadata": {
        "id": "pDiEH_Ado8fg"
      },
      "source": [
        ""
      ],
      "execution_count": 46,
      "outputs": []
    },
    {
      "cell_type": "code",
      "metadata": {
        "id": "wFsaXjpn1gUS"
      },
      "source": [
        ""
      ],
      "execution_count": 46,
      "outputs": []
    }
  ]
}