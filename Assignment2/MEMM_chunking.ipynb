{
  "nbformat": 4,
  "nbformat_minor": 0,
  "metadata": {
    "kernelspec": {
      "display_name": "Python 3",
      "language": "python",
      "name": "python3"
    },
    "language_info": {
      "codemirror_mode": {
        "name": "ipython",
        "version": 3
      },
      "file_extension": ".py",
      "mimetype": "text/x-python",
      "name": "python",
      "nbconvert_exporter": "python",
      "pygments_lexer": "ipython3",
      "version": "3.8.5"
    },
    "colab": {
      "name": "MEMM_chunking.ipynb",
      "provenance": []
    },
    "accelerator": "GPU"
  },
  "cells": [
    {
      "cell_type": "code",
      "metadata": {
        "id": "B9OCtvvLJRJq"
      },
      "source": [
        "import nltk\n",
        "from nltk.stem.porter import *\n",
        "from nltk.classify import MaxentClassifier\n",
        "import pickle\n",
        "import os,sys\n",
        "from io import open\n"
      ],
      "execution_count": null,
      "outputs": []
    },
    {
      "cell_type": "code",
      "metadata": {
        "id": "lsSvbqeTJcBL",
        "colab": {
          "base_uri": "https://localhost:8080/"
        },
        "outputId": "79fc277a-c17d-4149-8098-63b882d2870e"
      },
      "source": [
        "from google.colab import drive\n",
        "drive.mount('/content/drive')"
      ],
      "execution_count": null,
      "outputs": [
        {
          "output_type": "stream",
          "text": [
            "Drive already mounted at /content/drive; to attempt to forcibly remount, call drive.mount(\"/content/drive\", force_remount=True).\n"
          ],
          "name": "stdout"
        }
      ]
    },
    {
      "cell_type": "code",
      "metadata": {
        "id": "D6yc-3mVJ6VF",
        "colab": {
          "base_uri": "https://localhost:8080/"
        },
        "outputId": "916dcf74-cc39-41ff-bc7e-1649c685001c"
      },
      "source": [
        "cd '/content/drive/My Drive/Assignment2'"
      ],
      "execution_count": null,
      "outputs": [
        {
          "output_type": "stream",
          "text": [
            "/content/drive/My Drive/Assignment2\n"
          ],
          "name": "stdout"
        }
      ]
    },
    {
      "cell_type": "code",
      "metadata": {
        "id": "r4cUBqYMJRJy"
      },
      "source": [
        "\n",
        "change_of_sentence_flag = 0 #a marker for the end of sentence\n",
        "boi_full_list = [] #store all the boi tags that occur in the training set\n",
        "boi_end_list = [] #store boi tags that are at the end of the sentence\n",
        "wordStartList = [] #store words that are begining of the sentence\n",
        "BOI_list = ['B', 'I', 'O']\n",
        "labeled_features = []\n",
        "\n",
        "training_file = open(\"data/train.txt\", \"r\")\n",
        "testing_file = open(\"data/test.txt\", \"r\")\n",
        "\n",
        "#****************************************************************building input features part.1\n",
        "previous_BOI = \"Start\"\n",
        "previous_previous_BOI = \"Start\"\n",
        "prev_tag = \"^\"\n",
        "prev_prev_tag = \"^\"\n",
        "prev_word = \"^\"\n",
        "prev_prev_word = \"^\" \n",
        "\n",
        "input_file = training_file\n",
        "for i,line in enumerate(input_file):\n",
        "    s = line == '\\n'\n",
        "    if s:\n",
        "        change_of_sentence_flag = 1\n",
        "        previous_BOI = \"Start\"\n",
        "        previous_previous_BOI = \"Start\"\n",
        "        prev_tag = \"^\"\n",
        "        prev_prev_tag = \"^\"\n",
        "        prev_word = \"^\"\n",
        "        prev_prev_word = \"^\"\n",
        "\n",
        "    else:\n",
        "        #print(sentenceList)\n",
        "        sentenceList = line.split()\n",
        "        word = sentenceList[0]\n",
        "        tag = sentenceList[1]\n",
        "        boi = sentenceList[2][0] \n",
        "\n",
        "        #store words that are begining of the sentence\n",
        "        if change_of_sentence_flag == 1:\n",
        "            wordStartList.append(word)\n",
        "            boi_end_list.append(boi_full_list[-1])\n",
        "            change_of_sentence_flag = 0\n",
        "        boi_full_list.append(boi)\n",
        "        item = (word, prev_word, prev_prev_word, tag, prev_tag, prev_prev_tag, previous_BOI, previous_previous_BOI, boi)\n",
        "        labeled_features.append(item)\n",
        "\n",
        "        previous_previous_BOI = previous_BOI\n",
        "        previous_BOI = boi\n",
        "        prev_prev_tag = prev_tag\n",
        "        prev_tag = tag\n",
        "        prev_prev_word = prev_word \n",
        "        prev_word = word\n",
        "            #labeled_features \n",
        "\n",
        "\n",
        "#print(labeled_features)\n",
        "#unlabeled_features = []\n",
        "\n",
        "input_file.close()\n",
        "#****************************************************************calculate End Transition\n",
        "#calculate the End prior\n",
        "dicE = {} #temporarry dic \n",
        "\n",
        "#calculate the prior (End|state) = C(state, End)/C(state) \n",
        "for i in BOI_list:\n",
        "    countTag = boi_full_list.count(i)\n",
        "    countEnd = boi_end_list.count(i)\n",
        "    ProbE = format(countEnd/(countTag*1.0), '.5f')\n",
        "    dicE.update({i: {\"END\":ProbE}})\n"
      ],
      "execution_count": null,
      "outputs": []
    },
    {
      "cell_type": "code",
      "metadata": {
        "id": "N89QAY1YJRJ2"
      },
      "source": [
        "#****************************************************************building input features part.2\n",
        "def MEMM_features(item):\n",
        "    stemmer = PorterStemmer() \n",
        "    features = {}\n",
        "    features['current_word'] = item[0]\n",
        "    # features['current_tag'] = item[3]\n",
        "    features['prev_word'] = item[1]\n",
        "    # features['prev_tag'] = item[4]\n",
        "    features['prev_prev_word'] = item[2]\n",
        "    # features['prev_prev_tag'] = item[5]\n",
        "    features['prev_chunk'] = item[6]\n",
        "    features['prev_prev_chunk'] = item[7]\n",
        "\n",
        "    features['capitalization'] = word[0].isupper()\n",
        "    features['start_of_sentence'] = word in wordStartList\n",
        "    features['cap_start'] = word not in wordStartList and word[0].isupper()\n",
        "\n",
        "    return features"
      ],
      "execution_count": null,
      "outputs": []
    },
    {
      "cell_type": "code",
      "metadata": {
        "id": "Xa30NnXvJRJ7",
        "colab": {
          "base_uri": "https://localhost:8080/"
        },
        "outputId": "371834f4-a15e-4a13-e9ae-8d1eee70a021"
      },
      "source": [
        "#*******************************************************************train the model\n",
        "\n",
        "labeled_featuresets = [(MEMM_features(item[:-1]),item[-1]) for item in labeled_features]\n",
        "train_set = labeled_featuresets\n",
        "\n",
        "f = open(\"my_classifier.pickle\", \"wb\")\n",
        "maxent_classifier = MaxentClassifier.train(train_set, max_iter=25)\n",
        "pickle.dump(maxent_classifier , f)\n",
        "f.close() "
      ],
      "execution_count": null,
      "outputs": [
        {
          "output_type": "stream",
          "text": [
            "  ==> Training (25 iterations)\n",
            "\n",
            "      Iteration    Log Likelihood    Accuracy\n",
            "      ---------------------------------------\n",
            "             1          -1.09861        0.132\n",
            "             2          -0.63447        0.774\n",
            "             3          -0.49117        0.853\n",
            "             4          -0.40633        0.890\n",
            "             5          -0.35158        0.908\n",
            "             6          -0.31348        0.917\n",
            "             7          -0.28539        0.923\n",
            "             8          -0.26375        0.928\n",
            "             9          -0.24649        0.932\n",
            "            10          -0.23235        0.935\n",
            "            11          -0.22051        0.937\n",
            "            12          -0.21041        0.940\n",
            "            13          -0.20168        0.941\n",
            "            14          -0.19404        0.943\n",
            "            15          -0.18727        0.947\n",
            "            16          -0.18122        0.948\n",
            "            17          -0.17577        0.950\n",
            "            18          -0.17083        0.951\n",
            "            19          -0.16633        0.952\n",
            "            20          -0.16220        0.953\n",
            "            21          -0.15839        0.954\n",
            "            22          -0.15487        0.955\n",
            "            23          -0.15160        0.956\n",
            "            24          -0.14855        0.957\n",
            "         Final          -0.14569        0.957\n"
          ],
          "name": "stdout"
        }
      ]
    },
    {
      "cell_type": "code",
      "metadata": {
        "id": "wFtDmBVBJRKB"
      },
      "source": [
        "#********************************************************************Viterbi\n",
        "def MEMM(wordList,tagList):\n",
        "    previous_BOI = \"Start\"\n",
        "    previous_previous_BOI = \"Start\"\n",
        "    prev_tag = \"^\"\n",
        "    prev_prev_tag = \"^\"\n",
        "    prev_word = \"^\"\n",
        "    prev_prev_word = \"^\"\n",
        "    BOI_list = ['B', 'I', 'O']\n",
        "  \n",
        "    w1 = wordList[0]\n",
        "    t1 = tagList[0]\n",
        "    tRange = len(BOI_list)\n",
        "    wRange = len(wordList)\n",
        "\n",
        "    item = [w1, prev_word, prev_prev_word, t1, prev_tag, prev_prev_tag, previous_BOI, previous_previous_BOI]\n",
        "\n",
        "    viterbi = [[0 for x in range(300)] for x in range(10)] \n",
        "    backpointer = [['' for x in range(300)] for x in range(10)] \n",
        "\n",
        "    for t in range(tRange):#t = 0,1,2\n",
        "        probability = maxent_classifier.prob_classify(MEMM_features(item)) \n",
        "        posterior = float(probability.prob(BOI_list[t]))\n",
        "        viterbi[t][1] = posterior\n",
        "        backpointer[t][1] = 'Start'\n",
        "\n",
        "    #for word w from 2 to T\n",
        "    maxViterbi = 0\n",
        "    maxPreviousState = 0 \n",
        "    for w in range (1, wRange):\n",
        "        word = wordList[w]\n",
        "        tag = tagList[w]\n",
        "        item[2] = item[1]\n",
        "        item[1] = item[0]\n",
        "        item[0] = word\n",
        "        item[5] = item[4]\n",
        "        item[4] = item[3]\n",
        "        item[3] = tag\n",
        "\n",
        "        for t in range (tRange):\n",
        "            item[6] = BOI_list[0]\n",
        "            item[7] = backpointer[0][w]\n",
        "            probability = maxent_classifier.prob_classify(MEMM_features(item)) \n",
        "            posterior = float(probability.prob(BOI_list[t]))\n",
        "            maxViterbi = float(viterbi[0][w]) * posterior\n",
        "            maxPreviousState = 0\n",
        "            for i in range (1, tRange):\n",
        "                item[6] = BOI_list[i]\n",
        "                item[7] = backpointer[i][w]\n",
        "                probability = maxent_classifier.prob_classify(MEMM_features(item)) \n",
        "                posterior = float(probability.prob(BOI_list[t]))\n",
        "                if float(viterbi[i][w]) * posterior > maxViterbi:\n",
        "                    maxViterbi = float(viterbi[i][w]) * posterior\n",
        "                    maxPreviousState = i\n",
        "            viterbi[t][w+1] = maxViterbi\n",
        "            backpointer[t][w+1] = BOI_list[maxPreviousState]\n",
        "            \n",
        "            maxViterbi = 0\n",
        "            maxPreviousState = 0 \n",
        "\n",
        "    #viterbi[qF, T] = max (viterbi[s,T] *as,qF)\n",
        "    maxPreTerminalProb = float(viterbi[0][wRange] )* float(dicE[BOI_list[0]][\"END\"])\n",
        "\n",
        "    maxPreviousState = 0\n",
        "    for i in range (1, tRange):\t\n",
        "        if float(viterbi[i][wRange]) * float(dicE[BOI_list[i]][\"END\"]) > maxPreTerminalProb:\n",
        "            maxPreTerminalProb = float(viterbi[i][wRange]) * float(dicE[BOI_list[i]][\"END\"]) \n",
        "            maxPreviousState = i\n",
        "\n",
        "    viterbi[tRange][wRange+1] = maxPreTerminalProb \n",
        "    backpointer[tRange][wRange+1] = BOI_list[maxPreviousState]\n",
        "    #return POS tag path \n",
        "    pathReverse = [BOI_list[maxPreviousState]]\n",
        "    maxPreviousTag = BOI_list[maxPreviousState]\n",
        "\n",
        "    i = 0\n",
        "    while i < (wRange -1):\n",
        "        pathReverse.append(backpointer[BOI_list.index(maxPreviousTag)][wRange - i])\n",
        "        maxPreviousTag = backpointer[BOI_list.index(maxPreviousTag)][wRange - i]\n",
        "        i = i + 1 \n",
        "\n",
        "    #reverse the path to make it correct\n",
        "    index = len(pathReverse)\n",
        "    path = []\n",
        "    while index >= 1 :\n",
        "        path.append(pathReverse[index - 1])\n",
        "        index = index -1 \n",
        "    return path\n"
      ],
      "execution_count": null,
      "outputs": []
    },
    {
      "cell_type": "code",
      "metadata": {
        "id": "d3UPZpIMJRKF"
      },
      "source": [
        "#*******************************************************************MaxEnt+Viterbi = MEMM\n",
        "#main()\n",
        "output_file = open(\"boi_output.txt\", \"w\")\n",
        "wordList = []\n",
        "tagList = []\n",
        "boiList = []\n",
        "BOI_list = ['B', 'I', 'O']\n",
        "full_boiList = []\n",
        "full_path = []\n",
        "\n",
        "input_file = testing_file\n",
        "for line in input_file:\t\n",
        "    if line.strip() != '':\n",
        "        sentenceList = line.split()\n",
        "        word = sentenceList[0]\n",
        "        tag = sentenceList[1]\n",
        "        boi = sentenceList[2][0]\n",
        "        wordList.append(word)\n",
        "        tagList.append(tag)\n",
        "        boiList.append(boi)\n",
        "        full_boiList.append(boi)\n",
        "\n",
        "    s = re.match(\"\\n\", line)\n",
        "    if s:\n",
        "        path = MEMM(wordList, tagList)\n",
        "        \n",
        "        for i in range(len(wordList)):\n",
        "            output_file.write(wordList[i]+\"\t\"+ tagList[i]+ \" \" + boiList[i] + \" \" + path[i] + \"\\n\")\n",
        "            full_path.append(path[i])\n",
        "        output_file.write(\"\\n\")\n",
        "        wordList = []\n",
        "        tagList = []\n",
        "        boiList = []\n",
        "        labeled_features = []\n",
        "\n",
        "input_file.close()\n",
        "output_file.close()"
      ],
      "execution_count": null,
      "outputs": []
    },
    {
      "cell_type": "code",
      "metadata": {
        "id": "EOwQOlFDs-vw",
        "colab": {
          "base_uri": "https://localhost:8080/"
        },
        "outputId": "44e0ff9b-b772-497e-edf4-ef1046e3ce26"
      },
      "source": [
        "print(len(full_boiList),len(full_path))"
      ],
      "execution_count": null,
      "outputs": [
        {
          "output_type": "stream",
          "text": [
            "47377 47377\n"
          ],
          "name": "stdout"
        }
      ]
    },
    {
      "cell_type": "code",
      "metadata": {
        "id": "yZenIs4KY8sK"
      },
      "source": [
        "from sklearn.metrics import accuracy_score, classification_report, confusion_matrix\n",
        "import matplotlib.pyplot as plt\n",
        "import numpy as np\n",
        "import itertools\n",
        "import pandas as pd\n"
      ],
      "execution_count": null,
      "outputs": []
    },
    {
      "cell_type": "code",
      "metadata": {
        "id": "_CQUaNB0d1Ga"
      },
      "source": [
        "cm = confusion_matrix(full_boiList, full_path,labels=BOI_list)\n",
        "pd_confusion = pd.DataFrame((cm), columns=BOI_list,index=BOI_list)\n"
      ],
      "execution_count": null,
      "outputs": []
    },
    {
      "cell_type": "code",
      "metadata": {
        "id": "NAqV37GTr3mT",
        "colab": {
          "base_uri": "https://localhost:8080/",
          "height": 142
        },
        "outputId": "c8d31364-6b0e-42b6-8106-53ade5cd408a"
      },
      "source": [
        "pd_confusion"
      ],
      "execution_count": null,
      "outputs": [
        {
          "output_type": "execute_result",
          "data": {
            "text/html": [
              "<div>\n",
              "<style scoped>\n",
              "    .dataframe tbody tr th:only-of-type {\n",
              "        vertical-align: middle;\n",
              "    }\n",
              "\n",
              "    .dataframe tbody tr th {\n",
              "        vertical-align: top;\n",
              "    }\n",
              "\n",
              "    .dataframe thead th {\n",
              "        text-align: right;\n",
              "    }\n",
              "</style>\n",
              "<table border=\"1\" class=\"dataframe\">\n",
              "  <thead>\n",
              "    <tr style=\"text-align: right;\">\n",
              "      <th></th>\n",
              "      <th>B</th>\n",
              "      <th>I</th>\n",
              "      <th>O</th>\n",
              "    </tr>\n",
              "  </thead>\n",
              "  <tbody>\n",
              "    <tr>\n",
              "      <th>B</th>\n",
              "      <td>22175</td>\n",
              "      <td>1585</td>\n",
              "      <td>92</td>\n",
              "    </tr>\n",
              "    <tr>\n",
              "      <th>I</th>\n",
              "      <td>1397</td>\n",
              "      <td>15641</td>\n",
              "      <td>307</td>\n",
              "    </tr>\n",
              "    <tr>\n",
              "      <th>O</th>\n",
              "      <td>184</td>\n",
              "      <td>287</td>\n",
              "      <td>5709</td>\n",
              "    </tr>\n",
              "  </tbody>\n",
              "</table>\n",
              "</div>"
            ],
            "text/plain": [
              "       B      I     O\n",
              "B  22175   1585    92\n",
              "I   1397  15641   307\n",
              "O    184    287  5709"
            ]
          },
          "metadata": {
            "tags": []
          },
          "execution_count": 34
        }
      ]
    },
    {
      "cell_type": "code",
      "metadata": {
        "id": "fspBRG27soad",
        "colab": {
          "base_uri": "https://localhost:8080/"
        },
        "outputId": "b3e6449b-061b-437e-9aa2-6421362637a0"
      },
      "source": [
        "print(classification_report(full_boiList, full_path, BOI_list))"
      ],
      "execution_count": null,
      "outputs": [
        {
          "output_type": "stream",
          "text": [
            "              precision    recall  f1-score   support\n",
            "\n",
            "           B       0.93      0.93      0.93     23852\n",
            "           I       0.89      0.90      0.90     17345\n",
            "           O       0.93      0.92      0.93      6180\n",
            "\n",
            "    accuracy                           0.92     47377\n",
            "   macro avg       0.92      0.92      0.92     47377\n",
            "weighted avg       0.92      0.92      0.92     47377\n",
            "\n"
          ],
          "name": "stdout"
        }
      ]
    },
    {
      "cell_type": "code",
      "metadata": {
        "id": "tfYA6XF_r6IX"
      },
      "source": [
        "def plot_confusion_matrix(cm, tag_list):\n",
        "  accuracy = np.trace(cm) / float(np.sum(cm))\n",
        "  misclass = 1 - accuracy\n",
        "  cm = cm.astype('float')/(cm.sum(axis=1).reshape((len(tag_list),1)))\n",
        "  cmap = plt.get_cmap('Blues')\n",
        "\n",
        "  plt.figure(figsize=(12, 9))\n",
        "  plt.imshow(cm, interpolation='nearest', cmap=cmap)\n",
        "  plt.title('Confusion matrix')\n",
        "  plt.colorbar()\n",
        "\n",
        "  tick_marks = np.arange(len(tag_list))\n",
        "  plt.xticks(tick_marks, tag_list)\n",
        "  plt.yticks(tick_marks, tag_list)\n",
        "\n",
        "  thresh = cm.max() / 1.5\n",
        "  for i, j in itertools.product(range(cm.shape[0]), range(cm.shape[1])):\n",
        "      plt.text(j, i, \"{:0.4f}\".format(cm[i, j]), horizontalalignment=\"center\", color=\"white\" if cm[i, j] > thresh else \"black\")\n",
        "      \n",
        "  plt.tight_layout()\n",
        "  plt.ylabel('True label')\n",
        "  plt.xlabel('Predicted label\\naccuracy={:0.4f}; misclass={:0.4f}'.format(accuracy, misclass))\n",
        "  plt.show()"
      ],
      "execution_count": null,
      "outputs": []
    },
    {
      "cell_type": "code",
      "metadata": {
        "id": "HW9Sfs07sUUS",
        "colab": {
          "base_uri": "https://localhost:8080/",
          "height": 683
        },
        "outputId": "1138e3dd-0d16-4693-8e15-ad69fd227ee2"
      },
      "source": [
        "plot_confusion_matrix(cm, BOI_list)\n"
      ],
      "execution_count": null,
      "outputs": [
        {
          "output_type": "display_data",
          "data": {
            "image/png": "[encoded data removed]",
            "text/plain": [
              "<Figure size 864x648 with 2 Axes>"
            ]
          },
          "metadata": {
            "tags": [],
            "needs_background": "light"
          }
        }
      ]
    },
    {
      "cell_type": "code",
      "metadata": {
        "id": "jQaIrhwcsVAF"
      },
      "source": [
        ""
      ],
      "execution_count": null,
      "outputs": []
    }
  ]
}